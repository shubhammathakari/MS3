{
 "cells": [
  {
   "cell_type": "code",
   "execution_count": 2,
   "metadata": {},
   "outputs": [],
   "source": [
    "import pandas as pd\n",
    "import numpy as np"
   ]
  },
  {
   "cell_type": "code",
   "execution_count": 3,
   "metadata": {},
   "outputs": [],
   "source": [
    "data=pd.read_csv('perrin-freres-monthly-champagne-.csv')"
   ]
  },
  {
   "cell_type": "code",
   "execution_count": 4,
   "metadata": {},
   "outputs": [
    {
     "data": {
      "text/html": [
       "<div>\n",
       "<style scoped>\n",
       "    .dataframe tbody tr th:only-of-type {\n",
       "        vertical-align: middle;\n",
       "    }\n",
       "\n",
       "    .dataframe tbody tr th {\n",
       "        vertical-align: top;\n",
       "    }\n",
       "\n",
       "    .dataframe thead th {\n",
       "        text-align: right;\n",
       "    }\n",
       "</style>\n",
       "<table border=\"1\" class=\"dataframe\">\n",
       "  <thead>\n",
       "    <tr style=\"text-align: right;\">\n",
       "      <th></th>\n",
       "      <th>Month</th>\n",
       "      <th>Perrin Freres monthly champagne sales millions ?64-?72</th>\n",
       "    </tr>\n",
       "  </thead>\n",
       "  <tbody>\n",
       "    <tr>\n",
       "      <th>0</th>\n",
       "      <td>1964-01</td>\n",
       "      <td>2815.0</td>\n",
       "    </tr>\n",
       "    <tr>\n",
       "      <th>1</th>\n",
       "      <td>1964-02</td>\n",
       "      <td>2672.0</td>\n",
       "    </tr>\n",
       "    <tr>\n",
       "      <th>2</th>\n",
       "      <td>1964-03</td>\n",
       "      <td>2755.0</td>\n",
       "    </tr>\n",
       "    <tr>\n",
       "      <th>3</th>\n",
       "      <td>1964-04</td>\n",
       "      <td>2721.0</td>\n",
       "    </tr>\n",
       "    <tr>\n",
       "      <th>4</th>\n",
       "      <td>1964-05</td>\n",
       "      <td>2946.0</td>\n",
       "    </tr>\n",
       "  </tbody>\n",
       "</table>\n",
       "</div>"
      ],
      "text/plain": [
       "     Month  Perrin Freres monthly champagne sales millions ?64-?72\n",
       "0  1964-01                                             2815.0     \n",
       "1  1964-02                                             2672.0     \n",
       "2  1964-03                                             2755.0     \n",
       "3  1964-04                                             2721.0     \n",
       "4  1964-05                                             2946.0     "
      ]
     },
     "execution_count": 4,
     "metadata": {},
     "output_type": "execute_result"
    }
   ],
   "source": [
    "data.head()"
   ]
  },
  {
   "cell_type": "code",
   "execution_count": 5,
   "metadata": {},
   "outputs": [
    {
     "data": {
      "text/html": [
       "<div>\n",
       "<style scoped>\n",
       "    .dataframe tbody tr th:only-of-type {\n",
       "        vertical-align: middle;\n",
       "    }\n",
       "\n",
       "    .dataframe tbody tr th {\n",
       "        vertical-align: top;\n",
       "    }\n",
       "\n",
       "    .dataframe thead th {\n",
       "        text-align: right;\n",
       "    }\n",
       "</style>\n",
       "<table border=\"1\" class=\"dataframe\">\n",
       "  <thead>\n",
       "    <tr style=\"text-align: right;\">\n",
       "      <th></th>\n",
       "      <th>Month</th>\n",
       "      <th>Sales</th>\n",
       "    </tr>\n",
       "  </thead>\n",
       "  <tbody>\n",
       "    <tr>\n",
       "      <th>0</th>\n",
       "      <td>1964-01</td>\n",
       "      <td>2815.0</td>\n",
       "    </tr>\n",
       "    <tr>\n",
       "      <th>1</th>\n",
       "      <td>1964-02</td>\n",
       "      <td>2672.0</td>\n",
       "    </tr>\n",
       "    <tr>\n",
       "      <th>2</th>\n",
       "      <td>1964-03</td>\n",
       "      <td>2755.0</td>\n",
       "    </tr>\n",
       "    <tr>\n",
       "      <th>3</th>\n",
       "      <td>1964-04</td>\n",
       "      <td>2721.0</td>\n",
       "    </tr>\n",
       "    <tr>\n",
       "      <th>4</th>\n",
       "      <td>1964-05</td>\n",
       "      <td>2946.0</td>\n",
       "    </tr>\n",
       "  </tbody>\n",
       "</table>\n",
       "</div>"
      ],
      "text/plain": [
       "     Month   Sales\n",
       "0  1964-01  2815.0\n",
       "1  1964-02  2672.0\n",
       "2  1964-03  2755.0\n",
       "3  1964-04  2721.0\n",
       "4  1964-05  2946.0"
      ]
     },
     "execution_count": 5,
     "metadata": {},
     "output_type": "execute_result"
    }
   ],
   "source": [
    "data.columns=['Month','Sales']\n",
    "data.head()"
   ]
  },
  {
   "cell_type": "code",
   "execution_count": 6,
   "metadata": {},
   "outputs": [
    {
     "data": {
      "text/plain": [
       "(107, 2)"
      ]
     },
     "execution_count": 6,
     "metadata": {},
     "output_type": "execute_result"
    }
   ],
   "source": [
    "data.shape"
   ]
  },
  {
   "cell_type": "code",
   "execution_count": 7,
   "metadata": {},
   "outputs": [
    {
     "data": {
      "text/plain": [
       "Month    1\n",
       "Sales    2\n",
       "dtype: int64"
      ]
     },
     "execution_count": 7,
     "metadata": {},
     "output_type": "execute_result"
    }
   ],
   "source": [
    "data.isnull().sum()"
   ]
  },
  {
   "cell_type": "code",
   "execution_count": 8,
   "metadata": {},
   "outputs": [
    {
     "data": {
      "text/html": [
       "<div>\n",
       "<style scoped>\n",
       "    .dataframe tbody tr th:only-of-type {\n",
       "        vertical-align: middle;\n",
       "    }\n",
       "\n",
       "    .dataframe tbody tr th {\n",
       "        vertical-align: top;\n",
       "    }\n",
       "\n",
       "    .dataframe thead th {\n",
       "        text-align: right;\n",
       "    }\n",
       "</style>\n",
       "<table border=\"1\" class=\"dataframe\">\n",
       "  <thead>\n",
       "    <tr style=\"text-align: right;\">\n",
       "      <th></th>\n",
       "      <th>Month</th>\n",
       "      <th>Sales</th>\n",
       "    </tr>\n",
       "  </thead>\n",
       "  <tbody>\n",
       "    <tr>\n",
       "      <th>102</th>\n",
       "      <td>1972-07</td>\n",
       "      <td>4298.0</td>\n",
       "    </tr>\n",
       "    <tr>\n",
       "      <th>103</th>\n",
       "      <td>1972-08</td>\n",
       "      <td>1413.0</td>\n",
       "    </tr>\n",
       "    <tr>\n",
       "      <th>104</th>\n",
       "      <td>1972-09</td>\n",
       "      <td>5877.0</td>\n",
       "    </tr>\n",
       "    <tr>\n",
       "      <th>105</th>\n",
       "      <td>NaN</td>\n",
       "      <td>NaN</td>\n",
       "    </tr>\n",
       "    <tr>\n",
       "      <th>106</th>\n",
       "      <td>Perrin Freres monthly champagne sales millions...</td>\n",
       "      <td>NaN</td>\n",
       "    </tr>\n",
       "  </tbody>\n",
       "</table>\n",
       "</div>"
      ],
      "text/plain": [
       "                                                 Month   Sales\n",
       "102                                            1972-07  4298.0\n",
       "103                                            1972-08  1413.0\n",
       "104                                            1972-09  5877.0\n",
       "105                                                NaN     NaN\n",
       "106  Perrin Freres monthly champagne sales millions...     NaN"
      ]
     },
     "execution_count": 8,
     "metadata": {},
     "output_type": "execute_result"
    }
   ],
   "source": [
    "data.tail()"
   ]
  },
  {
   "cell_type": "code",
   "execution_count": 9,
   "metadata": {},
   "outputs": [],
   "source": [
    "data=data.dropna()"
   ]
  },
  {
   "cell_type": "code",
   "execution_count": 10,
   "metadata": {},
   "outputs": [
    {
     "data": {
      "text/plain": [
       "(105, 2)"
      ]
     },
     "execution_count": 10,
     "metadata": {},
     "output_type": "execute_result"
    }
   ],
   "source": [
    "data.shape"
   ]
  },
  {
   "cell_type": "code",
   "execution_count": 11,
   "metadata": {},
   "outputs": [
    {
     "data": {
      "text/plain": [
       "Month     object\n",
       "Sales    float64\n",
       "dtype: object"
      ]
     },
     "execution_count": 11,
     "metadata": {},
     "output_type": "execute_result"
    }
   ],
   "source": [
    "data.dtypes"
   ]
  },
  {
   "cell_type": "code",
   "execution_count": 12,
   "metadata": {},
   "outputs": [],
   "source": [
    "data['Month']=pd.to_datetime(data['Month'])"
   ]
  },
  {
   "cell_type": "code",
   "execution_count": 13,
   "metadata": {},
   "outputs": [
    {
     "data": {
      "text/plain": [
       "Month    datetime64[ns]\n",
       "Sales           float64\n",
       "dtype: object"
      ]
     },
     "execution_count": 13,
     "metadata": {},
     "output_type": "execute_result"
    }
   ],
   "source": [
    "data.dtypes"
   ]
  },
  {
   "cell_type": "code",
   "execution_count": 14,
   "metadata": {},
   "outputs": [],
   "source": [
    "data.set_index('Month',inplace=True)"
   ]
  },
  {
   "cell_type": "code",
   "execution_count": 15,
   "metadata": {},
   "outputs": [
    {
     "data": {
      "text/html": [
       "<div>\n",
       "<style scoped>\n",
       "    .dataframe tbody tr th:only-of-type {\n",
       "        vertical-align: middle;\n",
       "    }\n",
       "\n",
       "    .dataframe tbody tr th {\n",
       "        vertical-align: top;\n",
       "    }\n",
       "\n",
       "    .dataframe thead th {\n",
       "        text-align: right;\n",
       "    }\n",
       "</style>\n",
       "<table border=\"1\" class=\"dataframe\">\n",
       "  <thead>\n",
       "    <tr style=\"text-align: right;\">\n",
       "      <th></th>\n",
       "      <th>Sales</th>\n",
       "    </tr>\n",
       "    <tr>\n",
       "      <th>Month</th>\n",
       "      <th></th>\n",
       "    </tr>\n",
       "  </thead>\n",
       "  <tbody>\n",
       "    <tr>\n",
       "      <th>1964-01-01</th>\n",
       "      <td>2815.0</td>\n",
       "    </tr>\n",
       "    <tr>\n",
       "      <th>1964-02-01</th>\n",
       "      <td>2672.0</td>\n",
       "    </tr>\n",
       "    <tr>\n",
       "      <th>1964-03-01</th>\n",
       "      <td>2755.0</td>\n",
       "    </tr>\n",
       "    <tr>\n",
       "      <th>1964-04-01</th>\n",
       "      <td>2721.0</td>\n",
       "    </tr>\n",
       "    <tr>\n",
       "      <th>1964-05-01</th>\n",
       "      <td>2946.0</td>\n",
       "    </tr>\n",
       "  </tbody>\n",
       "</table>\n",
       "</div>"
      ],
      "text/plain": [
       "             Sales\n",
       "Month             \n",
       "1964-01-01  2815.0\n",
       "1964-02-01  2672.0\n",
       "1964-03-01  2755.0\n",
       "1964-04-01  2721.0\n",
       "1964-05-01  2946.0"
      ]
     },
     "execution_count": 15,
     "metadata": {},
     "output_type": "execute_result"
    }
   ],
   "source": [
    "data.head()"
   ]
  },
  {
   "cell_type": "code",
   "execution_count": 16,
   "metadata": {},
   "outputs": [
    {
     "data": {
      "text/html": [
       "<div>\n",
       "<style scoped>\n",
       "    .dataframe tbody tr th:only-of-type {\n",
       "        vertical-align: middle;\n",
       "    }\n",
       "\n",
       "    .dataframe tbody tr th {\n",
       "        vertical-align: top;\n",
       "    }\n",
       "\n",
       "    .dataframe thead th {\n",
       "        text-align: right;\n",
       "    }\n",
       "</style>\n",
       "<table border=\"1\" class=\"dataframe\">\n",
       "  <thead>\n",
       "    <tr style=\"text-align: right;\">\n",
       "      <th></th>\n",
       "      <th>Sales</th>\n",
       "    </tr>\n",
       "  </thead>\n",
       "  <tbody>\n",
       "    <tr>\n",
       "      <th>count</th>\n",
       "      <td>105.000000</td>\n",
       "    </tr>\n",
       "    <tr>\n",
       "      <th>mean</th>\n",
       "      <td>4761.152381</td>\n",
       "    </tr>\n",
       "    <tr>\n",
       "      <th>std</th>\n",
       "      <td>2553.502601</td>\n",
       "    </tr>\n",
       "    <tr>\n",
       "      <th>min</th>\n",
       "      <td>1413.000000</td>\n",
       "    </tr>\n",
       "    <tr>\n",
       "      <th>25%</th>\n",
       "      <td>3113.000000</td>\n",
       "    </tr>\n",
       "    <tr>\n",
       "      <th>50%</th>\n",
       "      <td>4217.000000</td>\n",
       "    </tr>\n",
       "    <tr>\n",
       "      <th>75%</th>\n",
       "      <td>5221.000000</td>\n",
       "    </tr>\n",
       "    <tr>\n",
       "      <th>max</th>\n",
       "      <td>13916.000000</td>\n",
       "    </tr>\n",
       "  </tbody>\n",
       "</table>\n",
       "</div>"
      ],
      "text/plain": [
       "              Sales\n",
       "count    105.000000\n",
       "mean    4761.152381\n",
       "std     2553.502601\n",
       "min     1413.000000\n",
       "25%     3113.000000\n",
       "50%     4217.000000\n",
       "75%     5221.000000\n",
       "max    13916.000000"
      ]
     },
     "execution_count": 16,
     "metadata": {},
     "output_type": "execute_result"
    }
   ],
   "source": [
    "data.describe()"
   ]
  },
  {
   "cell_type": "code",
   "execution_count": 17,
   "metadata": {},
   "outputs": [
    {
     "data": {
      "text/plain": [
       "<matplotlib.axes._subplots.AxesSubplot at 0x15ddf718448>"
      ]
     },
     "execution_count": 17,
     "metadata": {},
     "output_type": "execute_result"
    },
    {
     "data": {
      "image/png": "[encoded data removed]",
      "text/plain": [
       "<Figure size 432x288 with 1 Axes>"
      ]
     },
     "metadata": {
      "needs_background": "light"
     },
     "output_type": "display_data"
    }
   ],
   "source": [
    "data.plot()"
   ]
  },
  {
   "cell_type": "code",
   "execution_count": 18,
   "metadata": {},
   "outputs": [],
   "source": [
    "from statsmodels.tsa.stattools import adfuller"
   ]
  },
  {
   "cell_type": "code",
   "execution_count": 19,
   "metadata": {},
   "outputs": [
    {
     "data": {
      "text/plain": [
       "(-1.8335930563276197,\n",
       " 0.3639157716602465,\n",
       " 11,\n",
       " 93,\n",
       " {'1%': -3.502704609582561,\n",
       "  '5%': -2.8931578098779522,\n",
       "  '10%': -2.583636712914788},\n",
       " 1478.4633060594724)"
      ]
     },
     "execution_count": 19,
     "metadata": {},
     "output_type": "execute_result"
    }
   ],
   "source": [
    "adfuller(data['Sales'])"
   ]
  },
  {
   "cell_type": "code",
   "execution_count": 20,
   "metadata": {},
   "outputs": [],
   "source": [
    "def adfuller_test(sales):\n",
    "    result=adfuller(sales)\n",
    "    labels=['ADF test Statistic','p-value','Lags used','number of obs used']\n",
    "    for value,label in zip(result,labels):\n",
    "        print('{} : {}'.format(label,value))\n",
    "    if result[1]<=0.05:\n",
    "        print('Strong evidence against null hypothesis, rejected null hypothesis, & data is stationery')\n",
    "    else:\n",
    "        print(\"Weak evidence against null hypothesis, Accept null hypothesis, & data is not stationery'\")"
   ]
  },
  {
   "cell_type": "code",
   "execution_count": 21,
   "metadata": {},
   "outputs": [
    {
     "name": "stdout",
     "output_type": "stream",
     "text": [
      "ADF test Statistic : -1.8335930563276197\n",
      "p-value : 0.3639157716602465\n",
      "Lags used : 11\n",
      "number of obs used : 93\n",
      "Weak evidence against null hypothesis, Accept null hypothesis, & data is not stationery'\n"
     ]
    }
   ],
   "source": [
    "adfuller_test(data['Sales'])"
   ]
  },
  {
   "cell_type": "markdown",
   "metadata": {},
   "source": [
    "#### Data is stationery"
   ]
  },
  {
   "cell_type": "code",
   "execution_count": 22,
   "metadata": {},
   "outputs": [
    {
     "data": {
      "text/plain": [
       "Month\n",
       "1964-01-01       NaN\n",
       "1964-02-01    2815.0\n",
       "1964-03-01    2672.0\n",
       "1964-04-01    2755.0\n",
       "1964-05-01    2721.0\n",
       "               ...  \n",
       "1972-05-01    4788.0\n",
       "1972-06-01    4618.0\n",
       "1972-07-01    5312.0\n",
       "1972-08-01    4298.0\n",
       "1972-09-01    1413.0\n",
       "Name: Sales, Length: 105, dtype: float64"
      ]
     },
     "execution_count": 22,
     "metadata": {},
     "output_type": "execute_result"
    }
   ],
   "source": [
    "data['Sales'].shift(1)"
   ]
  },
  {
   "cell_type": "code",
   "execution_count": 23,
   "metadata": {},
   "outputs": [],
   "source": [
    "data['Sales first diff']=data['Sales']-data['Sales'].shift(1)"
   ]
  },
  {
   "cell_type": "code",
   "execution_count": 24,
   "metadata": {},
   "outputs": [
    {
     "data": {
      "text/html": [
       "<div>\n",
       "<style scoped>\n",
       "    .dataframe tbody tr th:only-of-type {\n",
       "        vertical-align: middle;\n",
       "    }\n",
       "\n",
       "    .dataframe tbody tr th {\n",
       "        vertical-align: top;\n",
       "    }\n",
       "\n",
       "    .dataframe thead th {\n",
       "        text-align: right;\n",
       "    }\n",
       "</style>\n",
       "<table border=\"1\" class=\"dataframe\">\n",
       "  <thead>\n",
       "    <tr style=\"text-align: right;\">\n",
       "      <th></th>\n",
       "      <th>Sales</th>\n",
       "      <th>Sales first diff</th>\n",
       "    </tr>\n",
       "    <tr>\n",
       "      <th>Month</th>\n",
       "      <th></th>\n",
       "      <th></th>\n",
       "    </tr>\n",
       "  </thead>\n",
       "  <tbody>\n",
       "    <tr>\n",
       "      <th>1964-01-01</th>\n",
       "      <td>2815.0</td>\n",
       "      <td>NaN</td>\n",
       "    </tr>\n",
       "    <tr>\n",
       "      <th>1964-02-01</th>\n",
       "      <td>2672.0</td>\n",
       "      <td>-143.0</td>\n",
       "    </tr>\n",
       "    <tr>\n",
       "      <th>1964-03-01</th>\n",
       "      <td>2755.0</td>\n",
       "      <td>83.0</td>\n",
       "    </tr>\n",
       "    <tr>\n",
       "      <th>1964-04-01</th>\n",
       "      <td>2721.0</td>\n",
       "      <td>-34.0</td>\n",
       "    </tr>\n",
       "    <tr>\n",
       "      <th>1964-05-01</th>\n",
       "      <td>2946.0</td>\n",
       "      <td>225.0</td>\n",
       "    </tr>\n",
       "  </tbody>\n",
       "</table>\n",
       "</div>"
      ],
      "text/plain": [
       "             Sales  Sales first diff\n",
       "Month                               \n",
       "1964-01-01  2815.0               NaN\n",
       "1964-02-01  2672.0            -143.0\n",
       "1964-03-01  2755.0              83.0\n",
       "1964-04-01  2721.0             -34.0\n",
       "1964-05-01  2946.0             225.0"
      ]
     },
     "execution_count": 24,
     "metadata": {},
     "output_type": "execute_result"
    }
   ],
   "source": [
    "data.head()"
   ]
  },
  {
   "cell_type": "code",
   "execution_count": 25,
   "metadata": {},
   "outputs": [],
   "source": [
    "data['Seasonal Sales diff']=data['Sales']-data['Sales'].shift(12)"
   ]
  },
  {
   "cell_type": "code",
   "execution_count": 26,
   "metadata": {},
   "outputs": [
    {
     "data": {
      "text/html": [
       "<div>\n",
       "<style scoped>\n",
       "    .dataframe tbody tr th:only-of-type {\n",
       "        vertical-align: middle;\n",
       "    }\n",
       "\n",
       "    .dataframe tbody tr th {\n",
       "        vertical-align: top;\n",
       "    }\n",
       "\n",
       "    .dataframe thead th {\n",
       "        text-align: right;\n",
       "    }\n",
       "</style>\n",
       "<table border=\"1\" class=\"dataframe\">\n",
       "  <thead>\n",
       "    <tr style=\"text-align: right;\">\n",
       "      <th></th>\n",
       "      <th>Sales</th>\n",
       "      <th>Sales first diff</th>\n",
       "      <th>Seasonal Sales diff</th>\n",
       "    </tr>\n",
       "    <tr>\n",
       "      <th>Month</th>\n",
       "      <th></th>\n",
       "      <th></th>\n",
       "      <th></th>\n",
       "    </tr>\n",
       "  </thead>\n",
       "  <tbody>\n",
       "    <tr>\n",
       "      <th>1964-01-01</th>\n",
       "      <td>2815.0</td>\n",
       "      <td>NaN</td>\n",
       "      <td>NaN</td>\n",
       "    </tr>\n",
       "    <tr>\n",
       "      <th>1964-02-01</th>\n",
       "      <td>2672.0</td>\n",
       "      <td>-143.0</td>\n",
       "      <td>NaN</td>\n",
       "    </tr>\n",
       "    <tr>\n",
       "      <th>1964-03-01</th>\n",
       "      <td>2755.0</td>\n",
       "      <td>83.0</td>\n",
       "      <td>NaN</td>\n",
       "    </tr>\n",
       "    <tr>\n",
       "      <th>1964-04-01</th>\n",
       "      <td>2721.0</td>\n",
       "      <td>-34.0</td>\n",
       "      <td>NaN</td>\n",
       "    </tr>\n",
       "    <tr>\n",
       "      <th>1964-05-01</th>\n",
       "      <td>2946.0</td>\n",
       "      <td>225.0</td>\n",
       "      <td>NaN</td>\n",
       "    </tr>\n",
       "  </tbody>\n",
       "</table>\n",
       "</div>"
      ],
      "text/plain": [
       "             Sales  Sales first diff  Seasonal Sales diff\n",
       "Month                                                    \n",
       "1964-01-01  2815.0               NaN                  NaN\n",
       "1964-02-01  2672.0            -143.0                  NaN\n",
       "1964-03-01  2755.0              83.0                  NaN\n",
       "1964-04-01  2721.0             -34.0                  NaN\n",
       "1964-05-01  2946.0             225.0                  NaN"
      ]
     },
     "execution_count": 26,
     "metadata": {},
     "output_type": "execute_result"
    }
   ],
   "source": [
    "data.head()"
   ]
  },
  {
   "cell_type": "code",
   "execution_count": 27,
   "metadata": {},
   "outputs": [
    {
     "name": "stdout",
     "output_type": "stream",
     "text": [
      "ADF test Statistic : -7.189896448051024\n",
      "p-value : 2.5196204473867414e-10\n",
      "Lags used : 11\n",
      "number of obs used : 92\n",
      "Strong evidence against null hypothesis, rejected null hypothesis, & data is stationery\n"
     ]
    }
   ],
   "source": [
    "adfuller_test(data['Sales first diff'].dropna())"
   ]
  },
  {
   "cell_type": "code",
   "execution_count": 28,
   "metadata": {},
   "outputs": [
    {
     "data": {
      "text/plain": [
       "<matplotlib.axes._subplots.AxesSubplot at 0x15de2003788>"
      ]
     },
     "execution_count": 28,
     "metadata": {},
     "output_type": "execute_result"
    },
    {
     "data": {
      "image/png": "[encoded data removed]",
      "text/plain": [
       "<Figure size 432x288 with 1 Axes>"
      ]
     },
     "metadata": {
      "needs_background": "light"
     },
     "output_type": "display_data"
    }
   ],
   "source": [
    "data['Seasonal Sales diff'].plot()"
   ]
  },
  {
   "cell_type": "code",
   "execution_count": 32,
   "metadata": {},
   "outputs": [],
   "source": [
    "from statsmodels.graphics.tsaplots import plot_acf,plot_pacf"
   ]
  },
  {
   "cell_type": "code",
   "execution_count": 33,
   "metadata": {},
   "outputs": [],
   "source": [
    "import matplotlib.pyplot as plt"
   ]
  },
  {
   "cell_type": "code",
   "execution_count": 35,
   "metadata": {},
   "outputs": [
    {
     "data": {
      "image/png": "[encoded data removed]",
      "text/plain": [
       "<Figure size 720x720 with 2 Axes>"
      ]
     },
     "metadata": {
      "needs_background": "light"
     },
     "output_type": "display_data"
    }
   ],
   "source": [
    "fig=plt.figure(figsize=(10,10))\n",
    "ax1=fig.add_subplot(211)\n",
    "fig=plot_acf(data['Seasonal Sales diff'].iloc[13:],ax=ax1,lags=40)\n",
    "ax2=fig.add_subplot(212)\n",
    "fif=plot_pacf(data['Seasonal Sales diff'].iloc[13:],ax=ax2,lags=40)"
   ]
  },
  {
   "cell_type": "code",
   "execution_count": 36,
   "metadata": {},
   "outputs": [],
   "source": [
    "from statsmodels.tsa.arima_model import ARIMA"
   ]
  },
  {
   "cell_type": "code",
   "execution_count": 37,
   "metadata": {},
   "outputs": [
    {
     "name": "stderr",
     "output_type": "stream",
     "text": [
      "C:\\ProgramData\\Anaconda3\\lib\\site-packages\\statsmodels\\tsa\\base\\tsa_model.py:162: ValueWarning: No frequency information was provided, so inferred frequency MS will be used.\n",
      "  % freq, ValueWarning)\n",
      "C:\\ProgramData\\Anaconda3\\lib\\site-packages\\statsmodels\\tsa\\base\\tsa_model.py:162: ValueWarning: No frequency information was provided, so inferred frequency MS will be used.\n",
      "  % freq, ValueWarning)\n"
     ]
    }
   ],
   "source": [
    "model=ARIMA(data['Sales'],order=(1,1,1))"
   ]
  },
  {
   "cell_type": "code",
   "execution_count": 38,
   "metadata": {},
   "outputs": [],
   "source": [
    "model=model.fit()"
   ]
  },
  {
   "cell_type": "code",
   "execution_count": 39,
   "metadata": {},
   "outputs": [
    {
     "data": {
      "text/html": [
       "<table class=\"simpletable\">\n",
       "<caption>ARIMA Model Results</caption>\n",
       "<tr>\n",
       "  <th>Dep. Variable:</th>      <td>D.Sales</td>     <th>  No. Observations:  </th>    <td>104</td>  \n",
       "</tr>\n",
       "<tr>\n",
       "  <th>Model:</th>          <td>ARIMA(1, 1, 1)</td>  <th>  Log Likelihood     </th> <td>-951.126</td>\n",
       "</tr>\n",
       "<tr>\n",
       "  <th>Method:</th>             <td>css-mle</td>     <th>  S.D. of innovations</th> <td>2227.262</td>\n",
       "</tr>\n",
       "<tr>\n",
       "  <th>Date:</th>          <td>Thu, 02 Sep 2021</td> <th>  AIC                </th> <td>1910.251</td>\n",
       "</tr>\n",
       "<tr>\n",
       "  <th>Time:</th>              <td>23:51:41</td>     <th>  BIC                </th> <td>1920.829</td>\n",
       "</tr>\n",
       "<tr>\n",
       "  <th>Sample:</th>           <td>02-01-1964</td>    <th>  HQIC               </th> <td>1914.536</td>\n",
       "</tr>\n",
       "<tr>\n",
       "  <th></th>                 <td>- 09-01-1972</td>   <th>                     </th>     <td> </td>   \n",
       "</tr>\n",
       "</table>\n",
       "<table class=\"simpletable\">\n",
       "<tr>\n",
       "        <td></td>           <th>coef</th>     <th>std err</th>      <th>z</th>      <th>P>|z|</th>  <th>[0.025</th>    <th>0.975]</th>  \n",
       "</tr>\n",
       "<tr>\n",
       "  <th>const</th>         <td>   22.7842</td> <td>   12.405</td> <td>    1.837</td> <td> 0.066</td> <td>   -1.530</td> <td>   47.098</td>\n",
       "</tr>\n",
       "<tr>\n",
       "  <th>ar.L1.D.Sales</th> <td>    0.4343</td> <td>    0.089</td> <td>    4.866</td> <td> 0.000</td> <td>    0.259</td> <td>    0.609</td>\n",
       "</tr>\n",
       "<tr>\n",
       "  <th>ma.L1.D.Sales</th> <td>   -1.0000</td> <td>    0.026</td> <td>  -38.503</td> <td> 0.000</td> <td>   -1.051</td> <td>   -0.949</td>\n",
       "</tr>\n",
       "</table>\n",
       "<table class=\"simpletable\">\n",
       "<caption>Roots</caption>\n",
       "<tr>\n",
       "    <td></td>   <th>            Real</th>  <th>         Imaginary</th> <th>         Modulus</th>  <th>        Frequency</th>\n",
       "</tr>\n",
       "<tr>\n",
       "  <th>AR.1</th> <td>           2.3023</td> <td>          +0.0000j</td> <td>           2.3023</td> <td>           0.0000</td>\n",
       "</tr>\n",
       "<tr>\n",
       "  <th>MA.1</th> <td>           1.0000</td> <td>          +0.0000j</td> <td>           1.0000</td> <td>           0.0000</td>\n",
       "</tr>\n",
       "</table>"
      ],
      "text/plain": [
       "<class 'statsmodels.iolib.summary.Summary'>\n",
       "\"\"\"\n",
       "                             ARIMA Model Results                              \n",
       "==============================================================================\n",
       "Dep. Variable:                D.Sales   No. Observations:                  104\n",
       "Model:                 ARIMA(1, 1, 1)   Log Likelihood                -951.126\n",
       "Method:                       css-mle   S.D. of innovations           2227.262\n",
       "Date:                Thu, 02 Sep 2021   AIC                           1910.251\n",
       "Time:                        23:51:41   BIC                           1920.829\n",
       "Sample:                    02-01-1964   HQIC                          1914.536\n",
       "                         - 09-01-1972                                         \n",
       "=================================================================================\n",
       "                    coef    std err          z      P>|z|      [0.025      0.975]\n",
       "---------------------------------------------------------------------------------\n",
       "const            22.7842     12.405      1.837      0.066      -1.530      47.098\n",
       "ar.L1.D.Sales     0.4343      0.089      4.866      0.000       0.259       0.609\n",
       "ma.L1.D.Sales    -1.0000      0.026    -38.503      0.000      -1.051      -0.949\n",
       "                                    Roots                                    \n",
       "=============================================================================\n",
       "                  Real          Imaginary           Modulus         Frequency\n",
       "-----------------------------------------------------------------------------\n",
       "AR.1            2.3023           +0.0000j            2.3023            0.0000\n",
       "MA.1            1.0000           +0.0000j            1.0000            0.0000\n",
       "-----------------------------------------------------------------------------\n",
       "\"\"\""
      ]
     },
     "execution_count": 39,
     "metadata": {},
     "output_type": "execute_result"
    }
   ],
   "source": [
    "model.summary()"
   ]
  },
  {
   "cell_type": "code",
   "execution_count": 42,
   "metadata": {},
   "outputs": [],
   "source": [
    "data['forcast']=model.predict(start=14,end=25,dynamic=True)"
   ]
  },
  {
   "cell_type": "code",
   "execution_count": 44,
   "metadata": {},
   "outputs": [
    {
     "data": {
      "text/html": [
       "<div>\n",
       "<style scoped>\n",
       "    .dataframe tbody tr th:only-of-type {\n",
       "        vertical-align: middle;\n",
       "    }\n",
       "\n",
       "    .dataframe tbody tr th {\n",
       "        vertical-align: top;\n",
       "    }\n",
       "\n",
       "    .dataframe thead th {\n",
       "        text-align: right;\n",
       "    }\n",
       "</style>\n",
       "<table border=\"1\" class=\"dataframe\">\n",
       "  <thead>\n",
       "    <tr style=\"text-align: right;\">\n",
       "      <th></th>\n",
       "      <th>Sales</th>\n",
       "      <th>Sales first diff</th>\n",
       "      <th>Seasonal Sales diff</th>\n",
       "      <th>forcast</th>\n",
       "    </tr>\n",
       "    <tr>\n",
       "      <th>Month</th>\n",
       "      <th></th>\n",
       "      <th></th>\n",
       "      <th></th>\n",
       "      <th></th>\n",
       "    </tr>\n",
       "  </thead>\n",
       "  <tbody>\n",
       "    <tr>\n",
       "      <th>1964-01-01</th>\n",
       "      <td>2815.0</td>\n",
       "      <td>NaN</td>\n",
       "      <td>NaN</td>\n",
       "      <td>NaN</td>\n",
       "    </tr>\n",
       "    <tr>\n",
       "      <th>1964-02-01</th>\n",
       "      <td>2672.0</td>\n",
       "      <td>-143.0</td>\n",
       "      <td>NaN</td>\n",
       "      <td>NaN</td>\n",
       "    </tr>\n",
       "    <tr>\n",
       "      <th>1964-03-01</th>\n",
       "      <td>2755.0</td>\n",
       "      <td>83.0</td>\n",
       "      <td>NaN</td>\n",
       "      <td>NaN</td>\n",
       "    </tr>\n",
       "    <tr>\n",
       "      <th>1964-04-01</th>\n",
       "      <td>2721.0</td>\n",
       "      <td>-34.0</td>\n",
       "      <td>NaN</td>\n",
       "      <td>NaN</td>\n",
       "    </tr>\n",
       "    <tr>\n",
       "      <th>1964-05-01</th>\n",
       "      <td>2946.0</td>\n",
       "      <td>225.0</td>\n",
       "      <td>NaN</td>\n",
       "      <td>NaN</td>\n",
       "    </tr>\n",
       "    <tr>\n",
       "      <th>1964-06-01</th>\n",
       "      <td>3036.0</td>\n",
       "      <td>90.0</td>\n",
       "      <td>NaN</td>\n",
       "      <td>NaN</td>\n",
       "    </tr>\n",
       "    <tr>\n",
       "      <th>1964-07-01</th>\n",
       "      <td>2282.0</td>\n",
       "      <td>-754.0</td>\n",
       "      <td>NaN</td>\n",
       "      <td>NaN</td>\n",
       "    </tr>\n",
       "    <tr>\n",
       "      <th>1964-08-01</th>\n",
       "      <td>2212.0</td>\n",
       "      <td>-70.0</td>\n",
       "      <td>NaN</td>\n",
       "      <td>NaN</td>\n",
       "    </tr>\n",
       "    <tr>\n",
       "      <th>1964-09-01</th>\n",
       "      <td>2922.0</td>\n",
       "      <td>710.0</td>\n",
       "      <td>NaN</td>\n",
       "      <td>NaN</td>\n",
       "    </tr>\n",
       "    <tr>\n",
       "      <th>1964-10-01</th>\n",
       "      <td>4301.0</td>\n",
       "      <td>1379.0</td>\n",
       "      <td>NaN</td>\n",
       "      <td>NaN</td>\n",
       "    </tr>\n",
       "    <tr>\n",
       "      <th>1964-11-01</th>\n",
       "      <td>5764.0</td>\n",
       "      <td>1463.0</td>\n",
       "      <td>NaN</td>\n",
       "      <td>NaN</td>\n",
       "    </tr>\n",
       "    <tr>\n",
       "      <th>1964-12-01</th>\n",
       "      <td>7312.0</td>\n",
       "      <td>1548.0</td>\n",
       "      <td>NaN</td>\n",
       "      <td>NaN</td>\n",
       "    </tr>\n",
       "    <tr>\n",
       "      <th>1965-01-01</th>\n",
       "      <td>2541.0</td>\n",
       "      <td>-4771.0</td>\n",
       "      <td>-274.0</td>\n",
       "      <td>NaN</td>\n",
       "    </tr>\n",
       "    <tr>\n",
       "      <th>1965-02-01</th>\n",
       "      <td>2475.0</td>\n",
       "      <td>-66.0</td>\n",
       "      <td>-197.0</td>\n",
       "      <td>NaN</td>\n",
       "    </tr>\n",
       "    <tr>\n",
       "      <th>1965-03-01</th>\n",
       "      <td>3031.0</td>\n",
       "      <td>556.0</td>\n",
       "      <td>276.0</td>\n",
       "      <td>596.156161</td>\n",
       "    </tr>\n",
       "    <tr>\n",
       "      <th>1965-04-01</th>\n",
       "      <td>3266.0</td>\n",
       "      <td>235.0</td>\n",
       "      <td>545.0</td>\n",
       "      <td>271.825703</td>\n",
       "    </tr>\n",
       "    <tr>\n",
       "      <th>1965-05-01</th>\n",
       "      <td>3776.0</td>\n",
       "      <td>510.0</td>\n",
       "      <td>830.0</td>\n",
       "      <td>130.954239</td>\n",
       "    </tr>\n",
       "    <tr>\n",
       "      <th>1965-06-01</th>\n",
       "      <td>3230.0</td>\n",
       "      <td>-546.0</td>\n",
       "      <td>194.0</td>\n",
       "      <td>69.767357</td>\n",
       "    </tr>\n",
       "    <tr>\n",
       "      <th>1965-07-01</th>\n",
       "      <td>3028.0</td>\n",
       "      <td>-202.0</td>\n",
       "      <td>746.0</td>\n",
       "      <td>43.191113</td>\n",
       "    </tr>\n",
       "    <tr>\n",
       "      <th>1965-08-01</th>\n",
       "      <td>1759.0</td>\n",
       "      <td>-1269.0</td>\n",
       "      <td>-453.0</td>\n",
       "      <td>31.647841</td>\n",
       "    </tr>\n",
       "    <tr>\n",
       "      <th>1965-09-01</th>\n",
       "      <td>3595.0</td>\n",
       "      <td>1836.0</td>\n",
       "      <td>673.0</td>\n",
       "      <td>26.634074</td>\n",
       "    </tr>\n",
       "    <tr>\n",
       "      <th>1965-10-01</th>\n",
       "      <td>4474.0</td>\n",
       "      <td>879.0</td>\n",
       "      <td>173.0</td>\n",
       "      <td>24.456366</td>\n",
       "    </tr>\n",
       "    <tr>\n",
       "      <th>1965-11-01</th>\n",
       "      <td>6838.0</td>\n",
       "      <td>2364.0</td>\n",
       "      <td>1074.0</td>\n",
       "      <td>23.510489</td>\n",
       "    </tr>\n",
       "    <tr>\n",
       "      <th>1965-12-01</th>\n",
       "      <td>8357.0</td>\n",
       "      <td>1519.0</td>\n",
       "      <td>1045.0</td>\n",
       "      <td>23.099652</td>\n",
       "    </tr>\n",
       "    <tr>\n",
       "      <th>1966-01-01</th>\n",
       "      <td>3113.0</td>\n",
       "      <td>-5244.0</td>\n",
       "      <td>572.0</td>\n",
       "      <td>22.921206</td>\n",
       "    </tr>\n",
       "  </tbody>\n",
       "</table>\n",
       "</div>"
      ],
      "text/plain": [
       "             Sales  Sales first diff  Seasonal Sales diff     forcast\n",
       "Month                                                                \n",
       "1964-01-01  2815.0               NaN                  NaN         NaN\n",
       "1964-02-01  2672.0            -143.0                  NaN         NaN\n",
       "1964-03-01  2755.0              83.0                  NaN         NaN\n",
       "1964-04-01  2721.0             -34.0                  NaN         NaN\n",
       "1964-05-01  2946.0             225.0                  NaN         NaN\n",
       "1964-06-01  3036.0              90.0                  NaN         NaN\n",
       "1964-07-01  2282.0            -754.0                  NaN         NaN\n",
       "1964-08-01  2212.0             -70.0                  NaN         NaN\n",
       "1964-09-01  2922.0             710.0                  NaN         NaN\n",
       "1964-10-01  4301.0            1379.0                  NaN         NaN\n",
       "1964-11-01  5764.0            1463.0                  NaN         NaN\n",
       "1964-12-01  7312.0            1548.0                  NaN         NaN\n",
       "1965-01-01  2541.0           -4771.0               -274.0         NaN\n",
       "1965-02-01  2475.0             -66.0               -197.0         NaN\n",
       "1965-03-01  3031.0             556.0                276.0  596.156161\n",
       "1965-04-01  3266.0             235.0                545.0  271.825703\n",
       "1965-05-01  3776.0             510.0                830.0  130.954239\n",
       "1965-06-01  3230.0            -546.0                194.0   69.767357\n",
       "1965-07-01  3028.0            -202.0                746.0   43.191113\n",
       "1965-08-01  1759.0           -1269.0               -453.0   31.647841\n",
       "1965-09-01  3595.0            1836.0                673.0   26.634074\n",
       "1965-10-01  4474.0             879.0                173.0   24.456366\n",
       "1965-11-01  6838.0            2364.0               1074.0   23.510489\n",
       "1965-12-01  8357.0            1519.0               1045.0   23.099652\n",
       "1966-01-01  3113.0           -5244.0                572.0   22.921206"
      ]
     },
     "execution_count": 44,
     "metadata": {},
     "output_type": "execute_result"
    }
   ],
   "source": [
    "data.head(25)"
   ]
  },
  {
   "cell_type": "code",
   "execution_count": 45,
   "metadata": {},
   "outputs": [
    {
     "data": {
      "text/plain": [
       "<matplotlib.axes._subplots.AxesSubplot at 0x15de729ad88>"
      ]
     },
     "execution_count": 45,
     "metadata": {},
     "output_type": "execute_result"
    },
    {
     "data": {
      "image/png": "[encoded data removed]",
      "text/plain": [
       "<Figure size 720x720 with 1 Axes>"
      ]
     },
     "metadata": {
      "needs_background": "light"
     },
     "output_type": "display_data"
    }
   ],
   "source": [
    "data[['Sales','forcast']].plot(figsize=(10,10))"
   ]
  },
  {
   "cell_type": "code",
   "execution_count": 46,
   "metadata": {},
   "outputs": [],
   "source": [
    "import statsmodels.api as sm"
   ]
  },
  {
   "cell_type": "code",
   "execution_count": 47,
   "metadata": {},
   "outputs": [
    {
     "name": "stderr",
     "output_type": "stream",
     "text": [
      "C:\\ProgramData\\Anaconda3\\lib\\site-packages\\statsmodels\\tsa\\base\\tsa_model.py:162: ValueWarning: No frequency information was provided, so inferred frequency MS will be used.\n",
      "  % freq, ValueWarning)\n",
      "C:\\ProgramData\\Anaconda3\\lib\\site-packages\\statsmodels\\tsa\\base\\tsa_model.py:162: ValueWarning: No frequency information was provided, so inferred frequency MS will be used.\n",
      "  % freq, ValueWarning)\n"
     ]
    }
   ],
   "source": [
    "model1=sm.tsa.statespace.SARIMAX(data['Sales'],order=(1,1,1),seasonal_order=(1,1,1,12))"
   ]
  },
  {
   "cell_type": "code",
   "execution_count": 48,
   "metadata": {},
   "outputs": [],
   "source": [
    "result=model1.fit()"
   ]
  },
  {
   "cell_type": "code",
   "execution_count": 49,
   "metadata": {},
   "outputs": [],
   "source": [
    "data['forcast_SARIMAX']=result.predict(start=14,end=25,dynamic=True)"
   ]
  },
  {
   "cell_type": "code",
   "execution_count": 50,
   "metadata": {},
   "outputs": [
    {
     "data": {
      "text/html": [
       "<div>\n",
       "<style scoped>\n",
       "    .dataframe tbody tr th:only-of-type {\n",
       "        vertical-align: middle;\n",
       "    }\n",
       "\n",
       "    .dataframe tbody tr th {\n",
       "        vertical-align: top;\n",
       "    }\n",
       "\n",
       "    .dataframe thead th {\n",
       "        text-align: right;\n",
       "    }\n",
       "</style>\n",
       "<table border=\"1\" class=\"dataframe\">\n",
       "  <thead>\n",
       "    <tr style=\"text-align: right;\">\n",
       "      <th></th>\n",
       "      <th>Sales</th>\n",
       "      <th>Sales first diff</th>\n",
       "      <th>Seasonal Sales diff</th>\n",
       "      <th>forcast</th>\n",
       "      <th>forcast_SARIMAX</th>\n",
       "    </tr>\n",
       "    <tr>\n",
       "      <th>Month</th>\n",
       "      <th></th>\n",
       "      <th></th>\n",
       "      <th></th>\n",
       "      <th></th>\n",
       "      <th></th>\n",
       "    </tr>\n",
       "  </thead>\n",
       "  <tbody>\n",
       "    <tr>\n",
       "      <th>1964-01-01</th>\n",
       "      <td>2815.0</td>\n",
       "      <td>NaN</td>\n",
       "      <td>NaN</td>\n",
       "      <td>NaN</td>\n",
       "      <td>NaN</td>\n",
       "    </tr>\n",
       "    <tr>\n",
       "      <th>1964-02-01</th>\n",
       "      <td>2672.0</td>\n",
       "      <td>-143.0</td>\n",
       "      <td>NaN</td>\n",
       "      <td>NaN</td>\n",
       "      <td>NaN</td>\n",
       "    </tr>\n",
       "    <tr>\n",
       "      <th>1964-03-01</th>\n",
       "      <td>2755.0</td>\n",
       "      <td>83.0</td>\n",
       "      <td>NaN</td>\n",
       "      <td>NaN</td>\n",
       "      <td>NaN</td>\n",
       "    </tr>\n",
       "    <tr>\n",
       "      <th>1964-04-01</th>\n",
       "      <td>2721.0</td>\n",
       "      <td>-34.0</td>\n",
       "      <td>NaN</td>\n",
       "      <td>NaN</td>\n",
       "      <td>NaN</td>\n",
       "    </tr>\n",
       "    <tr>\n",
       "      <th>1964-05-01</th>\n",
       "      <td>2946.0</td>\n",
       "      <td>225.0</td>\n",
       "      <td>NaN</td>\n",
       "      <td>NaN</td>\n",
       "      <td>NaN</td>\n",
       "    </tr>\n",
       "    <tr>\n",
       "      <th>1964-06-01</th>\n",
       "      <td>3036.0</td>\n",
       "      <td>90.0</td>\n",
       "      <td>NaN</td>\n",
       "      <td>NaN</td>\n",
       "      <td>NaN</td>\n",
       "    </tr>\n",
       "    <tr>\n",
       "      <th>1964-07-01</th>\n",
       "      <td>2282.0</td>\n",
       "      <td>-754.0</td>\n",
       "      <td>NaN</td>\n",
       "      <td>NaN</td>\n",
       "      <td>NaN</td>\n",
       "    </tr>\n",
       "    <tr>\n",
       "      <th>1964-08-01</th>\n",
       "      <td>2212.0</td>\n",
       "      <td>-70.0</td>\n",
       "      <td>NaN</td>\n",
       "      <td>NaN</td>\n",
       "      <td>NaN</td>\n",
       "    </tr>\n",
       "    <tr>\n",
       "      <th>1964-09-01</th>\n",
       "      <td>2922.0</td>\n",
       "      <td>710.0</td>\n",
       "      <td>NaN</td>\n",
       "      <td>NaN</td>\n",
       "      <td>NaN</td>\n",
       "    </tr>\n",
       "    <tr>\n",
       "      <th>1964-10-01</th>\n",
       "      <td>4301.0</td>\n",
       "      <td>1379.0</td>\n",
       "      <td>NaN</td>\n",
       "      <td>NaN</td>\n",
       "      <td>NaN</td>\n",
       "    </tr>\n",
       "    <tr>\n",
       "      <th>1964-11-01</th>\n",
       "      <td>5764.0</td>\n",
       "      <td>1463.0</td>\n",
       "      <td>NaN</td>\n",
       "      <td>NaN</td>\n",
       "      <td>NaN</td>\n",
       "    </tr>\n",
       "    <tr>\n",
       "      <th>1964-12-01</th>\n",
       "      <td>7312.0</td>\n",
       "      <td>1548.0</td>\n",
       "      <td>NaN</td>\n",
       "      <td>NaN</td>\n",
       "      <td>NaN</td>\n",
       "    </tr>\n",
       "    <tr>\n",
       "      <th>1965-01-01</th>\n",
       "      <td>2541.0</td>\n",
       "      <td>-4771.0</td>\n",
       "      <td>-274.0</td>\n",
       "      <td>NaN</td>\n",
       "      <td>NaN</td>\n",
       "    </tr>\n",
       "    <tr>\n",
       "      <th>1965-02-01</th>\n",
       "      <td>2475.0</td>\n",
       "      <td>-66.0</td>\n",
       "      <td>-197.0</td>\n",
       "      <td>NaN</td>\n",
       "      <td>NaN</td>\n",
       "    </tr>\n",
       "    <tr>\n",
       "      <th>1965-03-01</th>\n",
       "      <td>3031.0</td>\n",
       "      <td>556.0</td>\n",
       "      <td>276.0</td>\n",
       "      <td>596.156161</td>\n",
       "      <td>3393.373244</td>\n",
       "    </tr>\n",
       "    <tr>\n",
       "      <th>1965-04-01</th>\n",
       "      <td>3266.0</td>\n",
       "      <td>235.0</td>\n",
       "      <td>545.0</td>\n",
       "      <td>271.825703</td>\n",
       "      <td>3603.999895</td>\n",
       "    </tr>\n",
       "    <tr>\n",
       "      <th>1965-05-01</th>\n",
       "      <td>3776.0</td>\n",
       "      <td>510.0</td>\n",
       "      <td>830.0</td>\n",
       "      <td>130.954239</td>\n",
       "      <td>3871.706605</td>\n",
       "    </tr>\n",
       "    <tr>\n",
       "      <th>1965-06-01</th>\n",
       "      <td>3230.0</td>\n",
       "      <td>-546.0</td>\n",
       "      <td>194.0</td>\n",
       "      <td>69.767357</td>\n",
       "      <td>3965.597297</td>\n",
       "    </tr>\n",
       "    <tr>\n",
       "      <th>1965-07-01</th>\n",
       "      <td>3028.0</td>\n",
       "      <td>-202.0</td>\n",
       "      <td>746.0</td>\n",
       "      <td>43.191113</td>\n",
       "      <td>3302.709027</td>\n",
       "    </tr>\n",
       "    <tr>\n",
       "      <th>1965-08-01</th>\n",
       "      <td>1759.0</td>\n",
       "      <td>-1269.0</td>\n",
       "      <td>-453.0</td>\n",
       "      <td>31.647841</td>\n",
       "      <td>3258.402414</td>\n",
       "    </tr>\n",
       "    <tr>\n",
       "      <th>1965-09-01</th>\n",
       "      <td>3595.0</td>\n",
       "      <td>1836.0</td>\n",
       "      <td>673.0</td>\n",
       "      <td>26.634074</td>\n",
       "      <td>3933.776095</td>\n",
       "    </tr>\n",
       "    <tr>\n",
       "      <th>1965-10-01</th>\n",
       "      <td>4474.0</td>\n",
       "      <td>879.0</td>\n",
       "      <td>173.0</td>\n",
       "      <td>24.456366</td>\n",
       "      <td>5211.973802</td>\n",
       "    </tr>\n",
       "    <tr>\n",
       "      <th>1965-11-01</th>\n",
       "      <td>6838.0</td>\n",
       "      <td>2364.0</td>\n",
       "      <td>1074.0</td>\n",
       "      <td>23.510489</td>\n",
       "      <td>6527.271753</td>\n",
       "    </tr>\n",
       "    <tr>\n",
       "      <th>1965-12-01</th>\n",
       "      <td>8357.0</td>\n",
       "      <td>1519.0</td>\n",
       "      <td>1045.0</td>\n",
       "      <td>23.099652</td>\n",
       "      <td>7789.153530</td>\n",
       "    </tr>\n",
       "    <tr>\n",
       "      <th>1966-01-01</th>\n",
       "      <td>3113.0</td>\n",
       "      <td>-5244.0</td>\n",
       "      <td>572.0</td>\n",
       "      <td>22.921206</td>\n",
       "      <td>3767.749537</td>\n",
       "    </tr>\n",
       "  </tbody>\n",
       "</table>\n",
       "</div>"
      ],
      "text/plain": [
       "             Sales  Sales first diff  Seasonal Sales diff     forcast  \\\n",
       "Month                                                                   \n",
       "1964-01-01  2815.0               NaN                  NaN         NaN   \n",
       "1964-02-01  2672.0            -143.0                  NaN         NaN   \n",
       "1964-03-01  2755.0              83.0                  NaN         NaN   \n",
       "1964-04-01  2721.0             -34.0                  NaN         NaN   \n",
       "1964-05-01  2946.0             225.0                  NaN         NaN   \n",
       "1964-06-01  3036.0              90.0                  NaN         NaN   \n",
       "1964-07-01  2282.0            -754.0                  NaN         NaN   \n",
       "1964-08-01  2212.0             -70.0                  NaN         NaN   \n",
       "1964-09-01  2922.0             710.0                  NaN         NaN   \n",
       "1964-10-01  4301.0            1379.0                  NaN         NaN   \n",
       "1964-11-01  5764.0            1463.0                  NaN         NaN   \n",
       "1964-12-01  7312.0            1548.0                  NaN         NaN   \n",
       "1965-01-01  2541.0           -4771.0               -274.0         NaN   \n",
       "1965-02-01  2475.0             -66.0               -197.0         NaN   \n",
       "1965-03-01  3031.0             556.0                276.0  596.156161   \n",
       "1965-04-01  3266.0             235.0                545.0  271.825703   \n",
       "1965-05-01  3776.0             510.0                830.0  130.954239   \n",
       "1965-06-01  3230.0            -546.0                194.0   69.767357   \n",
       "1965-07-01  3028.0            -202.0                746.0   43.191113   \n",
       "1965-08-01  1759.0           -1269.0               -453.0   31.647841   \n",
       "1965-09-01  3595.0            1836.0                673.0   26.634074   \n",
       "1965-10-01  4474.0             879.0                173.0   24.456366   \n",
       "1965-11-01  6838.0            2364.0               1074.0   23.510489   \n",
       "1965-12-01  8357.0            1519.0               1045.0   23.099652   \n",
       "1966-01-01  3113.0           -5244.0                572.0   22.921206   \n",
       "\n",
       "            forcast_SARIMAX  \n",
       "Month                        \n",
       "1964-01-01              NaN  \n",
       "1964-02-01              NaN  \n",
       "1964-03-01              NaN  \n",
       "1964-04-01              NaN  \n",
       "1964-05-01              NaN  \n",
       "1964-06-01              NaN  \n",
       "1964-07-01              NaN  \n",
       "1964-08-01              NaN  \n",
       "1964-09-01              NaN  \n",
       "1964-10-01              NaN  \n",
       "1964-11-01              NaN  \n",
       "1964-12-01              NaN  \n",
       "1965-01-01              NaN  \n",
       "1965-02-01              NaN  \n",
       "1965-03-01      3393.373244  \n",
       "1965-04-01      3603.999895  \n",
       "1965-05-01      3871.706605  \n",
       "1965-06-01      3965.597297  \n",
       "1965-07-01      3302.709027  \n",
       "1965-08-01      3258.402414  \n",
       "1965-09-01      3933.776095  \n",
       "1965-10-01      5211.973802  \n",
       "1965-11-01      6527.271753  \n",
       "1965-12-01      7789.153530  \n",
       "1966-01-01      3767.749537  "
      ]
     },
     "execution_count": 50,
     "metadata": {},
     "output_type": "execute_result"
    }
   ],
   "source": [
    "data.head(25)"
   ]
  },
  {
   "cell_type": "code",
   "execution_count": 51,
   "metadata": {},
   "outputs": [
    {
     "data": {
      "text/plain": [
       "<matplotlib.axes._subplots.AxesSubplot at 0x15deb629408>"
      ]
     },
     "execution_count": 51,
     "metadata": {},
     "output_type": "execute_result"
    },
    {
     "data": {
      "image/png": "[encoded data removed]",
      "text/plain": [
       "<Figure size 720x720 with 1 Axes>"
      ]
     },
     "metadata": {
      "needs_background": "light"
     },
     "output_type": "display_data"
    }
   ],
   "source": [
    "data[['Sales','forcast_SARIMAX']].plot(figsize=(10,10))"
   ]
  },
  {
   "cell_type": "code",
   "execution_count": 52,
   "metadata": {},
   "outputs": [],
   "source": [
    "from pandas.tseries.offsets import DateOffset"
   ]
  },
  {
   "cell_type": "code",
   "execution_count": 54,
   "metadata": {},
   "outputs": [],
   "source": [
    "future_dates=[data.index[-1] + DateOffset(months=x)for x in range(0,24)]"
   ]
  },
  {
   "cell_type": "code",
   "execution_count": 55,
   "metadata": {},
   "outputs": [
    {
     "data": {
      "text/plain": [
       "[Timestamp('1972-09-01 00:00:00'),\n",
       " Timestamp('1972-10-01 00:00:00'),\n",
       " Timestamp('1972-11-01 00:00:00'),\n",
       " Timestamp('1972-12-01 00:00:00'),\n",
       " Timestamp('1973-01-01 00:00:00'),\n",
       " Timestamp('1973-02-01 00:00:00'),\n",
       " Timestamp('1973-03-01 00:00:00'),\n",
       " Timestamp('1973-04-01 00:00:00'),\n",
       " Timestamp('1973-05-01 00:00:00'),\n",
       " Timestamp('1973-06-01 00:00:00'),\n",
       " Timestamp('1973-07-01 00:00:00'),\n",
       " Timestamp('1973-08-01 00:00:00'),\n",
       " Timestamp('1973-09-01 00:00:00'),\n",
       " Timestamp('1973-10-01 00:00:00'),\n",
       " Timestamp('1973-11-01 00:00:00'),\n",
       " Timestamp('1973-12-01 00:00:00'),\n",
       " Timestamp('1974-01-01 00:00:00'),\n",
       " Timestamp('1974-02-01 00:00:00'),\n",
       " Timestamp('1974-03-01 00:00:00'),\n",
       " Timestamp('1974-04-01 00:00:00'),\n",
       " Timestamp('1974-05-01 00:00:00'),\n",
       " Timestamp('1974-06-01 00:00:00'),\n",
       " Timestamp('1974-07-01 00:00:00'),\n",
       " Timestamp('1974-08-01 00:00:00')]"
      ]
     },
     "execution_count": 55,
     "metadata": {},
     "output_type": "execute_result"
    }
   ],
   "source": [
    "future_dates"
   ]
  },
  {
   "cell_type": "code",
   "execution_count": 57,
   "metadata": {},
   "outputs": [],
   "source": [
    "future_dataset=pd.DataFrame(index=future_dates[1:],columns=data.columns)"
   ]
  },
  {
   "cell_type": "code",
   "execution_count": 58,
   "metadata": {},
   "outputs": [
    {
     "data": {
      "text/html": [
       "<div>\n",
       "<style scoped>\n",
       "    .dataframe tbody tr th:only-of-type {\n",
       "        vertical-align: middle;\n",
       "    }\n",
       "\n",
       "    .dataframe tbody tr th {\n",
       "        vertical-align: top;\n",
       "    }\n",
       "\n",
       "    .dataframe thead th {\n",
       "        text-align: right;\n",
       "    }\n",
       "</style>\n",
       "<table border=\"1\" class=\"dataframe\">\n",
       "  <thead>\n",
       "    <tr style=\"text-align: right;\">\n",
       "      <th></th>\n",
       "      <th>Sales</th>\n",
       "      <th>Sales first diff</th>\n",
       "      <th>Seasonal Sales diff</th>\n",
       "      <th>forcast</th>\n",
       "      <th>forcast_SARIMAX</th>\n",
       "    </tr>\n",
       "  </thead>\n",
       "  <tbody>\n",
       "    <tr>\n",
       "      <th>1972-10-01</th>\n",
       "      <td>NaN</td>\n",
       "      <td>NaN</td>\n",
       "      <td>NaN</td>\n",
       "      <td>NaN</td>\n",
       "      <td>NaN</td>\n",
       "    </tr>\n",
       "    <tr>\n",
       "      <th>1972-11-01</th>\n",
       "      <td>NaN</td>\n",
       "      <td>NaN</td>\n",
       "      <td>NaN</td>\n",
       "      <td>NaN</td>\n",
       "      <td>NaN</td>\n",
       "    </tr>\n",
       "    <tr>\n",
       "      <th>1972-12-01</th>\n",
       "      <td>NaN</td>\n",
       "      <td>NaN</td>\n",
       "      <td>NaN</td>\n",
       "      <td>NaN</td>\n",
       "      <td>NaN</td>\n",
       "    </tr>\n",
       "    <tr>\n",
       "      <th>1973-01-01</th>\n",
       "      <td>NaN</td>\n",
       "      <td>NaN</td>\n",
       "      <td>NaN</td>\n",
       "      <td>NaN</td>\n",
       "      <td>NaN</td>\n",
       "    </tr>\n",
       "    <tr>\n",
       "      <th>1973-02-01</th>\n",
       "      <td>NaN</td>\n",
       "      <td>NaN</td>\n",
       "      <td>NaN</td>\n",
       "      <td>NaN</td>\n",
       "      <td>NaN</td>\n",
       "    </tr>\n",
       "  </tbody>\n",
       "</table>\n",
       "</div>"
      ],
      "text/plain": [
       "           Sales Sales first diff Seasonal Sales diff forcast forcast_SARIMAX\n",
       "1972-10-01   NaN              NaN                 NaN     NaN             NaN\n",
       "1972-11-01   NaN              NaN                 NaN     NaN             NaN\n",
       "1972-12-01   NaN              NaN                 NaN     NaN             NaN\n",
       "1973-01-01   NaN              NaN                 NaN     NaN             NaN\n",
       "1973-02-01   NaN              NaN                 NaN     NaN             NaN"
      ]
     },
     "execution_count": 58,
     "metadata": {},
     "output_type": "execute_result"
    }
   ],
   "source": [
    "future_dataset.head()"
   ]
  },
  {
   "cell_type": "code",
   "execution_count": 62,
   "metadata": {},
   "outputs": [],
   "source": [
    "future_data=pd.concat([data,future_dataset])"
   ]
  },
  {
   "cell_type": "code",
   "execution_count": 63,
   "metadata": {},
   "outputs": [
    {
     "data": {
      "text/plain": [
       "(128, 5)"
      ]
     },
     "execution_count": 63,
     "metadata": {},
     "output_type": "execute_result"
    }
   ],
   "source": [
    "future_data.shape"
   ]
  },
  {
   "cell_type": "code",
   "execution_count": 64,
   "metadata": {},
   "outputs": [],
   "source": [
    "future_data['forcast_SARIMAX1']=result.predict(start=104,end=124,dynamic=True)"
   ]
  },
  {
   "cell_type": "code",
   "execution_count": 65,
   "metadata": {},
   "outputs": [
    {
     "data": {
      "text/plain": [
       "<matplotlib.axes._subplots.AxesSubplot at 0x15deb9197c8>"
      ]
     },
     "execution_count": 65,
     "metadata": {},
     "output_type": "execute_result"
    },
    {
     "data": {
      "image/png": "[encoded data removed]",
      "text/plain": [
       "<Figure size 720x720 with 1 Axes>"
      ]
     },
     "metadata": {
      "needs_background": "light"
     },
     "output_type": "display_data"
    }
   ],
   "source": [
    "future_data[['Sales','forcast_SARIMAX1']].plot(figsize=(10,10))"
   ]
  },
  {
   "cell_type": "code",
   "execution_count": null,
   "metadata": {},
   "outputs": [],
   "source": []
  }
 ],
 "metadata": {
  "kernelspec": {
   "display_name": "Python 3",
   "language": "python",
   "name": "python3"
  },
  "language_info": {
   "codemirror_mode": {
    "name": "ipython",
    "version": 3
   },
   "file_extension": ".py",
   "mimetype": "text/x-python",
   "name": "python",
   "nbconvert_exporter": "python",
   "pygments_lexer": "ipython3",
   "version": "3.7.6"
  }
 },
 "nbformat": 4,
 "nbformat_minor": 4
}
