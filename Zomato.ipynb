{
 "cells": [
  {
   "cell_type": "code",
   "execution_count": 1,
   "metadata": {},
   "outputs": [],
   "source": [
    "import pandas as pd\n",
    "import numpy as np\n",
    "import matplotlib.pyplot as plt\n",
    "import seaborn as sns"
   ]
  },
  {
   "cell_type": "code",
   "execution_count": 2,
   "metadata": {},
   "outputs": [],
   "source": [
    "df =pd.read_csv(\"zomato.csv\")"
   ]
  },
  {
   "cell_type": "code",
   "execution_count": 3,
   "metadata": {},
   "outputs": [
    {
     "data": {
      "text/html": [
       "<div>\n",
       "<style scoped>\n",
       "    .dataframe tbody tr th:only-of-type {\n",
       "        vertical-align: middle;\n",
       "    }\n",
       "\n",
       "    .dataframe tbody tr th {\n",
       "        vertical-align: top;\n",
       "    }\n",
       "\n",
       "    .dataframe thead th {\n",
       "        text-align: right;\n",
       "    }\n",
       "</style>\n",
       "<table border=\"1\" class=\"dataframe\">\n",
       "  <thead>\n",
       "    <tr style=\"text-align: right;\">\n",
       "      <th></th>\n",
       "      <th>url</th>\n",
       "      <th>address</th>\n",
       "      <th>name</th>\n",
       "      <th>online_order</th>\n",
       "      <th>book_table</th>\n",
       "      <th>rate</th>\n",
       "      <th>votes</th>\n",
       "      <th>phone</th>\n",
       "      <th>location</th>\n",
       "      <th>rest_type</th>\n",
       "      <th>dish_liked</th>\n",
       "      <th>cuisines</th>\n",
       "      <th>approx_cost(for two people)</th>\n",
       "      <th>reviews_list</th>\n",
       "      <th>menu_item</th>\n",
       "      <th>listed_in(type)</th>\n",
       "      <th>listed_in(city)</th>\n",
       "    </tr>\n",
       "  </thead>\n",
       "  <tbody>\n",
       "    <tr>\n",
       "      <th>0</th>\n",
       "      <td>https://www.zomato.com/bangalore/jalsa-banasha...</td>\n",
       "      <td>942, 21st Main Road, 2nd Stage, Banashankari, ...</td>\n",
       "      <td>Jalsa</td>\n",
       "      <td>Yes</td>\n",
       "      <td>Yes</td>\n",
       "      <td>4.1/5</td>\n",
       "      <td>775</td>\n",
       "      <td>080 42297555\\r\\n+91 9743772233</td>\n",
       "      <td>Banashankari</td>\n",
       "      <td>Casual Dining</td>\n",
       "      <td>Pasta, Lunch Buffet, Masala Papad, Paneer Laja...</td>\n",
       "      <td>North Indian, Mughlai, Chinese</td>\n",
       "      <td>800</td>\n",
       "      <td>[('Rated 4.0', 'RATED\\n  A beautiful place to ...</td>\n",
       "      <td>[]</td>\n",
       "      <td>Buffet</td>\n",
       "      <td>Banashankari</td>\n",
       "    </tr>\n",
       "    <tr>\n",
       "      <th>1</th>\n",
       "      <td>https://www.zomato.com/bangalore/spice-elephan...</td>\n",
       "      <td>2nd Floor, 80 Feet Road, Near Big Bazaar, 6th ...</td>\n",
       "      <td>Spice Elephant</td>\n",
       "      <td>Yes</td>\n",
       "      <td>No</td>\n",
       "      <td>4.1/5</td>\n",
       "      <td>787</td>\n",
       "      <td>080 41714161</td>\n",
       "      <td>Banashankari</td>\n",
       "      <td>Casual Dining</td>\n",
       "      <td>Momos, Lunch Buffet, Chocolate Nirvana, Thai G...</td>\n",
       "      <td>Chinese, North Indian, Thai</td>\n",
       "      <td>800</td>\n",
       "      <td>[('Rated 4.0', 'RATED\\n  Had been here for din...</td>\n",
       "      <td>[]</td>\n",
       "      <td>Buffet</td>\n",
       "      <td>Banashankari</td>\n",
       "    </tr>\n",
       "    <tr>\n",
       "      <th>2</th>\n",
       "      <td>https://www.zomato.com/SanchurroBangalore?cont...</td>\n",
       "      <td>1112, Next to KIMS Medical College, 17th Cross...</td>\n",
       "      <td>San Churro Cafe</td>\n",
       "      <td>Yes</td>\n",
       "      <td>No</td>\n",
       "      <td>3.8/5</td>\n",
       "      <td>918</td>\n",
       "      <td>+91 9663487993</td>\n",
       "      <td>Banashankari</td>\n",
       "      <td>Cafe, Casual Dining</td>\n",
       "      <td>Churros, Cannelloni, Minestrone Soup, Hot Choc...</td>\n",
       "      <td>Cafe, Mexican, Italian</td>\n",
       "      <td>800</td>\n",
       "      <td>[('Rated 3.0', \"RATED\\n  Ambience is not that ...</td>\n",
       "      <td>[]</td>\n",
       "      <td>Buffet</td>\n",
       "      <td>Banashankari</td>\n",
       "    </tr>\n",
       "    <tr>\n",
       "      <th>3</th>\n",
       "      <td>https://www.zomato.com/bangalore/addhuri-udupi...</td>\n",
       "      <td>1st Floor, Annakuteera, 3rd Stage, Banashankar...</td>\n",
       "      <td>Addhuri Udupi Bhojana</td>\n",
       "      <td>No</td>\n",
       "      <td>No</td>\n",
       "      <td>3.7/5</td>\n",
       "      <td>88</td>\n",
       "      <td>+91 9620009302</td>\n",
       "      <td>Banashankari</td>\n",
       "      <td>Quick Bites</td>\n",
       "      <td>Masala Dosa</td>\n",
       "      <td>South Indian, North Indian</td>\n",
       "      <td>300</td>\n",
       "      <td>[('Rated 4.0', \"RATED\\n  Great food and proper...</td>\n",
       "      <td>[]</td>\n",
       "      <td>Buffet</td>\n",
       "      <td>Banashankari</td>\n",
       "    </tr>\n",
       "    <tr>\n",
       "      <th>4</th>\n",
       "      <td>https://www.zomato.com/bangalore/grand-village...</td>\n",
       "      <td>10, 3rd Floor, Lakshmi Associates, Gandhi Baza...</td>\n",
       "      <td>Grand Village</td>\n",
       "      <td>No</td>\n",
       "      <td>No</td>\n",
       "      <td>3.8/5</td>\n",
       "      <td>166</td>\n",
       "      <td>+91 8026612447\\r\\n+91 9901210005</td>\n",
       "      <td>Basavanagudi</td>\n",
       "      <td>Casual Dining</td>\n",
       "      <td>Panipuri, Gol Gappe</td>\n",
       "      <td>North Indian, Rajasthani</td>\n",
       "      <td>600</td>\n",
       "      <td>[('Rated 4.0', 'RATED\\n  Very good restaurant ...</td>\n",
       "      <td>[]</td>\n",
       "      <td>Buffet</td>\n",
       "      <td>Banashankari</td>\n",
       "    </tr>\n",
       "  </tbody>\n",
       "</table>\n",
       "</div>"
      ],
      "text/plain": [
       "                                                 url  \\\n",
       "0  https://www.zomato.com/bangalore/jalsa-banasha...   \n",
       "1  https://www.zomato.com/bangalore/spice-elephan...   \n",
       "2  https://www.zomato.com/SanchurroBangalore?cont...   \n",
       "3  https://www.zomato.com/bangalore/addhuri-udupi...   \n",
       "4  https://www.zomato.com/bangalore/grand-village...   \n",
       "\n",
       "                                             address                   name  \\\n",
       "0  942, 21st Main Road, 2nd Stage, Banashankari, ...                  Jalsa   \n",
       "1  2nd Floor, 80 Feet Road, Near Big Bazaar, 6th ...         Spice Elephant   \n",
       "2  1112, Next to KIMS Medical College, 17th Cross...        San Churro Cafe   \n",
       "3  1st Floor, Annakuteera, 3rd Stage, Banashankar...  Addhuri Udupi Bhojana   \n",
       "4  10, 3rd Floor, Lakshmi Associates, Gandhi Baza...          Grand Village   \n",
       "\n",
       "  online_order book_table   rate  votes                             phone  \\\n",
       "0          Yes        Yes  4.1/5    775    080 42297555\\r\\n+91 9743772233   \n",
       "1          Yes         No  4.1/5    787                      080 41714161   \n",
       "2          Yes         No  3.8/5    918                    +91 9663487993   \n",
       "3           No         No  3.7/5     88                    +91 9620009302   \n",
       "4           No         No  3.8/5    166  +91 8026612447\\r\\n+91 9901210005   \n",
       "\n",
       "       location            rest_type  \\\n",
       "0  Banashankari        Casual Dining   \n",
       "1  Banashankari        Casual Dining   \n",
       "2  Banashankari  Cafe, Casual Dining   \n",
       "3  Banashankari          Quick Bites   \n",
       "4  Basavanagudi        Casual Dining   \n",
       "\n",
       "                                          dish_liked  \\\n",
       "0  Pasta, Lunch Buffet, Masala Papad, Paneer Laja...   \n",
       "1  Momos, Lunch Buffet, Chocolate Nirvana, Thai G...   \n",
       "2  Churros, Cannelloni, Minestrone Soup, Hot Choc...   \n",
       "3                                        Masala Dosa   \n",
       "4                                Panipuri, Gol Gappe   \n",
       "\n",
       "                         cuisines approx_cost(for two people)  \\\n",
       "0  North Indian, Mughlai, Chinese                         800   \n",
       "1     Chinese, North Indian, Thai                         800   \n",
       "2          Cafe, Mexican, Italian                         800   \n",
       "3      South Indian, North Indian                         300   \n",
       "4        North Indian, Rajasthani                         600   \n",
       "\n",
       "                                        reviews_list menu_item  \\\n",
       "0  [('Rated 4.0', 'RATED\\n  A beautiful place to ...        []   \n",
       "1  [('Rated 4.0', 'RATED\\n  Had been here for din...        []   \n",
       "2  [('Rated 3.0', \"RATED\\n  Ambience is not that ...        []   \n",
       "3  [('Rated 4.0', \"RATED\\n  Great food and proper...        []   \n",
       "4  [('Rated 4.0', 'RATED\\n  Very good restaurant ...        []   \n",
       "\n",
       "  listed_in(type) listed_in(city)  \n",
       "0          Buffet    Banashankari  \n",
       "1          Buffet    Banashankari  \n",
       "2          Buffet    Banashankari  \n",
       "3          Buffet    Banashankari  \n",
       "4          Buffet    Banashankari  "
      ]
     },
     "execution_count": 3,
     "metadata": {},
     "output_type": "execute_result"
    }
   ],
   "source": [
    "df.head()"
   ]
  },
  {
   "cell_type": "code",
   "execution_count": 4,
   "metadata": {},
   "outputs": [
    {
     "data": {
      "text/plain": [
       "(51717, 17)"
      ]
     },
     "execution_count": 4,
     "metadata": {},
     "output_type": "execute_result"
    }
   ],
   "source": [
    "df.shape"
   ]
  },
  {
   "cell_type": "code",
   "execution_count": 5,
   "metadata": {},
   "outputs": [
    {
     "data": {
      "text/plain": [
       "Index(['url', 'address', 'name', 'online_order', 'book_table', 'rate', 'votes',\n",
       "       'phone', 'location', 'rest_type', 'dish_liked', 'cuisines',\n",
       "       'approx_cost(for two people)', 'reviews_list', 'menu_item',\n",
       "       'listed_in(type)', 'listed_in(city)'],\n",
       "      dtype='object')"
      ]
     },
     "execution_count": 5,
     "metadata": {},
     "output_type": "execute_result"
    }
   ],
   "source": [
    "df.columns"
   ]
  },
  {
   "cell_type": "code",
   "execution_count": 6,
   "metadata": {},
   "outputs": [
    {
     "data": {
      "text/plain": [
       "url                                0\n",
       "address                            0\n",
       "name                               0\n",
       "online_order                       0\n",
       "book_table                         0\n",
       "rate                            7775\n",
       "votes                              0\n",
       "phone                           1208\n",
       "location                          21\n",
       "rest_type                        227\n",
       "dish_liked                     28078\n",
       "cuisines                          45\n",
       "approx_cost(for two people)      346\n",
       "reviews_list                       0\n",
       "menu_item                          0\n",
       "listed_in(type)                    0\n",
       "listed_in(city)                    0\n",
       "dtype: int64"
      ]
     },
     "execution_count": 6,
     "metadata": {},
     "output_type": "execute_result"
    }
   ],
   "source": [
    "df.isnull().sum()"
   ]
  },
  {
   "cell_type": "code",
   "execution_count": 7,
   "metadata": {},
   "outputs": [
    {
     "data": {
      "text/plain": [
       "url                                0\n",
       "address                            0\n",
       "name                               0\n",
       "online_order                       0\n",
       "book_table                         0\n",
       "rate                            7775\n",
       "votes                              0\n",
       "phone                           1208\n",
       "location                          21\n",
       "rest_type                        227\n",
       "dish_liked                     28078\n",
       "cuisines                          45\n",
       "approx_cost(for two people)      346\n",
       "reviews_list                       0\n",
       "menu_item                          0\n",
       "listed_in(type)                    0\n",
       "listed_in(city)                    0\n",
       "dtype: int64"
      ]
     },
     "execution_count": 7,
     "metadata": {},
     "output_type": "execute_result"
    }
   ],
   "source": [
    "df.isnull().sum()"
   ]
  },
  {
   "cell_type": "code",
   "execution_count": 8,
   "metadata": {},
   "outputs": [
    {
     "data": {
      "text/plain": [
       "['rate',\n",
       " 'phone',\n",
       " 'location',\n",
       " 'rest_type',\n",
       " 'dish_liked',\n",
       " 'cuisines',\n",
       " 'approx_cost(for two people)']"
      ]
     },
     "execution_count": 8,
     "metadata": {},
     "output_type": "execute_result"
    }
   ],
   "source": [
    "[columns for columns in df.columns if df[columns].isnull().sum()>1]"
   ]
  },
  {
   "cell_type": "code",
   "execution_count": 9,
   "metadata": {},
   "outputs": [
    {
     "data": {
      "text/plain": [
       "['rate',\n",
       " 'phone',\n",
       " 'location',\n",
       " 'rest_type',\n",
       " 'dish_liked',\n",
       " 'cuisines',\n",
       " 'approx_cost(for two people)']"
      ]
     },
     "execution_count": 9,
     "metadata": {},
     "output_type": "execute_result"
    }
   ],
   "source": [
    "columns_na=[]\n",
    "for columns in df.columns:\n",
    "    if df[columns].isnull().sum()>1:\n",
    "        columns_na.append(columns)\n",
    "columns_na        "
   ]
  },
  {
   "cell_type": "code",
   "execution_count": 10,
   "metadata": {},
   "outputs": [
    {
     "name": "stdout",
     "output_type": "stream",
     "text": [
      "rate has 15.03% missng value\n",
      "phone has 2.34% missng value\n",
      "location has 0.04% missng value\n",
      "rest_type has 0.44% missng value\n",
      "dish_liked has 54.29% missng value\n",
      "cuisines has 0.09% missng value\n",
      "approx_cost(for two people) has 0.67% missng value\n"
     ]
    }
   ],
   "source": [
    "for columns in columns_na:\n",
    "    print(\"{} has {}% missng value\".format(columns,np.round(df[columns].isnull().sum()/len(df)*100,2)))"
   ]
  },
  {
   "cell_type": "code",
   "execution_count": 11,
   "metadata": {},
   "outputs": [
    {
     "name": "stdout",
     "output_type": "stream",
     "text": [
      "<class 'pandas.core.frame.DataFrame'>\n",
      "RangeIndex: 51717 entries, 0 to 51716\n",
      "Data columns (total 17 columns):\n",
      " #   Column                       Non-Null Count  Dtype \n",
      "---  ------                       --------------  ----- \n",
      " 0   url                          51717 non-null  object\n",
      " 1   address                      51717 non-null  object\n",
      " 2   name                         51717 non-null  object\n",
      " 3   online_order                 51717 non-null  object\n",
      " 4   book_table                   51717 non-null  object\n",
      " 5   rate                         43942 non-null  object\n",
      " 6   votes                        51717 non-null  int64 \n",
      " 7   phone                        50509 non-null  object\n",
      " 8   location                     51696 non-null  object\n",
      " 9   rest_type                    51490 non-null  object\n",
      " 10  dish_liked                   23639 non-null  object\n",
      " 11  cuisines                     51672 non-null  object\n",
      " 12  approx_cost(for two people)  51371 non-null  object\n",
      " 13  reviews_list                 51717 non-null  object\n",
      " 14  menu_item                    51717 non-null  object\n",
      " 15  listed_in(type)              51717 non-null  object\n",
      " 16  listed_in(city)              51717 non-null  object\n",
      "dtypes: int64(1), object(16)\n",
      "memory usage: 6.7+ MB\n"
     ]
    }
   ],
   "source": [
    "df.info()"
   ]
  },
  {
   "cell_type": "code",
   "execution_count": 12,
   "metadata": {
    "scrolled": false
   },
   "outputs": [
    {
     "data": {
      "text/html": [
       "<div>\n",
       "<style scoped>\n",
       "    .dataframe tbody tr th:only-of-type {\n",
       "        vertical-align: middle;\n",
       "    }\n",
       "\n",
       "    .dataframe tbody tr th {\n",
       "        vertical-align: top;\n",
       "    }\n",
       "\n",
       "    .dataframe thead th {\n",
       "        text-align: right;\n",
       "    }\n",
       "</style>\n",
       "<table border=\"1\" class=\"dataframe\">\n",
       "  <thead>\n",
       "    <tr style=\"text-align: right;\">\n",
       "      <th></th>\n",
       "      <th>url</th>\n",
       "      <th>address</th>\n",
       "      <th>name</th>\n",
       "      <th>online_order</th>\n",
       "      <th>book_table</th>\n",
       "      <th>rate</th>\n",
       "      <th>votes</th>\n",
       "      <th>phone</th>\n",
       "      <th>location</th>\n",
       "      <th>rest_type</th>\n",
       "      <th>dish_liked</th>\n",
       "      <th>cuisines</th>\n",
       "      <th>approx_cost(for two people)</th>\n",
       "      <th>reviews_list</th>\n",
       "      <th>menu_item</th>\n",
       "      <th>listed_in(type)</th>\n",
       "      <th>listed_in(city)</th>\n",
       "    </tr>\n",
       "  </thead>\n",
       "  <tbody>\n",
       "    <tr>\n",
       "      <th>1662</th>\n",
       "      <td>https://www.zomato.com/bangalore/papa-khan-ras...</td>\n",
       "      <td>6, Abbiah Layout KC Halli Main Road, Bommanaha...</td>\n",
       "      <td>Papa Khan Rasoi</td>\n",
       "      <td>No</td>\n",
       "      <td>No</td>\n",
       "      <td>NaN</td>\n",
       "      <td>0</td>\n",
       "      <td>NaN</td>\n",
       "      <td>NaN</td>\n",
       "      <td>NaN</td>\n",
       "      <td>NaN</td>\n",
       "      <td>NaN</td>\n",
       "      <td>NaN</td>\n",
       "      <td>[]</td>\n",
       "      <td>[]</td>\n",
       "      <td>Delivery</td>\n",
       "      <td>Bannerghatta Road</td>\n",
       "    </tr>\n",
       "    <tr>\n",
       "      <th>1768</th>\n",
       "      <td>https://www.zomato.com/bangalore/innate-jp-nag...</td>\n",
       "      <td>45, 14th Main, 7th phase, Puttehahalli Palya, ...</td>\n",
       "      <td>Innate</td>\n",
       "      <td>No</td>\n",
       "      <td>No</td>\n",
       "      <td>NaN</td>\n",
       "      <td>0</td>\n",
       "      <td>NaN</td>\n",
       "      <td>JP Nagar</td>\n",
       "      <td>Delivery</td>\n",
       "      <td>NaN</td>\n",
       "      <td>Beverages</td>\n",
       "      <td>NaN</td>\n",
       "      <td>[]</td>\n",
       "      <td>[]</td>\n",
       "      <td>Delivery</td>\n",
       "      <td>Bannerghatta Road</td>\n",
       "    </tr>\n",
       "    <tr>\n",
       "      <th>1795</th>\n",
       "      <td>https://www.zomato.com/bangalore/super-chefs-b...</td>\n",
       "      <td>8/3, Opposite Suryadhoya Convention hall, Bann...</td>\n",
       "      <td>Super Chef's (New Royal treat)</td>\n",
       "      <td>No</td>\n",
       "      <td>No</td>\n",
       "      <td>NaN</td>\n",
       "      <td>0</td>\n",
       "      <td>NaN</td>\n",
       "      <td>Bannerghatta Road</td>\n",
       "      <td>Quick Bites</td>\n",
       "      <td>NaN</td>\n",
       "      <td>North Indian, Chinese, South Indian</td>\n",
       "      <td>NaN</td>\n",
       "      <td>[('Rated 1.0', 'RATED\\n  Many items were missi...</td>\n",
       "      <td>[]</td>\n",
       "      <td>Delivery</td>\n",
       "      <td>Bannerghatta Road</td>\n",
       "    </tr>\n",
       "    <tr>\n",
       "      <th>3069</th>\n",
       "      <td>https://www.zomato.com/bangalore/super-chefs-b...</td>\n",
       "      <td>8/3, Opposite Suryadhoya Convention hall, Bann...</td>\n",
       "      <td>Super Chef's (New Royal treat)</td>\n",
       "      <td>No</td>\n",
       "      <td>No</td>\n",
       "      <td>-</td>\n",
       "      <td>0</td>\n",
       "      <td>NaN</td>\n",
       "      <td>Bannerghatta Road</td>\n",
       "      <td>Quick Bites</td>\n",
       "      <td>NaN</td>\n",
       "      <td>North Indian, Chinese, South Indian</td>\n",
       "      <td>NaN</td>\n",
       "      <td>[('Rated 1.0', 'RATED\\n  Many items were missi...</td>\n",
       "      <td>[]</td>\n",
       "      <td>Delivery</td>\n",
       "      <td>Basavanagudi</td>\n",
       "    </tr>\n",
       "    <tr>\n",
       "      <th>3774</th>\n",
       "      <td>https://www.zomato.com/bangalore/the-hub-ibis-...</td>\n",
       "      <td>Ibis Bengaluru, Opposite RMZ Ecospace Business...</td>\n",
       "      <td>The Hub - Ibis Bengaluru</td>\n",
       "      <td>No</td>\n",
       "      <td>No</td>\n",
       "      <td>3.9/5</td>\n",
       "      <td>237</td>\n",
       "      <td>NaN</td>\n",
       "      <td>Marathahalli</td>\n",
       "      <td>Bar</td>\n",
       "      <td>Dal Makhani, Cocktails, Lunch Buffet, Breakfas...</td>\n",
       "      <td>Finger Food</td>\n",
       "      <td>NaN</td>\n",
       "      <td>[('Rated 4.0', 'RATED\\n  The Hub is a small ba...</td>\n",
       "      <td>[]</td>\n",
       "      <td>Buffet</td>\n",
       "      <td>Bellandur</td>\n",
       "    </tr>\n",
       "    <tr>\n",
       "      <th>...</th>\n",
       "      <td>...</td>\n",
       "      <td>...</td>\n",
       "      <td>...</td>\n",
       "      <td>...</td>\n",
       "      <td>...</td>\n",
       "      <td>...</td>\n",
       "      <td>...</td>\n",
       "      <td>...</td>\n",
       "      <td>...</td>\n",
       "      <td>...</td>\n",
       "      <td>...</td>\n",
       "      <td>...</td>\n",
       "      <td>...</td>\n",
       "      <td>...</td>\n",
       "      <td>...</td>\n",
       "      <td>...</td>\n",
       "      <td>...</td>\n",
       "    </tr>\n",
       "    <tr>\n",
       "      <th>50940</th>\n",
       "      <td>https://www.zomato.com/bangalore/cinnabon-whit...</td>\n",
       "      <td>Ground Floor, The Forum Neighborhood Mall, Pre...</td>\n",
       "      <td>Cinnabon</td>\n",
       "      <td>No</td>\n",
       "      <td>No</td>\n",
       "      <td>4.0 /5</td>\n",
       "      <td>80</td>\n",
       "      <td>NaN</td>\n",
       "      <td>Whitefield</td>\n",
       "      <td>Quick Bites</td>\n",
       "      <td>Rolls, Cinnamon Roll, Cinnamon Bun</td>\n",
       "      <td>Beverages, American, Bakery</td>\n",
       "      <td>NaN</td>\n",
       "      <td>[('Rated 4.0', \"RATED\\n  Who else is a Cinnabo...</td>\n",
       "      <td>[]</td>\n",
       "      <td>Desserts</td>\n",
       "      <td>Whitefield</td>\n",
       "    </tr>\n",
       "    <tr>\n",
       "      <th>51233</th>\n",
       "      <td>https://www.zomato.com/bangalore/mayas-kitchen...</td>\n",
       "      <td>43/9, Borewell Rd, Palm Meadows, Nallurhalli, ...</td>\n",
       "      <td>Mayas kitchen</td>\n",
       "      <td>No</td>\n",
       "      <td>No</td>\n",
       "      <td>NaN</td>\n",
       "      <td>0</td>\n",
       "      <td>NaN</td>\n",
       "      <td>Whitefield</td>\n",
       "      <td>Casual Dining</td>\n",
       "      <td>NaN</td>\n",
       "      <td>South Indian, Chinese, Chettinad</td>\n",
       "      <td>NaN</td>\n",
       "      <td>[('Rated 4.0', \"RATED\\n  Food was pretty good,...</td>\n",
       "      <td>[]</td>\n",
       "      <td>Dine-out</td>\n",
       "      <td>Whitefield</td>\n",
       "    </tr>\n",
       "    <tr>\n",
       "      <th>51247</th>\n",
       "      <td>https://www.zomato.com/bangalore/mast-kalandar...</td>\n",
       "      <td>D64, 33, 1st Floor, Sundari Armadale, Next To ...</td>\n",
       "      <td>Mast Kalandar</td>\n",
       "      <td>No</td>\n",
       "      <td>No</td>\n",
       "      <td>2.6 /5</td>\n",
       "      <td>76</td>\n",
       "      <td>NaN</td>\n",
       "      <td>Whitefield</td>\n",
       "      <td>Casual Dining</td>\n",
       "      <td>Gulab Jamun, Lassi, Dal Makhani, Buttermilk, T...</td>\n",
       "      <td>North Indian</td>\n",
       "      <td>NaN</td>\n",
       "      <td>[('Rated 1.0', 'RATED\\n  Terrible food in this...</td>\n",
       "      <td>[]</td>\n",
       "      <td>Dine-out</td>\n",
       "      <td>Whitefield</td>\n",
       "    </tr>\n",
       "    <tr>\n",
       "      <th>51271</th>\n",
       "      <td>https://www.zomato.com/bangalore/karavalli-foo...</td>\n",
       "      <td>N254-107, 1st Main Road, Near ITPL Gate 3, KIA...</td>\n",
       "      <td>Karavalli Food Court</td>\n",
       "      <td>No</td>\n",
       "      <td>No</td>\n",
       "      <td>3.2 /5</td>\n",
       "      <td>4</td>\n",
       "      <td>NaN</td>\n",
       "      <td>Whitefield</td>\n",
       "      <td>Casual Dining</td>\n",
       "      <td>NaN</td>\n",
       "      <td>South Indian</td>\n",
       "      <td>NaN</td>\n",
       "      <td>[('Rated 1.0', 'RATED\\n  i was a regular custo...</td>\n",
       "      <td>[]</td>\n",
       "      <td>Dine-out</td>\n",
       "      <td>Whitefield</td>\n",
       "    </tr>\n",
       "    <tr>\n",
       "      <th>51641</th>\n",
       "      <td>https://www.zomato.com/bangalore/andhra-spices...</td>\n",
       "      <td>188, ITPL Main Road, Brookefields, Bangalore, ...</td>\n",
       "      <td>Andhra Spices</td>\n",
       "      <td>No</td>\n",
       "      <td>No</td>\n",
       "      <td>3.2 /5</td>\n",
       "      <td>4</td>\n",
       "      <td>NaN</td>\n",
       "      <td>Brookefield</td>\n",
       "      <td>Quick Bites</td>\n",
       "      <td>NaN</td>\n",
       "      <td>Andhra, Chinese, South Indian</td>\n",
       "      <td>NaN</td>\n",
       "      <td>[('Rated 2.0', \"RATED\\n  Food is not upto the ...</td>\n",
       "      <td>[]</td>\n",
       "      <td>Dine-out</td>\n",
       "      <td>Whitefield</td>\n",
       "    </tr>\n",
       "  </tbody>\n",
       "</table>\n",
       "<p>346 rows × 17 columns</p>\n",
       "</div>"
      ],
      "text/plain": [
       "                                                     url  \\\n",
       "1662   https://www.zomato.com/bangalore/papa-khan-ras...   \n",
       "1768   https://www.zomato.com/bangalore/innate-jp-nag...   \n",
       "1795   https://www.zomato.com/bangalore/super-chefs-b...   \n",
       "3069   https://www.zomato.com/bangalore/super-chefs-b...   \n",
       "3774   https://www.zomato.com/bangalore/the-hub-ibis-...   \n",
       "...                                                  ...   \n",
       "50940  https://www.zomato.com/bangalore/cinnabon-whit...   \n",
       "51233  https://www.zomato.com/bangalore/mayas-kitchen...   \n",
       "51247  https://www.zomato.com/bangalore/mast-kalandar...   \n",
       "51271  https://www.zomato.com/bangalore/karavalli-foo...   \n",
       "51641  https://www.zomato.com/bangalore/andhra-spices...   \n",
       "\n",
       "                                                 address  \\\n",
       "1662   6, Abbiah Layout KC Halli Main Road, Bommanaha...   \n",
       "1768   45, 14th Main, 7th phase, Puttehahalli Palya, ...   \n",
       "1795   8/3, Opposite Suryadhoya Convention hall, Bann...   \n",
       "3069   8/3, Opposite Suryadhoya Convention hall, Bann...   \n",
       "3774   Ibis Bengaluru, Opposite RMZ Ecospace Business...   \n",
       "...                                                  ...   \n",
       "50940  Ground Floor, The Forum Neighborhood Mall, Pre...   \n",
       "51233  43/9, Borewell Rd, Palm Meadows, Nallurhalli, ...   \n",
       "51247  D64, 33, 1st Floor, Sundari Armadale, Next To ...   \n",
       "51271  N254-107, 1st Main Road, Near ITPL Gate 3, KIA...   \n",
       "51641  188, ITPL Main Road, Brookefields, Bangalore, ...   \n",
       "\n",
       "                                 name online_order book_table    rate  votes  \\\n",
       "1662                  Papa Khan Rasoi           No         No     NaN      0   \n",
       "1768                           Innate           No         No     NaN      0   \n",
       "1795   Super Chef's (New Royal treat)           No         No     NaN      0   \n",
       "3069   Super Chef's (New Royal treat)           No         No       -      0   \n",
       "3774         The Hub - Ibis Bengaluru           No         No   3.9/5    237   \n",
       "...                               ...          ...        ...     ...    ...   \n",
       "50940                        Cinnabon           No         No  4.0 /5     80   \n",
       "51233                   Mayas kitchen           No         No     NaN      0   \n",
       "51247                   Mast Kalandar           No         No  2.6 /5     76   \n",
       "51271            Karavalli Food Court           No         No  3.2 /5      4   \n",
       "51641                   Andhra Spices           No         No  3.2 /5      4   \n",
       "\n",
       "      phone           location      rest_type  \\\n",
       "1662    NaN                NaN            NaN   \n",
       "1768    NaN           JP Nagar       Delivery   \n",
       "1795    NaN  Bannerghatta Road    Quick Bites   \n",
       "3069    NaN  Bannerghatta Road    Quick Bites   \n",
       "3774    NaN       Marathahalli            Bar   \n",
       "...     ...                ...            ...   \n",
       "50940   NaN         Whitefield    Quick Bites   \n",
       "51233   NaN         Whitefield  Casual Dining   \n",
       "51247   NaN         Whitefield  Casual Dining   \n",
       "51271   NaN         Whitefield  Casual Dining   \n",
       "51641   NaN        Brookefield    Quick Bites   \n",
       "\n",
       "                                              dish_liked  \\\n",
       "1662                                                 NaN   \n",
       "1768                                                 NaN   \n",
       "1795                                                 NaN   \n",
       "3069                                                 NaN   \n",
       "3774   Dal Makhani, Cocktails, Lunch Buffet, Breakfas...   \n",
       "...                                                  ...   \n",
       "50940                 Rolls, Cinnamon Roll, Cinnamon Bun   \n",
       "51233                                                NaN   \n",
       "51247  Gulab Jamun, Lassi, Dal Makhani, Buttermilk, T...   \n",
       "51271                                                NaN   \n",
       "51641                                                NaN   \n",
       "\n",
       "                                  cuisines approx_cost(for two people)  \\\n",
       "1662                                   NaN                         NaN   \n",
       "1768                             Beverages                         NaN   \n",
       "1795   North Indian, Chinese, South Indian                         NaN   \n",
       "3069   North Indian, Chinese, South Indian                         NaN   \n",
       "3774                           Finger Food                         NaN   \n",
       "...                                    ...                         ...   \n",
       "50940          Beverages, American, Bakery                         NaN   \n",
       "51233     South Indian, Chinese, Chettinad                         NaN   \n",
       "51247                         North Indian                         NaN   \n",
       "51271                         South Indian                         NaN   \n",
       "51641        Andhra, Chinese, South Indian                         NaN   \n",
       "\n",
       "                                            reviews_list menu_item  \\\n",
       "1662                                                  []        []   \n",
       "1768                                                  []        []   \n",
       "1795   [('Rated 1.0', 'RATED\\n  Many items were missi...        []   \n",
       "3069   [('Rated 1.0', 'RATED\\n  Many items were missi...        []   \n",
       "3774   [('Rated 4.0', 'RATED\\n  The Hub is a small ba...        []   \n",
       "...                                                  ...       ...   \n",
       "50940  [('Rated 4.0', \"RATED\\n  Who else is a Cinnabo...        []   \n",
       "51233  [('Rated 4.0', \"RATED\\n  Food was pretty good,...        []   \n",
       "51247  [('Rated 1.0', 'RATED\\n  Terrible food in this...        []   \n",
       "51271  [('Rated 1.0', 'RATED\\n  i was a regular custo...        []   \n",
       "51641  [('Rated 2.0', \"RATED\\n  Food is not upto the ...        []   \n",
       "\n",
       "      listed_in(type)    listed_in(city)  \n",
       "1662         Delivery  Bannerghatta Road  \n",
       "1768         Delivery  Bannerghatta Road  \n",
       "1795         Delivery  Bannerghatta Road  \n",
       "3069         Delivery       Basavanagudi  \n",
       "3774           Buffet          Bellandur  \n",
       "...               ...                ...  \n",
       "50940        Desserts         Whitefield  \n",
       "51233        Dine-out         Whitefield  \n",
       "51247        Dine-out         Whitefield  \n",
       "51271        Dine-out         Whitefield  \n",
       "51641        Dine-out         Whitefield  \n",
       "\n",
       "[346 rows x 17 columns]"
      ]
     },
     "execution_count": 12,
     "metadata": {},
     "output_type": "execute_result"
    }
   ],
   "source": [
    "df[df[\"approx_cost(for two people)\"].isnull()]"
   ]
  },
  {
   "cell_type": "code",
   "execution_count": 13,
   "metadata": {},
   "outputs": [
    {
     "data": {
      "text/plain": [
       "array(['800', '300', '600', '700', '550', '500', '450', '650', '400',\n",
       "       '900', '200', '750', '150', '850', '100', '1,200', '350', '250',\n",
       "       '950', '1,000', '1,500', '1,300', '199', '80', '1,100', '160',\n",
       "       '1,600', '230', '130', '50', '190', '1,700', nan, '1,400', '180',\n",
       "       '1,350', '2,200', '2,000', '1,800', '1,900', '330', '2,500',\n",
       "       '2,100', '3,000', '2,800', '3,400', '40', '1,250', '3,500',\n",
       "       '4,000', '2,400', '2,600', '120', '1,450', '469', '70', '3,200',\n",
       "       '60', '560', '240', '360', '6,000', '1,050', '2,300', '4,100',\n",
       "       '5,000', '3,700', '1,650', '2,700', '4,500', '140'], dtype=object)"
      ]
     },
     "execution_count": 13,
     "metadata": {},
     "output_type": "execute_result"
    }
   ],
   "source": [
    "df[\"approx_cost(for two people)\"].unique()"
   ]
  },
  {
   "cell_type": "code",
   "execution_count": 14,
   "metadata": {},
   "outputs": [],
   "source": [
    "df['approx_cost(for two people)']=df['approx_cost(for two people)'].astype(str).apply(lambda x:x.replace(',',''))"
   ]
  },
  {
   "cell_type": "code",
   "execution_count": 15,
   "metadata": {},
   "outputs": [],
   "source": [
    "def repalce_comma(x):\n",
    "    return x.replace(',','')\n",
    "    "
   ]
  },
  {
   "cell_type": "code",
   "execution_count": 16,
   "metadata": {},
   "outputs": [
    {
     "data": {
      "text/plain": [
       "0         800\n",
       "1         800\n",
       "2         800\n",
       "3         300\n",
       "4         600\n",
       "         ... \n",
       "51712    1500\n",
       "51713     600\n",
       "51714    2000\n",
       "51715    2500\n",
       "51716    1500\n",
       "Name: approx_cost(for two people), Length: 51717, dtype: object"
      ]
     },
     "execution_count": 16,
     "metadata": {},
     "output_type": "execute_result"
    }
   ],
   "source": [
    "df['approx_cost(for two people)'].astype(str).apply(repalce_comma)"
   ]
  },
  {
   "cell_type": "code",
   "execution_count": 17,
   "metadata": {},
   "outputs": [
    {
     "data": {
      "text/plain": [
       "array(['800', '300', '600', '700', '550', '500', '450', '650', '400',\n",
       "       '900', '200', '750', '150', '850', '100', '1200', '350', '250',\n",
       "       '950', '1000', '1500', '1300', '199', '80', '1100', '160', '1600',\n",
       "       '230', '130', '50', '190', '1700', 'nan', '1400', '180', '1350',\n",
       "       '2200', '2000', '1800', '1900', '330', '2500', '2100', '3000',\n",
       "       '2800', '3400', '40', '1250', '3500', '4000', '2400', '2600',\n",
       "       '120', '1450', '469', '70', '3200', '60', '560', '240', '360',\n",
       "       '6000', '1050', '2300', '4100', '5000', '3700', '1650', '2700',\n",
       "       '4500', '140'], dtype=object)"
      ]
     },
     "execution_count": 17,
     "metadata": {},
     "output_type": "execute_result"
    }
   ],
   "source": [
    "df['approx_cost(for two people)'].unique()"
   ]
  },
  {
   "cell_type": "code",
   "execution_count": 18,
   "metadata": {},
   "outputs": [],
   "source": [
    "df['approx_cost(for two people)']=df['approx_cost(for two people)'].astype(float)"
   ]
  },
  {
   "cell_type": "code",
   "execution_count": 19,
   "metadata": {},
   "outputs": [
    {
     "data": {
      "text/plain": [
       "dtype('float64')"
      ]
     },
     "execution_count": 19,
     "metadata": {},
     "output_type": "execute_result"
    }
   ],
   "source": [
    "df['approx_cost(for two people)'].dtype"
   ]
  },
  {
   "cell_type": "code",
   "execution_count": 20,
   "metadata": {},
   "outputs": [
    {
     "data": {
      "text/plain": [
       "7775"
      ]
     },
     "execution_count": 20,
     "metadata": {},
     "output_type": "execute_result"
    }
   ],
   "source": [
    "df['rate'].isnull().sum()"
   ]
  },
  {
   "cell_type": "code",
   "execution_count": 21,
   "metadata": {},
   "outputs": [],
   "source": [
    "def split(x):\n",
    "    return x.split('/')[0]"
   ]
  },
  {
   "cell_type": "code",
   "execution_count": 22,
   "metadata": {},
   "outputs": [],
   "source": [
    "df['rate']=df['rate'].astype(str).apply(split)"
   ]
  },
  {
   "cell_type": "code",
   "execution_count": 23,
   "metadata": {},
   "outputs": [
    {
     "data": {
      "text/plain": [
       "array(['4.1', '3.8', '3.7', '3.6', '4.6', '4.0', '4.2', '3.9', '3.1',\n",
       "       '3.0', '3.2', '3.3', '2.8', '4.4', '4.3', 'NEW', '2.9', '3.5',\n",
       "       'nan', '2.6', '3.8 ', '3.4', '4.5', '2.5', '2.7', '4.7', '2.4',\n",
       "       '2.2', '2.3', '3.4 ', '-', '3.6 ', '4.8', '3.9 ', '4.2 ', '4.0 ',\n",
       "       '4.1 ', '3.7 ', '3.1 ', '2.9 ', '3.3 ', '2.8 ', '3.5 ', '2.7 ',\n",
       "       '2.5 ', '3.2 ', '2.6 ', '4.5 ', '4.3 ', '4.4 ', '4.9', '2.1',\n",
       "       '2.0', '1.8', '4.6 ', '4.9 ', '3.0 ', '4.8 ', '2.3 ', '4.7 ',\n",
       "       '2.4 ', '2.1 ', '2.2 ', '2.0 ', '1.8 '], dtype=object)"
      ]
     },
     "execution_count": 23,
     "metadata": {},
     "output_type": "execute_result"
    }
   ],
   "source": [
    "df['rate'].unique()"
   ]
  },
  {
   "cell_type": "code",
   "execution_count": 24,
   "metadata": {},
   "outputs": [],
   "source": [
    "df['rate'].replace('NEW',0,inplace=True)\n",
    "df['rate'].replace('-',0,inplace=True)"
   ]
  },
  {
   "cell_type": "code",
   "execution_count": 25,
   "metadata": {},
   "outputs": [],
   "source": [
    "df['rate']=df['rate'].astype(float)"
   ]
  },
  {
   "cell_type": "code",
   "execution_count": 26,
   "metadata": {},
   "outputs": [
    {
     "data": {
      "text/plain": [
       "dtype('float64')"
      ]
     },
     "execution_count": 26,
     "metadata": {},
     "output_type": "execute_result"
    }
   ],
   "source": [
    "df['rate'].dtype"
   ]
  },
  {
   "cell_type": "markdown",
   "metadata": {},
   "source": [
    "### How many types of restaurants we have?"
   ]
  },
  {
   "cell_type": "code",
   "execution_count": 27,
   "metadata": {},
   "outputs": [
    {
     "data": {
      "text/plain": [
       "Quick Bites                   19132\n",
       "Casual Dining                 10330\n",
       "Cafe                           3732\n",
       "Delivery                       2604\n",
       "Dessert Parlor                 2263\n",
       "                              ...  \n",
       "Dessert Parlor, Kiosk             2\n",
       "Bakery, Food Court                2\n",
       "Food Court, Beverage Shop         2\n",
       "Quick Bites, Kiosk                1\n",
       "Sweet Shop, Dessert Parlor        1\n",
       "Name: rest_type, Length: 93, dtype: int64"
      ]
     },
     "execution_count": 27,
     "metadata": {},
     "output_type": "execute_result"
    }
   ],
   "source": [
    "df['rest_type'].value_counts()"
   ]
  },
  {
   "cell_type": "code",
   "execution_count": 28,
   "metadata": {},
   "outputs": [
    {
     "data": {
      "text/plain": [
       "<matplotlib.axes._subplots.AxesSubplot at 0x1cc16d39108>"
      ]
     },
     "execution_count": 28,
     "metadata": {},
     "output_type": "execute_result"
    },
    {
     "data": {
      "image/png": "[encoded data removed]",
      "text/plain": [
       "<Figure size 720x360 with 1 Axes>"
      ]
     },
     "metadata": {
      "needs_background": "light"
     },
     "output_type": "display_data"
    }
   ],
   "source": [
    "plt.figure(figsize=(10,5))\n",
    "df['rest_type'].value_counts().nlargest(20).plot.bar()"
   ]
  },
  {
   "cell_type": "code",
   "execution_count": 29,
   "metadata": {},
   "outputs": [],
   "source": [
    "def mark(x):\n",
    "    if x in ('Quick Bites', 'Casual Dining'):\n",
    "        return 'Quick Bites+Casual Dining'\n",
    "    else:\n",
    "        return 'other'\n"
   ]
  },
  {
   "cell_type": "code",
   "execution_count": 30,
   "metadata": {},
   "outputs": [],
   "source": [
    "df['Top types']=df['rest_type'].apply(mark)"
   ]
  },
  {
   "cell_type": "code",
   "execution_count": 31,
   "metadata": {},
   "outputs": [
    {
     "data": {
      "text/html": [
       "<div>\n",
       "<style scoped>\n",
       "    .dataframe tbody tr th:only-of-type {\n",
       "        vertical-align: middle;\n",
       "    }\n",
       "\n",
       "    .dataframe tbody tr th {\n",
       "        vertical-align: top;\n",
       "    }\n",
       "\n",
       "    .dataframe thead th {\n",
       "        text-align: right;\n",
       "    }\n",
       "</style>\n",
       "<table border=\"1\" class=\"dataframe\">\n",
       "  <thead>\n",
       "    <tr style=\"text-align: right;\">\n",
       "      <th></th>\n",
       "      <th>url</th>\n",
       "      <th>address</th>\n",
       "      <th>name</th>\n",
       "      <th>online_order</th>\n",
       "      <th>book_table</th>\n",
       "      <th>rate</th>\n",
       "      <th>votes</th>\n",
       "      <th>phone</th>\n",
       "      <th>location</th>\n",
       "      <th>rest_type</th>\n",
       "      <th>dish_liked</th>\n",
       "      <th>cuisines</th>\n",
       "      <th>approx_cost(for two people)</th>\n",
       "      <th>reviews_list</th>\n",
       "      <th>menu_item</th>\n",
       "      <th>listed_in(type)</th>\n",
       "      <th>listed_in(city)</th>\n",
       "      <th>Top types</th>\n",
       "    </tr>\n",
       "  </thead>\n",
       "  <tbody>\n",
       "    <tr>\n",
       "      <th>0</th>\n",
       "      <td>https://www.zomato.com/bangalore/jalsa-banasha...</td>\n",
       "      <td>942, 21st Main Road, 2nd Stage, Banashankari, ...</td>\n",
       "      <td>Jalsa</td>\n",
       "      <td>Yes</td>\n",
       "      <td>Yes</td>\n",
       "      <td>4.1</td>\n",
       "      <td>775</td>\n",
       "      <td>080 42297555\\r\\n+91 9743772233</td>\n",
       "      <td>Banashankari</td>\n",
       "      <td>Casual Dining</td>\n",
       "      <td>Pasta, Lunch Buffet, Masala Papad, Paneer Laja...</td>\n",
       "      <td>North Indian, Mughlai, Chinese</td>\n",
       "      <td>800.0</td>\n",
       "      <td>[('Rated 4.0', 'RATED\\n  A beautiful place to ...</td>\n",
       "      <td>[]</td>\n",
       "      <td>Buffet</td>\n",
       "      <td>Banashankari</td>\n",
       "      <td>Quick Bites+Casual Dining</td>\n",
       "    </tr>\n",
       "  </tbody>\n",
       "</table>\n",
       "</div>"
      ],
      "text/plain": [
       "                                                 url  \\\n",
       "0  https://www.zomato.com/bangalore/jalsa-banasha...   \n",
       "\n",
       "                                             address   name online_order  \\\n",
       "0  942, 21st Main Road, 2nd Stage, Banashankari, ...  Jalsa          Yes   \n",
       "\n",
       "  book_table  rate  votes                           phone      location  \\\n",
       "0        Yes   4.1    775  080 42297555\\r\\n+91 9743772233  Banashankari   \n",
       "\n",
       "       rest_type                                         dish_liked  \\\n",
       "0  Casual Dining  Pasta, Lunch Buffet, Masala Papad, Paneer Laja...   \n",
       "\n",
       "                         cuisines  approx_cost(for two people)  \\\n",
       "0  North Indian, Mughlai, Chinese                        800.0   \n",
       "\n",
       "                                        reviews_list menu_item  \\\n",
       "0  [('Rated 4.0', 'RATED\\n  A beautiful place to ...        []   \n",
       "\n",
       "  listed_in(type) listed_in(city)                  Top types  \n",
       "0          Buffet    Banashankari  Quick Bites+Casual Dining  "
      ]
     },
     "execution_count": 31,
     "metadata": {},
     "output_type": "execute_result"
    }
   ],
   "source": [
    "df.head(1)"
   ]
  },
  {
   "cell_type": "code",
   "execution_count": 32,
   "metadata": {},
   "outputs": [],
   "source": [
    "d=df['Top types'].value_counts()"
   ]
  },
  {
   "cell_type": "code",
   "execution_count": 33,
   "metadata": {},
   "outputs": [
    {
     "data": {
      "image/png": "[encoded data removed]",
      "text/plain": [
       "<Figure size 432x288 with 1 Axes>"
      ]
     },
     "metadata": {},
     "output_type": "display_data"
    }
   ],
   "source": [
    "plt.pie(d, labels=['Quick Bites+Casual Dining','other'], autopct='%1.2f%%')\n",
    "plt.show()"
   ]
  },
  {
   "cell_type": "markdown",
   "metadata": {},
   "source": [
    "### Almost 60 % of restaurants are of Casual Dining & Quick Bites"
   ]
  },
  {
   "cell_type": "code",
   "execution_count": 34,
   "metadata": {},
   "outputs": [
    {
     "data": {
      "text/plain": [
       "url                             object\n",
       "address                         object\n",
       "name                            object\n",
       "online_order                    object\n",
       "book_table                      object\n",
       "rate                           float64\n",
       "votes                            int64\n",
       "phone                           object\n",
       "location                        object\n",
       "rest_type                       object\n",
       "dish_liked                      object\n",
       "cuisines                        object\n",
       "approx_cost(for two people)    float64\n",
       "reviews_list                    object\n",
       "menu_item                       object\n",
       "listed_in(type)                 object\n",
       "listed_in(city)                 object\n",
       "Top types                       object\n",
       "dtype: object"
      ]
     },
     "execution_count": 34,
     "metadata": {},
     "output_type": "execute_result"
    }
   ],
   "source": [
    "df.dtypes"
   ]
  },
  {
   "cell_type": "code",
   "execution_count": 35,
   "metadata": {},
   "outputs": [
    {
     "data": {
      "text/html": [
       "<div>\n",
       "<style scoped>\n",
       "    .dataframe tbody tr th:only-of-type {\n",
       "        vertical-align: middle;\n",
       "    }\n",
       "\n",
       "    .dataframe tbody tr th {\n",
       "        vertical-align: top;\n",
       "    }\n",
       "\n",
       "    .dataframe thead th {\n",
       "        text-align: right;\n",
       "    }\n",
       "</style>\n",
       "<table border=\"1\" class=\"dataframe\">\n",
       "  <thead>\n",
       "    <tr style=\"text-align: right;\">\n",
       "      <th></th>\n",
       "      <th>name</th>\n",
       "      <th>votes</th>\n",
       "      <th>url</th>\n",
       "      <th>rate</th>\n",
       "      <th>approx_cost(for two people)</th>\n",
       "    </tr>\n",
       "  </thead>\n",
       "  <tbody>\n",
       "    <tr>\n",
       "      <th>0</th>\n",
       "      <td>#FeelTheROLL</td>\n",
       "      <td>14</td>\n",
       "      <td>2</td>\n",
       "      <td>3.4</td>\n",
       "      <td>200.0</td>\n",
       "    </tr>\n",
       "    <tr>\n",
       "      <th>1</th>\n",
       "      <td>#L-81 Cafe</td>\n",
       "      <td>432</td>\n",
       "      <td>9</td>\n",
       "      <td>3.9</td>\n",
       "      <td>400.0</td>\n",
       "    </tr>\n",
       "    <tr>\n",
       "      <th>2</th>\n",
       "      <td>#Vibes Restro</td>\n",
       "      <td>0</td>\n",
       "      <td>3</td>\n",
       "      <td>NaN</td>\n",
       "      <td>700.0</td>\n",
       "    </tr>\n",
       "    <tr>\n",
       "      <th>3</th>\n",
       "      <td>#refuel</td>\n",
       "      <td>111</td>\n",
       "      <td>3</td>\n",
       "      <td>3.7</td>\n",
       "      <td>400.0</td>\n",
       "    </tr>\n",
       "    <tr>\n",
       "      <th>4</th>\n",
       "      <td>'Brahmins' Thatte Idli</td>\n",
       "      <td>0</td>\n",
       "      <td>1</td>\n",
       "      <td>NaN</td>\n",
       "      <td>100.0</td>\n",
       "    </tr>\n",
       "  </tbody>\n",
       "</table>\n",
       "</div>"
      ],
      "text/plain": [
       "                     name  votes  url  rate  approx_cost(for two people)\n",
       "0            #FeelTheROLL     14    2   3.4                        200.0\n",
       "1              #L-81 Cafe    432    9   3.9                        400.0\n",
       "2           #Vibes Restro      0    3   NaN                        700.0\n",
       "3                 #refuel    111    3   3.7                        400.0\n",
       "4  'Brahmins' Thatte Idli      0    1   NaN                        100.0"
      ]
     },
     "execution_count": 35,
     "metadata": {},
     "output_type": "execute_result"
    }
   ],
   "source": [
    "rest=df.groupby('name').agg({'votes':'sum','url':'count','rate':'mean','approx_cost(for two people)':'mean'}).reset_index()\n",
    "rest.head()"
   ]
  },
  {
   "cell_type": "code",
   "execution_count": 36,
   "metadata": {},
   "outputs": [
    {
     "data": {
      "text/html": [
       "<div>\n",
       "<style scoped>\n",
       "    .dataframe tbody tr th:only-of-type {\n",
       "        vertical-align: middle;\n",
       "    }\n",
       "\n",
       "    .dataframe tbody tr th {\n",
       "        vertical-align: top;\n",
       "    }\n",
       "\n",
       "    .dataframe thead th {\n",
       "        text-align: right;\n",
       "    }\n",
       "</style>\n",
       "<table border=\"1\" class=\"dataframe\">\n",
       "  <thead>\n",
       "    <tr style=\"text-align: right;\">\n",
       "      <th></th>\n",
       "      <th>names</th>\n",
       "      <th>total_votes</th>\n",
       "      <th>total_unit</th>\n",
       "      <th>avg_rate</th>\n",
       "      <th>mean_cost</th>\n",
       "    </tr>\n",
       "  </thead>\n",
       "  <tbody>\n",
       "    <tr>\n",
       "      <th>0</th>\n",
       "      <td>#FeelTheROLL</td>\n",
       "      <td>14</td>\n",
       "      <td>2</td>\n",
       "      <td>3.4</td>\n",
       "      <td>200.0</td>\n",
       "    </tr>\n",
       "    <tr>\n",
       "      <th>1</th>\n",
       "      <td>#L-81 Cafe</td>\n",
       "      <td>432</td>\n",
       "      <td>9</td>\n",
       "      <td>3.9</td>\n",
       "      <td>400.0</td>\n",
       "    </tr>\n",
       "    <tr>\n",
       "      <th>2</th>\n",
       "      <td>#Vibes Restro</td>\n",
       "      <td>0</td>\n",
       "      <td>3</td>\n",
       "      <td>NaN</td>\n",
       "      <td>700.0</td>\n",
       "    </tr>\n",
       "    <tr>\n",
       "      <th>3</th>\n",
       "      <td>#refuel</td>\n",
       "      <td>111</td>\n",
       "      <td>3</td>\n",
       "      <td>3.7</td>\n",
       "      <td>400.0</td>\n",
       "    </tr>\n",
       "    <tr>\n",
       "      <th>4</th>\n",
       "      <td>'Brahmins' Thatte Idli</td>\n",
       "      <td>0</td>\n",
       "      <td>1</td>\n",
       "      <td>NaN</td>\n",
       "      <td>100.0</td>\n",
       "    </tr>\n",
       "  </tbody>\n",
       "</table>\n",
       "</div>"
      ],
      "text/plain": [
       "                    names  total_votes  total_unit  avg_rate  mean_cost\n",
       "0            #FeelTheROLL           14           2       3.4      200.0\n",
       "1              #L-81 Cafe          432           9       3.9      400.0\n",
       "2           #Vibes Restro            0           3       NaN      700.0\n",
       "3                 #refuel          111           3       3.7      400.0\n",
       "4  'Brahmins' Thatte Idli            0           1       NaN      100.0"
      ]
     },
     "execution_count": 36,
     "metadata": {},
     "output_type": "execute_result"
    }
   ],
   "source": [
    "rest.columns=['names','total_votes','total_unit','avg_rate','mean_cost']\n",
    "rest.head()"
   ]
  },
  {
   "cell_type": "code",
   "execution_count": 37,
   "metadata": {},
   "outputs": [],
   "source": [
    "rest['Total_votes_per_unity']=rest['total_votes']/rest['total_unit']"
   ]
  },
  {
   "cell_type": "code",
   "execution_count": 38,
   "metadata": {},
   "outputs": [
    {
     "data": {
      "text/html": [
       "<div>\n",
       "<style scoped>\n",
       "    .dataframe tbody tr th:only-of-type {\n",
       "        vertical-align: middle;\n",
       "    }\n",
       "\n",
       "    .dataframe tbody tr th {\n",
       "        vertical-align: top;\n",
       "    }\n",
       "\n",
       "    .dataframe thead th {\n",
       "        text-align: right;\n",
       "    }\n",
       "</style>\n",
       "<table border=\"1\" class=\"dataframe\">\n",
       "  <thead>\n",
       "    <tr style=\"text-align: right;\">\n",
       "      <th></th>\n",
       "      <th>names</th>\n",
       "      <th>total_votes</th>\n",
       "      <th>total_unit</th>\n",
       "      <th>avg_rate</th>\n",
       "      <th>mean_cost</th>\n",
       "      <th>Total_votes_per_unity</th>\n",
       "    </tr>\n",
       "  </thead>\n",
       "  <tbody>\n",
       "    <tr>\n",
       "      <th>0</th>\n",
       "      <td>#FeelTheROLL</td>\n",
       "      <td>14</td>\n",
       "      <td>2</td>\n",
       "      <td>3.4</td>\n",
       "      <td>200.0</td>\n",
       "      <td>7.0</td>\n",
       "    </tr>\n",
       "    <tr>\n",
       "      <th>1</th>\n",
       "      <td>#L-81 Cafe</td>\n",
       "      <td>432</td>\n",
       "      <td>9</td>\n",
       "      <td>3.9</td>\n",
       "      <td>400.0</td>\n",
       "      <td>48.0</td>\n",
       "    </tr>\n",
       "    <tr>\n",
       "      <th>2</th>\n",
       "      <td>#Vibes Restro</td>\n",
       "      <td>0</td>\n",
       "      <td>3</td>\n",
       "      <td>NaN</td>\n",
       "      <td>700.0</td>\n",
       "      <td>0.0</td>\n",
       "    </tr>\n",
       "    <tr>\n",
       "      <th>3</th>\n",
       "      <td>#refuel</td>\n",
       "      <td>111</td>\n",
       "      <td>3</td>\n",
       "      <td>3.7</td>\n",
       "      <td>400.0</td>\n",
       "      <td>37.0</td>\n",
       "    </tr>\n",
       "    <tr>\n",
       "      <th>4</th>\n",
       "      <td>'Brahmins' Thatte Idli</td>\n",
       "      <td>0</td>\n",
       "      <td>1</td>\n",
       "      <td>NaN</td>\n",
       "      <td>100.0</td>\n",
       "      <td>0.0</td>\n",
       "    </tr>\n",
       "  </tbody>\n",
       "</table>\n",
       "</div>"
      ],
      "text/plain": [
       "                    names  total_votes  total_unit  avg_rate  mean_cost  \\\n",
       "0            #FeelTheROLL           14           2       3.4      200.0   \n",
       "1              #L-81 Cafe          432           9       3.9      400.0   \n",
       "2           #Vibes Restro            0           3       NaN      700.0   \n",
       "3                 #refuel          111           3       3.7      400.0   \n",
       "4  'Brahmins' Thatte Idli            0           1       NaN      100.0   \n",
       "\n",
       "   Total_votes_per_unity  \n",
       "0                    7.0  \n",
       "1                   48.0  \n",
       "2                    0.0  \n",
       "3                   37.0  \n",
       "4                    0.0  "
      ]
     },
     "execution_count": 38,
     "metadata": {},
     "output_type": "execute_result"
    }
   ],
   "source": [
    "rest.head()"
   ]
  },
  {
   "cell_type": "code",
   "execution_count": 39,
   "metadata": {},
   "outputs": [
    {
     "data": {
      "text/html": [
       "<div>\n",
       "<style scoped>\n",
       "    .dataframe tbody tr th:only-of-type {\n",
       "        vertical-align: middle;\n",
       "    }\n",
       "\n",
       "    .dataframe tbody tr th {\n",
       "        vertical-align: top;\n",
       "    }\n",
       "\n",
       "    .dataframe thead th {\n",
       "        text-align: right;\n",
       "    }\n",
       "</style>\n",
       "<table border=\"1\" class=\"dataframe\">\n",
       "  <thead>\n",
       "    <tr style=\"text-align: right;\">\n",
       "      <th></th>\n",
       "      <th>names</th>\n",
       "      <th>total_votes</th>\n",
       "      <th>total_unit</th>\n",
       "      <th>avg_rate</th>\n",
       "      <th>mean_cost</th>\n",
       "      <th>Total_votes_per_unity</th>\n",
       "    </tr>\n",
       "  </thead>\n",
       "  <tbody>\n",
       "    <tr>\n",
       "      <th>1320</th>\n",
       "      <td>Cafe Coffee Day</td>\n",
       "      <td>3089</td>\n",
       "      <td>96</td>\n",
       "      <td>3.147191</td>\n",
       "      <td>844.791667</td>\n",
       "      <td>32.177083</td>\n",
       "    </tr>\n",
       "    <tr>\n",
       "      <th>5549</th>\n",
       "      <td>Onesta</td>\n",
       "      <td>347520</td>\n",
       "      <td>85</td>\n",
       "      <td>4.410588</td>\n",
       "      <td>600.000000</td>\n",
       "      <td>4088.470588</td>\n",
       "    </tr>\n",
       "    <tr>\n",
       "      <th>3788</th>\n",
       "      <td>Just Bake</td>\n",
       "      <td>2898</td>\n",
       "      <td>73</td>\n",
       "      <td>3.355882</td>\n",
       "      <td>400.000000</td>\n",
       "      <td>39.698630</td>\n",
       "    </tr>\n",
       "    <tr>\n",
       "      <th>2446</th>\n",
       "      <td>Empire Restaurant</td>\n",
       "      <td>229808</td>\n",
       "      <td>71</td>\n",
       "      <td>3.916901</td>\n",
       "      <td>685.211268</td>\n",
       "      <td>3236.732394</td>\n",
       "    </tr>\n",
       "    <tr>\n",
       "      <th>2577</th>\n",
       "      <td>Five Star Chicken</td>\n",
       "      <td>3134</td>\n",
       "      <td>70</td>\n",
       "      <td>3.425000</td>\n",
       "      <td>257.857143</td>\n",
       "      <td>44.771429</td>\n",
       "    </tr>\n",
       "    <tr>\n",
       "      <th>...</th>\n",
       "      <td>...</td>\n",
       "      <td>...</td>\n",
       "      <td>...</td>\n",
       "      <td>...</td>\n",
       "      <td>...</td>\n",
       "      <td>...</td>\n",
       "    </tr>\n",
       "    <tr>\n",
       "      <th>1900</th>\n",
       "      <td>Cool Break</td>\n",
       "      <td>11</td>\n",
       "      <td>1</td>\n",
       "      <td>3.400000</td>\n",
       "      <td>150.000000</td>\n",
       "      <td>11.000000</td>\n",
       "    </tr>\n",
       "    <tr>\n",
       "      <th>8076</th>\n",
       "      <td>The Shake Factory Originals</td>\n",
       "      <td>8</td>\n",
       "      <td>1</td>\n",
       "      <td>3.300000</td>\n",
       "      <td>200.000000</td>\n",
       "      <td>8.000000</td>\n",
       "    </tr>\n",
       "    <tr>\n",
       "      <th>5216</th>\n",
       "      <td>Nethravathi Military Hotel</td>\n",
       "      <td>0</td>\n",
       "      <td>1</td>\n",
       "      <td>NaN</td>\n",
       "      <td>200.000000</td>\n",
       "      <td>0.000000</td>\n",
       "    </tr>\n",
       "    <tr>\n",
       "      <th>7426</th>\n",
       "      <td>Swadisht North Indian Restaurant</td>\n",
       "      <td>23</td>\n",
       "      <td>1</td>\n",
       "      <td>3.200000</td>\n",
       "      <td>200.000000</td>\n",
       "      <td>23.000000</td>\n",
       "    </tr>\n",
       "    <tr>\n",
       "      <th>5375</th>\n",
       "      <td>Night Punjabi Folk</td>\n",
       "      <td>0</td>\n",
       "      <td>1</td>\n",
       "      <td>NaN</td>\n",
       "      <td>200.000000</td>\n",
       "      <td>0.000000</td>\n",
       "    </tr>\n",
       "  </tbody>\n",
       "</table>\n",
       "<p>8792 rows × 6 columns</p>\n",
       "</div>"
      ],
      "text/plain": [
       "                                 names  total_votes  total_unit  avg_rate  \\\n",
       "1320                   Cafe Coffee Day         3089          96  3.147191   \n",
       "5549                            Onesta       347520          85  4.410588   \n",
       "3788                         Just Bake         2898          73  3.355882   \n",
       "2446                 Empire Restaurant       229808          71  3.916901   \n",
       "2577                 Five Star Chicken         3134          70  3.425000   \n",
       "...                                ...          ...         ...       ...   \n",
       "1900                        Cool Break           11           1  3.400000   \n",
       "8076       The Shake Factory Originals            8           1  3.300000   \n",
       "5216        Nethravathi Military Hotel            0           1       NaN   \n",
       "7426  Swadisht North Indian Restaurant           23           1  3.200000   \n",
       "5375                Night Punjabi Folk            0           1       NaN   \n",
       "\n",
       "       mean_cost  Total_votes_per_unity  \n",
       "1320  844.791667              32.177083  \n",
       "5549  600.000000            4088.470588  \n",
       "3788  400.000000              39.698630  \n",
       "2446  685.211268            3236.732394  \n",
       "2577  257.857143              44.771429  \n",
       "...          ...                    ...  \n",
       "1900  150.000000              11.000000  \n",
       "8076  200.000000               8.000000  \n",
       "5216  200.000000               0.000000  \n",
       "7426  200.000000              23.000000  \n",
       "5375  200.000000               0.000000  \n",
       "\n",
       "[8792 rows x 6 columns]"
      ]
     },
     "execution_count": 39,
     "metadata": {},
     "output_type": "execute_result"
    }
   ],
   "source": [
    "popular=rest.sort_values(by='total_unit', ascending=False)\n",
    "popular"
   ]
  },
  {
   "cell_type": "code",
   "execution_count": 40,
   "metadata": {
    "scrolled": false
   },
   "outputs": [
    {
     "data": {
      "text/plain": [
       "Text(0.5, 1.0, 'Top 5 Least Voted Restaurants')"
      ]
     },
     "execution_count": 40,
     "metadata": {},
     "output_type": "execute_result"
    },
    {
     "data": {
      "image/png": "[encoded data removed]",
      "text/plain": [
       "<Figure size 1440x1440 with 3 Axes>"
      ]
     },
     "metadata": {
      "needs_background": "light"
     },
     "output_type": "display_data"
    }
   ],
   "source": [
    "fig, (ax1,ax2,ax3)=plt.subplots(3,1,figsize=(20,20))\n",
    "ax1.text(0.50,0.40 ,int(popular['total_votes'].mean()), fontsize=45, ha='center')\n",
    "ax1.text(0.50,0.30, 'is the avg votes', fontsize=30, ha='center')\n",
    "ax1.text(0.50,0.20, 'recived by restaurants', fontsize=30, ha='center')\n",
    "ax1.axis(\"off\")\n",
    "sns.barplot(x='total_votes',y='names',data=popular.sort_values(by=\"total_votes\",ascending=False).query(\"total_votes > 0\").head(5),ax=ax2)\n",
    "ax2.set_title(\"Top 5 Most Voted Restaurants\")\n",
    "sns.barplot(x='total_votes',y='names',data=popular.sort_values(by=\"total_votes\").query(\"total_votes > 0\").head(5),ax=ax3)\n",
    "ax3.set_title(\"Top 5 Least Voted Restaurants\")"
   ]
  },
  {
   "cell_type": "markdown",
   "metadata": {},
   "source": [
    " ### 1) analyze most expensive and most cheapest restaurants in Bangalore City.\n",
    " "
   ]
  },
  {
   "cell_type": "code",
   "execution_count": 41,
   "metadata": {
    "scrolled": false
   },
   "outputs": [
    {
     "data": {
      "text/plain": [
       "Text(0.5, 1.0, 'Top 5 cheapest Restaurants')"
      ]
     },
     "execution_count": 41,
     "metadata": {},
     "output_type": "execute_result"
    },
    {
     "data": {
      "image/png": "[encoded data removed]",
      "text/plain": [
       "<Figure size 1440x1440 with 3 Axes>"
      ]
     },
     "metadata": {
      "needs_background": "light"
     },
     "output_type": "display_data"
    }
   ],
   "source": [
    "fig, (ax1,ax2,ax3)=plt.subplots(3,1,figsize=(20,20))\n",
    "ax1.text(0.50,0.40 ,int(popular['mean_cost'].mean()), fontsize=45, ha='center')\n",
    "ax1.text(0.50,0.30, 'is the Mean cost', fontsize=30, ha='center')\n",
    "ax1.text(0.50,0.20, 'for Bengalaru Restaurant', fontsize=30, ha='center')\n",
    "ax1.axis(\"off\")\n",
    "sns.barplot(x='mean_cost',y='names',data=popular.sort_values(by=\"mean_cost\",ascending=False).query(\"mean_cost > 0\").head(5),ax=ax2)\n",
    "ax2.set_title(\"Top 5 Most expensive Restaurants\")\n",
    "sns.barplot(x='mean_cost',y='names',data=popular.sort_values(by=\"mean_cost\").query(\"mean_cost > 0\").head(5),ax=ax3)\n",
    "ax3.set_title(\"Top 5 cheapest Restaurants\")"
   ]
  },
  {
   "cell_type": "markdown",
   "metadata": {},
   "source": [
    "### How many restaurants offer Book Table Service? and how about online order service"
   ]
  },
  {
   "cell_type": "code",
   "execution_count": 42,
   "metadata": {},
   "outputs": [],
   "source": [
    "x=df['book_table'].value_counts()"
   ]
  },
  {
   "cell_type": "code",
   "execution_count": 43,
   "metadata": {},
   "outputs": [
    {
     "data": {
      "image/png": "[encoded data removed]",
      "text/plain": [
       "<Figure size 360x360 with 1 Axes>"
      ]
     },
     "metadata": {},
     "output_type": "display_data"
    }
   ],
   "source": [
    "plt.figure(figsize=(5,5))\n",
    "plt.pie(x, labels=['Not Book','Book'], autopct='%1.2f%%')\n",
    "plt.show()"
   ]
  },
  {
   "cell_type": "code",
   "execution_count": 44,
   "metadata": {},
   "outputs": [],
   "source": [
    "u=df['online_order'].value_counts()"
   ]
  },
  {
   "cell_type": "code",
   "execution_count": 45,
   "metadata": {},
   "outputs": [
    {
     "data": {
      "image/png": "[encoded data removed]",
      "text/plain": [
       "<Figure size 360x360 with 1 Axes>"
      ]
     },
     "metadata": {},
     "output_type": "display_data"
    }
   ],
   "source": [
    "plt.figure(figsize=(5,5))\n",
    "plt.pie(u, labels=['Accepted','Not Accepted'], autopct='%1.2f%%')\n",
    "plt.show()"
   ]
  },
  {
   "cell_type": "code",
   "execution_count": 46,
   "metadata": {},
   "outputs": [],
   "source": [
    "#df['location'].unique()"
   ]
  },
  {
   "cell_type": "code",
   "execution_count": 47,
   "metadata": {},
   "outputs": [],
   "source": [
    "#df['rest_type'].unique()"
   ]
  },
  {
   "cell_type": "code",
   "execution_count": 48,
   "metadata": {},
   "outputs": [],
   "source": [
    "def return_budget(location,restaurent_type):\n",
    "    filter=((df['approx_cost(for two people)']<=400) & (df['location']==location) &(df['rate']>=4) &(df['rest_type']==restaurent_type))\n",
    "    budget=df[filter]\n",
    "    return (budget['name'].unique())\n"
   ]
  },
  {
   "cell_type": "code",
   "execution_count": 49,
   "metadata": {},
   "outputs": [
    {
     "data": {
      "text/plain": [
       "array(['Chaai Resto'], dtype=object)"
      ]
     },
     "execution_count": 49,
     "metadata": {},
     "output_type": "execute_result"
    }
   ],
   "source": [
    "return_budget(\"Sarjapur Road\",'Cafe')"
   ]
  },
  {
   "cell_type": "markdown",
   "metadata": {},
   "source": [
    "!pip install geopy"
   ]
  },
  {
   "cell_type": "code",
   "execution_count": 50,
   "metadata": {},
   "outputs": [],
   "source": [
    "from geopy.geocoders import Nominatim\n",
    "geolocator=Nominatim(user_agent='app')"
   ]
  },
  {
   "cell_type": "code",
   "execution_count": 51,
   "metadata": {},
   "outputs": [
    {
     "data": {
      "text/plain": [
       "'Jalsa'"
      ]
     },
     "execution_count": 51,
     "metadata": {},
     "output_type": "execute_result"
    }
   ],
   "source": [
    "data=df['name'][0]\n",
    "data"
   ]
  },
  {
   "cell_type": "code",
   "execution_count": 52,
   "metadata": {},
   "outputs": [],
   "source": [
    "data=geolocator.geocode(data)"
   ]
  },
  {
   "cell_type": "code",
   "execution_count": 53,
   "metadata": {},
   "outputs": [
    {
     "data": {
      "text/plain": [
       "43.5625752"
      ]
     },
     "execution_count": 53,
     "metadata": {},
     "output_type": "execute_result"
    }
   ],
   "source": [
    "data.latitude"
   ]
  },
  {
   "cell_type": "code",
   "execution_count": 54,
   "metadata": {},
   "outputs": [
    {
     "data": {
      "text/plain": [
       "-79.7107038"
      ]
     },
     "execution_count": 54,
     "metadata": {},
     "output_type": "execute_result"
    }
   ],
   "source": [
    "data.longitude"
   ]
  },
  {
   "cell_type": "code",
   "execution_count": 55,
   "metadata": {},
   "outputs": [
    {
     "data": {
      "text/html": [
       "<div>\n",
       "<style scoped>\n",
       "    .dataframe tbody tr th:only-of-type {\n",
       "        vertical-align: middle;\n",
       "    }\n",
       "\n",
       "    .dataframe tbody tr th {\n",
       "        vertical-align: top;\n",
       "    }\n",
       "\n",
       "    .dataframe thead th {\n",
       "        text-align: right;\n",
       "    }\n",
       "</style>\n",
       "<table border=\"1\" class=\"dataframe\">\n",
       "  <thead>\n",
       "    <tr style=\"text-align: right;\">\n",
       "      <th></th>\n",
       "      <th>Name</th>\n",
       "    </tr>\n",
       "  </thead>\n",
       "  <tbody>\n",
       "    <tr>\n",
       "      <th>0</th>\n",
       "      <td>Banashankari</td>\n",
       "    </tr>\n",
       "    <tr>\n",
       "      <th>1</th>\n",
       "      <td>Basavanagudi</td>\n",
       "    </tr>\n",
       "    <tr>\n",
       "      <th>2</th>\n",
       "      <td>Mysore Road</td>\n",
       "    </tr>\n",
       "    <tr>\n",
       "      <th>3</th>\n",
       "      <td>Jayanagar</td>\n",
       "    </tr>\n",
       "    <tr>\n",
       "      <th>4</th>\n",
       "      <td>Kumaraswamy Layout</td>\n",
       "    </tr>\n",
       "    <tr>\n",
       "      <th>...</th>\n",
       "      <td>...</td>\n",
       "    </tr>\n",
       "    <tr>\n",
       "      <th>89</th>\n",
       "      <td>West Bangalore</td>\n",
       "    </tr>\n",
       "    <tr>\n",
       "      <th>90</th>\n",
       "      <td>Magadi Road</td>\n",
       "    </tr>\n",
       "    <tr>\n",
       "      <th>91</th>\n",
       "      <td>Yelahanka</td>\n",
       "    </tr>\n",
       "    <tr>\n",
       "      <th>92</th>\n",
       "      <td>Sahakara Nagar</td>\n",
       "    </tr>\n",
       "    <tr>\n",
       "      <th>93</th>\n",
       "      <td>Peenya</td>\n",
       "    </tr>\n",
       "  </tbody>\n",
       "</table>\n",
       "<p>94 rows × 1 columns</p>\n",
       "</div>"
      ],
      "text/plain": [
       "                  Name\n",
       "0         Banashankari\n",
       "1         Basavanagudi\n",
       "2          Mysore Road\n",
       "3            Jayanagar\n",
       "4   Kumaraswamy Layout\n",
       "..                 ...\n",
       "89      West Bangalore\n",
       "90         Magadi Road\n",
       "91           Yelahanka\n",
       "92      Sahakara Nagar\n",
       "93              Peenya\n",
       "\n",
       "[94 rows x 1 columns]"
      ]
     },
     "execution_count": 55,
     "metadata": {},
     "output_type": "execute_result"
    }
   ],
   "source": [
    "locations=pd.DataFrame({'Name':df['location'].unique()})\n",
    "locations"
   ]
  },
  {
   "cell_type": "code",
   "execution_count": 56,
   "metadata": {},
   "outputs": [],
   "source": [
    "lat=[]\n",
    "lon=[]\n",
    "for location in locations['Name']:\n",
    "    location=geolocator.geocode(location)\n",
    "    if location is None:\n",
    "        lat.append(np.nan)\n",
    "        lon.append(np.nan)\n",
    "    else:\n",
    "        lat.append(location.latitude)\n",
    "        lon.append(location.longitude)"
   ]
  },
  {
   "cell_type": "code",
   "execution_count": 57,
   "metadata": {},
   "outputs": [],
   "source": [
    "locations['latitude']=lat\n",
    "locations['longitude']=lon"
   ]
  },
  {
   "cell_type": "code",
   "execution_count": 58,
   "metadata": {},
   "outputs": [
    {
     "data": {
      "text/html": [
       "<div>\n",
       "<style scoped>\n",
       "    .dataframe tbody tr th:only-of-type {\n",
       "        vertical-align: middle;\n",
       "    }\n",
       "\n",
       "    .dataframe tbody tr th {\n",
       "        vertical-align: top;\n",
       "    }\n",
       "\n",
       "    .dataframe thead th {\n",
       "        text-align: right;\n",
       "    }\n",
       "</style>\n",
       "<table border=\"1\" class=\"dataframe\">\n",
       "  <thead>\n",
       "    <tr style=\"text-align: right;\">\n",
       "      <th></th>\n",
       "      <th>Name</th>\n",
       "      <th>latitude</th>\n",
       "      <th>longitude</th>\n",
       "    </tr>\n",
       "  </thead>\n",
       "  <tbody>\n",
       "    <tr>\n",
       "      <th>0</th>\n",
       "      <td>Banashankari</td>\n",
       "      <td>15.887678</td>\n",
       "      <td>75.704678</td>\n",
       "    </tr>\n",
       "    <tr>\n",
       "      <th>1</th>\n",
       "      <td>Basavanagudi</td>\n",
       "      <td>12.941726</td>\n",
       "      <td>77.575502</td>\n",
       "    </tr>\n",
       "    <tr>\n",
       "      <th>2</th>\n",
       "      <td>Mysore Road</td>\n",
       "      <td>12.387214</td>\n",
       "      <td>76.666963</td>\n",
       "    </tr>\n",
       "    <tr>\n",
       "      <th>3</th>\n",
       "      <td>Jayanagar</td>\n",
       "      <td>27.643927</td>\n",
       "      <td>83.052805</td>\n",
       "    </tr>\n",
       "    <tr>\n",
       "      <th>4</th>\n",
       "      <td>Kumaraswamy Layout</td>\n",
       "      <td>12.908149</td>\n",
       "      <td>77.555318</td>\n",
       "    </tr>\n",
       "  </tbody>\n",
       "</table>\n",
       "</div>"
      ],
      "text/plain": [
       "                 Name   latitude  longitude\n",
       "0        Banashankari  15.887678  75.704678\n",
       "1        Basavanagudi  12.941726  77.575502\n",
       "2         Mysore Road  12.387214  76.666963\n",
       "3           Jayanagar  27.643927  83.052805\n",
       "4  Kumaraswamy Layout  12.908149  77.555318"
      ]
     },
     "execution_count": 58,
     "metadata": {},
     "output_type": "execute_result"
    }
   ],
   "source": [
    "locations.head()"
   ]
  },
  {
   "cell_type": "code",
   "execution_count": 59,
   "metadata": {},
   "outputs": [],
   "source": [
    "rest_location=df['location'].value_counts().reset_index()"
   ]
  },
  {
   "cell_type": "code",
   "execution_count": 60,
   "metadata": {},
   "outputs": [
    {
     "data": {
      "text/html": [
       "<div>\n",
       "<style scoped>\n",
       "    .dataframe tbody tr th:only-of-type {\n",
       "        vertical-align: middle;\n",
       "    }\n",
       "\n",
       "    .dataframe tbody tr th {\n",
       "        vertical-align: top;\n",
       "    }\n",
       "\n",
       "    .dataframe thead th {\n",
       "        text-align: right;\n",
       "    }\n",
       "</style>\n",
       "<table border=\"1\" class=\"dataframe\">\n",
       "  <thead>\n",
       "    <tr style=\"text-align: right;\">\n",
       "      <th></th>\n",
       "      <th>index</th>\n",
       "      <th>location</th>\n",
       "    </tr>\n",
       "  </thead>\n",
       "  <tbody>\n",
       "    <tr>\n",
       "      <th>0</th>\n",
       "      <td>BTM</td>\n",
       "      <td>5124</td>\n",
       "    </tr>\n",
       "    <tr>\n",
       "      <th>1</th>\n",
       "      <td>HSR</td>\n",
       "      <td>2523</td>\n",
       "    </tr>\n",
       "    <tr>\n",
       "      <th>2</th>\n",
       "      <td>Koramangala 5th Block</td>\n",
       "      <td>2504</td>\n",
       "    </tr>\n",
       "    <tr>\n",
       "      <th>3</th>\n",
       "      <td>JP Nagar</td>\n",
       "      <td>2235</td>\n",
       "    </tr>\n",
       "    <tr>\n",
       "      <th>4</th>\n",
       "      <td>Whitefield</td>\n",
       "      <td>2144</td>\n",
       "    </tr>\n",
       "    <tr>\n",
       "      <th>...</th>\n",
       "      <td>...</td>\n",
       "      <td>...</td>\n",
       "    </tr>\n",
       "    <tr>\n",
       "      <th>88</th>\n",
       "      <td>Yelahanka</td>\n",
       "      <td>6</td>\n",
       "    </tr>\n",
       "    <tr>\n",
       "      <th>89</th>\n",
       "      <td>West Bangalore</td>\n",
       "      <td>6</td>\n",
       "    </tr>\n",
       "    <tr>\n",
       "      <th>90</th>\n",
       "      <td>Jakkur</td>\n",
       "      <td>3</td>\n",
       "    </tr>\n",
       "    <tr>\n",
       "      <th>91</th>\n",
       "      <td>Rajarajeshwari Nagar</td>\n",
       "      <td>2</td>\n",
       "    </tr>\n",
       "    <tr>\n",
       "      <th>92</th>\n",
       "      <td>Peenya</td>\n",
       "      <td>1</td>\n",
       "    </tr>\n",
       "  </tbody>\n",
       "</table>\n",
       "<p>93 rows × 2 columns</p>\n",
       "</div>"
      ],
      "text/plain": [
       "                    index  location\n",
       "0                     BTM      5124\n",
       "1                     HSR      2523\n",
       "2   Koramangala 5th Block      2504\n",
       "3                JP Nagar      2235\n",
       "4              Whitefield      2144\n",
       "..                    ...       ...\n",
       "88              Yelahanka         6\n",
       "89         West Bangalore         6\n",
       "90                 Jakkur         3\n",
       "91   Rajarajeshwari Nagar         2\n",
       "92                 Peenya         1\n",
       "\n",
       "[93 rows x 2 columns]"
      ]
     },
     "execution_count": 60,
     "metadata": {},
     "output_type": "execute_result"
    }
   ],
   "source": [
    "rest_location"
   ]
  },
  {
   "cell_type": "code",
   "execution_count": 61,
   "metadata": {},
   "outputs": [
    {
     "data": {
      "text/html": [
       "<div>\n",
       "<style scoped>\n",
       "    .dataframe tbody tr th:only-of-type {\n",
       "        vertical-align: middle;\n",
       "    }\n",
       "\n",
       "    .dataframe tbody tr th {\n",
       "        vertical-align: top;\n",
       "    }\n",
       "\n",
       "    .dataframe thead th {\n",
       "        text-align: right;\n",
       "    }\n",
       "</style>\n",
       "<table border=\"1\" class=\"dataframe\">\n",
       "  <thead>\n",
       "    <tr style=\"text-align: right;\">\n",
       "      <th></th>\n",
       "      <th>Name</th>\n",
       "      <th>count</th>\n",
       "    </tr>\n",
       "  </thead>\n",
       "  <tbody>\n",
       "    <tr>\n",
       "      <th>0</th>\n",
       "      <td>BTM</td>\n",
       "      <td>5124</td>\n",
       "    </tr>\n",
       "    <tr>\n",
       "      <th>1</th>\n",
       "      <td>HSR</td>\n",
       "      <td>2523</td>\n",
       "    </tr>\n",
       "    <tr>\n",
       "      <th>2</th>\n",
       "      <td>Koramangala 5th Block</td>\n",
       "      <td>2504</td>\n",
       "    </tr>\n",
       "    <tr>\n",
       "      <th>3</th>\n",
       "      <td>JP Nagar</td>\n",
       "      <td>2235</td>\n",
       "    </tr>\n",
       "    <tr>\n",
       "      <th>4</th>\n",
       "      <td>Whitefield</td>\n",
       "      <td>2144</td>\n",
       "    </tr>\n",
       "    <tr>\n",
       "      <th>...</th>\n",
       "      <td>...</td>\n",
       "      <td>...</td>\n",
       "    </tr>\n",
       "    <tr>\n",
       "      <th>88</th>\n",
       "      <td>Yelahanka</td>\n",
       "      <td>6</td>\n",
       "    </tr>\n",
       "    <tr>\n",
       "      <th>89</th>\n",
       "      <td>West Bangalore</td>\n",
       "      <td>6</td>\n",
       "    </tr>\n",
       "    <tr>\n",
       "      <th>90</th>\n",
       "      <td>Jakkur</td>\n",
       "      <td>3</td>\n",
       "    </tr>\n",
       "    <tr>\n",
       "      <th>91</th>\n",
       "      <td>Rajarajeshwari Nagar</td>\n",
       "      <td>2</td>\n",
       "    </tr>\n",
       "    <tr>\n",
       "      <th>92</th>\n",
       "      <td>Peenya</td>\n",
       "      <td>1</td>\n",
       "    </tr>\n",
       "  </tbody>\n",
       "</table>\n",
       "<p>93 rows × 2 columns</p>\n",
       "</div>"
      ],
      "text/plain": [
       "                     Name  count\n",
       "0                     BTM   5124\n",
       "1                     HSR   2523\n",
       "2   Koramangala 5th Block   2504\n",
       "3                JP Nagar   2235\n",
       "4              Whitefield   2144\n",
       "..                    ...    ...\n",
       "88              Yelahanka      6\n",
       "89         West Bangalore      6\n",
       "90                 Jakkur      3\n",
       "91   Rajarajeshwari Nagar      2\n",
       "92                 Peenya      1\n",
       "\n",
       "[93 rows x 2 columns]"
      ]
     },
     "execution_count": 61,
     "metadata": {},
     "output_type": "execute_result"
    }
   ],
   "source": [
    "rest_location.columns=['Name','count']\n",
    "rest_location"
   ]
  },
  {
   "cell_type": "code",
   "execution_count": 62,
   "metadata": {},
   "outputs": [],
   "source": [
    "Restaurant_location=rest_location.merge(locations,on='Name').dropna()"
   ]
  },
  {
   "cell_type": "code",
   "execution_count": 63,
   "metadata": {},
   "outputs": [
    {
     "data": {
      "text/html": [
       "<div>\n",
       "<style scoped>\n",
       "    .dataframe tbody tr th:only-of-type {\n",
       "        vertical-align: middle;\n",
       "    }\n",
       "\n",
       "    .dataframe tbody tr th {\n",
       "        vertical-align: top;\n",
       "    }\n",
       "\n",
       "    .dataframe thead th {\n",
       "        text-align: right;\n",
       "    }\n",
       "</style>\n",
       "<table border=\"1\" class=\"dataframe\">\n",
       "  <thead>\n",
       "    <tr style=\"text-align: right;\">\n",
       "      <th></th>\n",
       "      <th>Name</th>\n",
       "      <th>count</th>\n",
       "      <th>latitude</th>\n",
       "      <th>longitude</th>\n",
       "    </tr>\n",
       "  </thead>\n",
       "  <tbody>\n",
       "    <tr>\n",
       "      <th>0</th>\n",
       "      <td>BTM</td>\n",
       "      <td>5124</td>\n",
       "      <td>45.954851</td>\n",
       "      <td>-112.496595</td>\n",
       "    </tr>\n",
       "    <tr>\n",
       "      <th>1</th>\n",
       "      <td>HSR</td>\n",
       "      <td>2523</td>\n",
       "      <td>18.147500</td>\n",
       "      <td>41.538889</td>\n",
       "    </tr>\n",
       "    <tr>\n",
       "      <th>2</th>\n",
       "      <td>Koramangala 5th Block</td>\n",
       "      <td>2504</td>\n",
       "      <td>12.934377</td>\n",
       "      <td>77.628415</td>\n",
       "    </tr>\n",
       "    <tr>\n",
       "      <th>3</th>\n",
       "      <td>JP Nagar</td>\n",
       "      <td>2235</td>\n",
       "      <td>12.265594</td>\n",
       "      <td>76.646540</td>\n",
       "    </tr>\n",
       "    <tr>\n",
       "      <th>4</th>\n",
       "      <td>Whitefield</td>\n",
       "      <td>2144</td>\n",
       "      <td>44.373058</td>\n",
       "      <td>-71.611858</td>\n",
       "    </tr>\n",
       "  </tbody>\n",
       "</table>\n",
       "</div>"
      ],
      "text/plain": [
       "                    Name  count   latitude   longitude\n",
       "0                    BTM   5124  45.954851 -112.496595\n",
       "1                    HSR   2523  18.147500   41.538889\n",
       "2  Koramangala 5th Block   2504  12.934377   77.628415\n",
       "3               JP Nagar   2235  12.265594   76.646540\n",
       "4             Whitefield   2144  44.373058  -71.611858"
      ]
     },
     "execution_count": 63,
     "metadata": {},
     "output_type": "execute_result"
    }
   ],
   "source": [
    "Restaurant_location.head()"
   ]
  },
  {
   "cell_type": "code",
   "execution_count": 64,
   "metadata": {},
   "outputs": [],
   "source": [
    "#!pip install folium"
   ]
  },
  {
   "cell_type": "code",
   "execution_count": 65,
   "metadata": {},
   "outputs": [],
   "source": [
    "import folium"
   ]
  },
  {
   "cell_type": "code",
   "execution_count": 66,
   "metadata": {},
   "outputs": [],
   "source": [
    "from folium.plugins import HeatMap"
   ]
  },
  {
   "cell_type": "code",
   "execution_count": 67,
   "metadata": {},
   "outputs": [],
   "source": [
    "basemap=folium.Map(location=[12.97,77.59])\n",
    "#basemap"
   ]
  },
  {
   "cell_type": "code",
   "execution_count": 68,
   "metadata": {},
   "outputs": [
    {
     "data": {
      "text/plain": [
       "<folium.plugins.heat_map.HeatMap at 0x1cc36f111c8>"
      ]
     },
     "execution_count": 68,
     "metadata": {},
     "output_type": "execute_result"
    }
   ],
   "source": [
    "HeatMap(data=Restaurant_location[['latitude','longitude']]).add_to(basemap)"
   ]
  },
  {
   "cell_type": "code",
   "execution_count": 164,
   "metadata": {
    "scrolled": true
   },
   "outputs": [
    {
     "data": {
      "text/html": [
       "<div style=\"width:100%;\"><div style=\"position:relative;width:100%;height:0;padding-bottom:60%;\"><span style=\"color:#565656\">Make this Notebook Trusted to load map: File -> Trust Notebook</span><iframe src=\"about:blank\" style=\"position:absolute;width:100%;height:100%;left:0;top:0;border:none !important;\" data-html=%3C%21DOCTYPE%20html%3E%0A%3Chead%3E%20%20%20%20%0A%20%20%20%20%3Cmeta%20http-equiv%3D%22content-type%22%20content%3D%22text/html%3B%20charset%3DUTF-8%22%20/%3E%0A%20%20%20%20%0A%20%20%20%20%20%20%20%20%3Cscript%3E%0A%20%20%20%20%20%20%20%20%20%20%20%20L_NO_TOUCH%20%3D%20false%3B%0A%20%20%20%20%20%20%20%20%20%20%20%20L_DISABLE_3D%20%3D%20false%3B%0A%20%20%20%20%20%20%20%20%3C/script%3E%0A%20%20%20%20%0A%20%20%20%20%3Cstyle%3Ehtml%2C%20body%20%7Bwidth%3A%20100%25%3Bheight%3A%20100%25%3Bmargin%3A%200%3Bpadding%3A%200%3B%7D%3C/style%3E%0A%20%20%20%20%3Cstyle%3E%23map%20%7Bposition%3Aabsolute%3Btop%3A0%3Bbottom%3A0%3Bright%3A0%3Bleft%3A0%3B%7D%3C/style%3E%0A%20%20%20%20%3Cscript%20src%3D%22https%3A//cdn.jsdelivr.net/npm/leaflet%401.6.0/dist/leaflet.js%22%3E%3C/script%3E%0A%20%20%20%20%3Cscript%20src%3D%22https%3A//code.jquery.com/jquery-1.12.4.min.js%22%3E%3C/script%3E%0A%20%20%20%20%3Cscript%20src%3D%22https%3A//maxcdn.bootstrapcdn.com/bootstrap/3.2.0/js/bootstrap.min.js%22%3E%3C/script%3E%0A%20%20%20%20%3Cscript%20src%3D%22https%3A//cdnjs.cloudflare.com/ajax/libs/Leaflet.awesome-markers/2.0.2/leaflet.awesome-markers.js%22%3E%3C/script%3E%0A%20%20%20%20%3Clink%20rel%3D%22stylesheet%22%20href%3D%22https%3A//cdn.jsdelivr.net/npm/leaflet%401.6.0/dist/leaflet.css%22/%3E%0A%20%20%20%20%3Clink%20rel%3D%22stylesheet%22%20href%3D%22https%3A//maxcdn.bootstrapcdn.com/bootstrap/3.2.0/css/bootstrap.min.css%22/%3E%0A%20%20%20%20%3Clink%20rel%3D%22stylesheet%22%20href%3D%22https%3A//maxcdn.bootstrapcdn.com/bootstrap/3.2.0/css/bootstrap-theme.min.css%22/%3E%0A%20%20%20%20%3Clink%20rel%3D%22stylesheet%22%20href%3D%22https%3A//maxcdn.bootstrapcdn.com/font-awesome/4.6.3/css/font-awesome.min.css%22/%3E%0A%20%20%20%20%3Clink%20rel%3D%22stylesheet%22%20href%3D%22https%3A//cdnjs.cloudflare.com/ajax/libs/Leaflet.awesome-markers/2.0.2/leaflet.awesome-markers.css%22/%3E%0A%20%20%20%20%3Clink%20rel%3D%22stylesheet%22%20href%3D%22https%3A//cdn.jsdelivr.net/gh/python-visualization/folium/folium/templates/leaflet.awesome.rotate.min.css%22/%3E%0A%20%20%20%20%0A%20%20%20%20%20%20%20%20%20%20%20%20%3Cmeta%20name%3D%22viewport%22%20content%3D%22width%3Ddevice-width%2C%0A%20%20%20%20%20%20%20%20%20%20%20%20%20%20%20%20initial-scale%3D1.0%2C%20maximum-scale%3D1.0%2C%20user-scalable%3Dno%22%20/%3E%0A%20%20%20%20%20%20%20%20%20%20%20%20%3Cstyle%3E%0A%20%20%20%20%20%20%20%20%20%20%20%20%20%20%20%20%23map_e414864eb5a546558bc340bd72548cc7%20%7B%0A%20%20%20%20%20%20%20%20%20%20%20%20%20%20%20%20%20%20%20%20position%3A%20relative%3B%0A%20%20%20%20%20%20%20%20%20%20%20%20%20%20%20%20%20%20%20%20width%3A%20100.0%25%3B%0A%20%20%20%20%20%20%20%20%20%20%20%20%20%20%20%20%20%20%20%20height%3A%20100.0%25%3B%0A%20%20%20%20%20%20%20%20%20%20%20%20%20%20%20%20%20%20%20%20left%3A%200.0%25%3B%0A%20%20%20%20%20%20%20%20%20%20%20%20%20%20%20%20%20%20%20%20top%3A%200.0%25%3B%0A%20%20%20%20%20%20%20%20%20%20%20%20%20%20%20%20%7D%0A%20%20%20%20%20%20%20%20%20%20%20%20%3C/style%3E%0A%20%20%20%20%20%20%20%20%0A%20%20%20%20%3Cscript%20src%3D%22https%3A//cdn.jsdelivr.net/gh/python-visualization/folium%40master/folium/templates/leaflet_heat.min.js%22%3E%3C/script%3E%0A%3C/head%3E%0A%3Cbody%3E%20%20%20%20%0A%20%20%20%20%0A%20%20%20%20%20%20%20%20%20%20%20%20%3Cdiv%20class%3D%22folium-map%22%20id%3D%22map_e414864eb5a546558bc340bd72548cc7%22%20%3E%3C/div%3E%0A%20%20%20%20%20%20%20%20%0A%3C/body%3E%0A%3Cscript%3E%20%20%20%20%0A%20%20%20%20%0A%20%20%20%20%20%20%20%20%20%20%20%20var%20map_e414864eb5a546558bc340bd72548cc7%20%3D%20L.map%28%0A%20%20%20%20%20%20%20%20%20%20%20%20%20%20%20%20%22map_e414864eb5a546558bc340bd72548cc7%22%2C%0A%20%20%20%20%20%20%20%20%20%20%20%20%20%20%20%20%7B%0A%20%20%20%20%20%20%20%20%20%20%20%20%20%20%20%20%20%20%20%20center%3A%20%5B12.97%2C%2077.59%5D%2C%0A%20%20%20%20%20%20%20%20%20%20%20%20%20%20%20%20%20%20%20%20crs%3A%20L.CRS.EPSG3857%2C%0A%20%20%20%20%20%20%20%20%20%20%20%20%20%20%20%20%20%20%20%20zoom%3A%2010%2C%0A%20%20%20%20%20%20%20%20%20%20%20%20%20%20%20%20%20%20%20%20zoomControl%3A%20true%2C%0A%20%20%20%20%20%20%20%20%20%20%20%20%20%20%20%20%20%20%20%20preferCanvas%3A%20false%2C%0A%20%20%20%20%20%20%20%20%20%20%20%20%20%20%20%20%7D%0A%20%20%20%20%20%20%20%20%20%20%20%20%29%3B%0A%0A%20%20%20%20%20%20%20%20%20%20%20%20%0A%0A%20%20%20%20%20%20%20%20%0A%20%20%20%20%0A%20%20%20%20%20%20%20%20%20%20%20%20var%20tile_layer_b19cf669594642e0a8a177aa92c919c3%20%3D%20L.tileLayer%28%0A%20%20%20%20%20%20%20%20%20%20%20%20%20%20%20%20%22https%3A//%7Bs%7D.tile.openstreetmap.org/%7Bz%7D/%7Bx%7D/%7By%7D.png%22%2C%0A%20%20%20%20%20%20%20%20%20%20%20%20%20%20%20%20%7B%22attribution%22%3A%20%22Data%20by%20%5Cu0026copy%3B%20%5Cu003ca%20href%3D%5C%22http%3A//openstreetmap.org%5C%22%5Cu003eOpenStreetMap%5Cu003c/a%5Cu003e%2C%20under%20%5Cu003ca%20href%3D%5C%22http%3A//www.openstreetmap.org/copyright%5C%22%5Cu003eODbL%5Cu003c/a%5Cu003e.%22%2C%20%22detectRetina%22%3A%20false%2C%20%22maxNativeZoom%22%3A%2018%2C%20%22maxZoom%22%3A%2018%2C%20%22minZoom%22%3A%200%2C%20%22noWrap%22%3A%20false%2C%20%22opacity%22%3A%201%2C%20%22subdomains%22%3A%20%22abc%22%2C%20%22tms%22%3A%20false%7D%0A%20%20%20%20%20%20%20%20%20%20%20%20%29.addTo%28map_e414864eb5a546558bc340bd72548cc7%29%3B%0A%20%20%20%20%20%20%20%20%0A%20%20%20%20%0A%20%20%20%20%20%20%20%20%20%20%20%20var%20heat_map_af97ed3c4a4248279390f546c3c7a888%20%3D%20L.heatLayer%28%0A%20%20%20%20%20%20%20%20%20%20%20%20%20%20%20%20%5B%5B45.95485055%2C%20-112.49659530324134%5D%2C%20%5B18.1475%2C%2041.538889%5D%2C%20%5B12.9343774%2C%2077.628415%5D%2C%20%5B12.2655944%2C%2076.6465404%5D%2C%20%5B44.3730577%2C%20-71.6118577%5D%2C%20%5B12.9732913%2C%2077.6404672%5D%2C%20%5B27.64392675%2C%2083.05280519687284%5D%2C%20%5B12.9552572%2C%2077.6984163%5D%2C%20%5B12.887979%2C%2077.5970812%5D%2C%20%5B12.93577245%2C%2077.66676103753434%5D%2C%20%5B-6.2659285%2C%20106.7842561%5D%2C%20%5B14.5395813%2C%20121.070371%5D%2C%20%5B40.28745%2C%20-76.964526%5D%2C%20%5B12.9302645%2C%2077.6332585%5D%2C%20%5B12.9400321%2C%2077.6203272%5D%2C%20%5B12.9242381%2C%2077.6289059%5D%2C%20%5B12.9778793%2C%2077.6246697%5D%2C%20%5B12.93433385%2C%2077.63040639553275%5D%2C%20%5B29.4534927%2C%20-98.6440138%5D%2C%20%5B15.8876779%2C%2075.7046777%5D%2C%20%5B13.0221416%2C%2077.6403368%5D%2C%20%5B40.5759032%2C%20-74.1252963%5D%2C%20%5B12.996845%2C%2077.6130165%5D%2C%20%5B13.0027353%2C%2077.5703253%5D%2C%20%5B12.9417261%2C%2077.5755021%5D%2C%20%5B26.2660314%2C%2073.0265996%5D%2C%20%5B13.0141618%2C%2077.6518539%5D%2C%20%5B33.5935063%2C%20-79.0345627%5D%2C%20%5B13.0346384%2C%2077.5681733%5D%2C%20%5B13.0093455%2C%2077.6377094%5D%2C%20%5B12.9882338%2C%2077.554883%5D%2C%20%5B40.7099523%2C%20-74.0114818%5D%2C%20%5B40.7652844%2C%20-76.373824%5D%2C%20%5B12.9575547%2C%2077.5979099%5D%2C%20%5B18.5322493%2C%2073.8499601124847%5D%2C%20%5B12.9624669%2C%2077.6381958%5D%2C%20%5B31.89376%2C%20-88.066644%5D%2C%20%5B62.4575273%2C%20-114.410853%5D%2C%20%5B12.945245%2C%2077.6269144%5D%2C%20%5B51.5177226%2C%20-0.073846%5D%2C%20%5B51.5230784%2C%20-0.7374421%5D%2C%20%5B12.9417812%2C%2077.6160146%5D%2C%20%5B12.988721250000001%2C%2077.58516877601824%5D%2C%20%5B12.9678074%2C%2077.6568367%5D%2C%20%5B12.9489339%2C%2077.5968273%5D%2C%20%5B12.9089453%2C%2077.6239038%5D%2C%20%5B12.9271867%2C%2077.6266252%5D%2C%20%5B12.9081487%2C%2077.5553179%5D%2C%20%5B12.973936%2C%2077.6509982%5D%2C%20%5B12.9932739%2C%2077.5388099%5D%2C%20%5B13.2227%2C%2078.5541977%5D%2C%20%5B12.9931876%2C%2077.5753419%5D%2C%20%5B13.0258087%2C%2077.6305067%5D%2C%20%5B1.2847055%2C%20103.84320655721689%5D%2C%20%5B13.0358698%2C%2077.6323597%5D%2C%20%5B34.977289%2C%20-78.974578%5D%2C%20%5B42.931349%2C%20-74.194255%5D%2C%20%5B39.76880625%2C%20-86.15345077251979%5D%2C%20%5B13.02383%2C%2077.5529215%5D%2C%20%5B12.9414662%2C%2077.7470942%5D%2C%20%5B12.967576%2C%2077.7150877%5D%2C%20%5B13.0646907%2C%2077.49626895712257%5D%2C%20%5B12.9243509%2C%2077.6255562%5D%2C%20%5B12.773175%2C%2077.7831871%5D%2C%20%5B12.9846713%2C%2077.6790908%5D%2C%20%5B17.2510682%2C%2080.1651978%5D%2C%20%5B13.0227204%2C%2077.595715%5D%2C%20%5B22.8359967%2C%2069.3405962%5D%2C%20%5B23.1485712%2C%2081.6048241%5D%2C%20%5B15.8782951%2C%2074.5084834%5D%2C%20%5B13.0621474%2C%2077.58006135480495%5D%2C%20%5B13.2923988%2C%2077.7519261%5D%2C%20%5B13.0215466%2C%2077.7640586%5D%2C%20%5B11.9917786%2C%2076.5066292%5D%2C%20%5B12.945048%2C%2077.263004%5D%2C%20%5B12.957998%2C%2077.6037312%5D%2C%20%5B38.7801076%2C%20-121.5056438%5D%2C%20%5B12.9970537%2C%2077.669804%5D%2C%20%5B12.3872141%2C%2076.6669626%5D%2C%20%5B12.5607431%2C%2077.4258375%5D%2C%20%5B13.007516%2C%2077.695935%5D%2C%20%5B12.9055682%2C%2077.5455438%5D%2C%20%5B13.0382184%2C%2077.5919%5D%2C%20%5B13.0217151%2C%2077.7660547%5D%2C%20%5B12.9176571%2C%2077.4837568%5D%2C%20%5B12.9546741%2C%2077.5121724%5D%2C%20%5B13.0101286%2C%2077.5548006%5D%2C%20%5B13.1006982%2C%2077.5963454%5D%2C%20%5B13.0011289%2C%2077.6325617%5D%2C%20%5B13.0784743%2C%2077.6068938%5D%2C%20%5B12.9274413%2C%2077.5155224%5D%2C%20%5B13.0329419%2C%2077.5273253%5D%5D%2C%0A%20%20%20%20%20%20%20%20%20%20%20%20%20%20%20%20%7B%22blur%22%3A%2015%2C%20%22maxZoom%22%3A%2018%2C%20%22minOpacity%22%3A%200.5%2C%20%22radius%22%3A%2025%7D%0A%20%20%20%20%20%20%20%20%20%20%20%20%29.addTo%28map_e414864eb5a546558bc340bd72548cc7%29%3B%0A%20%20%20%20%20%20%20%20%0A%3C/script%3E onload=\"this.contentDocument.open();this.contentDocument.write(    decodeURIComponent(this.getAttribute('data-html')));this.contentDocument.close();\" allowfullscreen webkitallowfullscreen mozallowfullscreen></iframe></div></div>"
      ],
      "text/plain": [
       "<folium.folium.Map at 0x1cc36f08988>"
      ]
     },
     "execution_count": 164,
     "metadata": {},
     "output_type": "execute_result"
    }
   ],
   "source": [
    "basemap"
   ]
  },
  {
   "cell_type": "code",
   "execution_count": 70,
   "metadata": {},
   "outputs": [],
   "source": [
    "#!pip install wordcloud"
   ]
  },
  {
   "cell_type": "code",
   "execution_count": 71,
   "metadata": {},
   "outputs": [],
   "source": [
    "from wordcloud import WordCloud, STOPWORDS"
   ]
  },
  {
   "cell_type": "code",
   "execution_count": 72,
   "metadata": {},
   "outputs": [
    {
     "data": {
      "text/html": [
       "<div>\n",
       "<style scoped>\n",
       "    .dataframe tbody tr th:only-of-type {\n",
       "        vertical-align: middle;\n",
       "    }\n",
       "\n",
       "    .dataframe tbody tr th {\n",
       "        vertical-align: top;\n",
       "    }\n",
       "\n",
       "    .dataframe thead th {\n",
       "        text-align: right;\n",
       "    }\n",
       "</style>\n",
       "<table border=\"1\" class=\"dataframe\">\n",
       "  <thead>\n",
       "    <tr style=\"text-align: right;\">\n",
       "      <th></th>\n",
       "      <th>url</th>\n",
       "      <th>address</th>\n",
       "      <th>name</th>\n",
       "      <th>online_order</th>\n",
       "      <th>book_table</th>\n",
       "      <th>rate</th>\n",
       "      <th>votes</th>\n",
       "      <th>phone</th>\n",
       "      <th>location</th>\n",
       "      <th>rest_type</th>\n",
       "      <th>dish_liked</th>\n",
       "      <th>cuisines</th>\n",
       "      <th>approx_cost(for two people)</th>\n",
       "      <th>reviews_list</th>\n",
       "      <th>menu_item</th>\n",
       "      <th>listed_in(type)</th>\n",
       "      <th>listed_in(city)</th>\n",
       "      <th>Top types</th>\n",
       "    </tr>\n",
       "  </thead>\n",
       "  <tbody>\n",
       "    <tr>\n",
       "      <th>3</th>\n",
       "      <td>https://www.zomato.com/bangalore/addhuri-udupi...</td>\n",
       "      <td>1st Floor, Annakuteera, 3rd Stage, Banashankar...</td>\n",
       "      <td>Addhuri Udupi Bhojana</td>\n",
       "      <td>No</td>\n",
       "      <td>No</td>\n",
       "      <td>3.7</td>\n",
       "      <td>88</td>\n",
       "      <td>+91 9620009302</td>\n",
       "      <td>Banashankari</td>\n",
       "      <td>Quick Bites</td>\n",
       "      <td>Masala Dosa</td>\n",
       "      <td>South Indian, North Indian</td>\n",
       "      <td>300.0</td>\n",
       "      <td>[('Rated 4.0', \"RATED\\n  Great food and proper...</td>\n",
       "      <td>[]</td>\n",
       "      <td>Buffet</td>\n",
       "      <td>Banashankari</td>\n",
       "      <td>Quick Bites+Casual Dining</td>\n",
       "    </tr>\n",
       "    <tr>\n",
       "      <th>31</th>\n",
       "      <td>https://www.zomato.com/bangalore/foodiction-1-...</td>\n",
       "      <td>2/1, 7th Main, Dwarakangar, Hosakeregalli, Ban...</td>\n",
       "      <td>Foodiction</td>\n",
       "      <td>Yes</td>\n",
       "      <td>No</td>\n",
       "      <td>2.8</td>\n",
       "      <td>506</td>\n",
       "      <td>+91 9916107070</td>\n",
       "      <td>Banashankari</td>\n",
       "      <td>Quick Bites</td>\n",
       "      <td>Burgers, Lassi, Chicken Grill, Naan, Momos, Ch...</td>\n",
       "      <td>North Indian, Fast Food, Chinese, Burger</td>\n",
       "      <td>500.0</td>\n",
       "      <td>[('Rated 1.0', \"RATED\\n  Worst restaurant ever...</td>\n",
       "      <td>[]</td>\n",
       "      <td>Delivery</td>\n",
       "      <td>Banashankari</td>\n",
       "      <td>Quick Bites+Casual Dining</td>\n",
       "    </tr>\n",
       "    <tr>\n",
       "      <th>34</th>\n",
       "      <td>https://www.zomato.com/bangalore/faasos-banash...</td>\n",
       "      <td>80, BDA Complex, 2nd Stage, Banashankari, Bang...</td>\n",
       "      <td>Faasos</td>\n",
       "      <td>Yes</td>\n",
       "      <td>No</td>\n",
       "      <td>4.2</td>\n",
       "      <td>415</td>\n",
       "      <td>+91 7700020020</td>\n",
       "      <td>Banashankari</td>\n",
       "      <td>Quick Bites</td>\n",
       "      <td>Rolls, Veggie Wrap, Chocolate Fantasy, Rice Bo...</td>\n",
       "      <td>North Indian, Biryani, Fast Food</td>\n",
       "      <td>500.0</td>\n",
       "      <td>[('Rated 3.0', 'RATED\\n  Not worth for the mon...</td>\n",
       "      <td>['Chole Kulcha Meal', 'Upvas Aloo Paratha With...</td>\n",
       "      <td>Delivery</td>\n",
       "      <td>Banashankari</td>\n",
       "      <td>Quick Bites+Casual Dining</td>\n",
       "    </tr>\n",
       "    <tr>\n",
       "      <th>36</th>\n",
       "      <td>https://www.zomato.com/bangalore/fast-and-fres...</td>\n",
       "      <td>32, 7th Main Road, Dwaraka Nagar,Near PES Coll...</td>\n",
       "      <td>Fast And Fresh</td>\n",
       "      <td>Yes</td>\n",
       "      <td>No</td>\n",
       "      <td>2.8</td>\n",
       "      <td>91</td>\n",
       "      <td>+91 9742974232</td>\n",
       "      <td>Banashankari</td>\n",
       "      <td>Quick Bites</td>\n",
       "      <td>NaN</td>\n",
       "      <td>North Indian, Chinese, Fast Food</td>\n",
       "      <td>400.0</td>\n",
       "      <td>[('Rated 1.0', 'RATED\\n  Half baked rice in a ...</td>\n",
       "      <td>[]</td>\n",
       "      <td>Delivery</td>\n",
       "      <td>Banashankari</td>\n",
       "      <td>Quick Bites+Casual Dining</td>\n",
       "    </tr>\n",
       "    <tr>\n",
       "      <th>39</th>\n",
       "      <td>https://www.zomato.com/bangalore/maruthi-davan...</td>\n",
       "      <td>556/A, Water Tank Road, 3rd Stage, Banashankar...</td>\n",
       "      <td>Maruthi Davangere Benne Dosa</td>\n",
       "      <td>Yes</td>\n",
       "      <td>No</td>\n",
       "      <td>4.0</td>\n",
       "      <td>17</td>\n",
       "      <td>+91 9019563485</td>\n",
       "      <td>Banashankari</td>\n",
       "      <td>Quick Bites</td>\n",
       "      <td>NaN</td>\n",
       "      <td>South Indian</td>\n",
       "      <td>150.0</td>\n",
       "      <td>[('Rated 5.0', \"RATED\\n  This restaurant serve...</td>\n",
       "      <td>['Benne Dosa', 'Benne Masala Dosa', 'Benne Kal...</td>\n",
       "      <td>Delivery</td>\n",
       "      <td>Banashankari</td>\n",
       "      <td>Quick Bites+Casual Dining</td>\n",
       "    </tr>\n",
       "  </tbody>\n",
       "</table>\n",
       "</div>"
      ],
      "text/plain": [
       "                                                  url  \\\n",
       "3   https://www.zomato.com/bangalore/addhuri-udupi...   \n",
       "31  https://www.zomato.com/bangalore/foodiction-1-...   \n",
       "34  https://www.zomato.com/bangalore/faasos-banash...   \n",
       "36  https://www.zomato.com/bangalore/fast-and-fres...   \n",
       "39  https://www.zomato.com/bangalore/maruthi-davan...   \n",
       "\n",
       "                                              address  \\\n",
       "3   1st Floor, Annakuteera, 3rd Stage, Banashankar...   \n",
       "31  2/1, 7th Main, Dwarakangar, Hosakeregalli, Ban...   \n",
       "34  80, BDA Complex, 2nd Stage, Banashankari, Bang...   \n",
       "36  32, 7th Main Road, Dwaraka Nagar,Near PES Coll...   \n",
       "39  556/A, Water Tank Road, 3rd Stage, Banashankar...   \n",
       "\n",
       "                            name online_order book_table  rate  votes  \\\n",
       "3          Addhuri Udupi Bhojana           No         No   3.7     88   \n",
       "31                    Foodiction          Yes         No   2.8    506   \n",
       "34                        Faasos          Yes         No   4.2    415   \n",
       "36                Fast And Fresh          Yes         No   2.8     91   \n",
       "39  Maruthi Davangere Benne Dosa          Yes         No   4.0     17   \n",
       "\n",
       "             phone      location    rest_type  \\\n",
       "3   +91 9620009302  Banashankari  Quick Bites   \n",
       "31  +91 9916107070  Banashankari  Quick Bites   \n",
       "34  +91 7700020020  Banashankari  Quick Bites   \n",
       "36  +91 9742974232  Banashankari  Quick Bites   \n",
       "39  +91 9019563485  Banashankari  Quick Bites   \n",
       "\n",
       "                                           dish_liked  \\\n",
       "3                                         Masala Dosa   \n",
       "31  Burgers, Lassi, Chicken Grill, Naan, Momos, Ch...   \n",
       "34  Rolls, Veggie Wrap, Chocolate Fantasy, Rice Bo...   \n",
       "36                                                NaN   \n",
       "39                                                NaN   \n",
       "\n",
       "                                    cuisines  approx_cost(for two people)  \\\n",
       "3                 South Indian, North Indian                        300.0   \n",
       "31  North Indian, Fast Food, Chinese, Burger                        500.0   \n",
       "34          North Indian, Biryani, Fast Food                        500.0   \n",
       "36          North Indian, Chinese, Fast Food                        400.0   \n",
       "39                              South Indian                        150.0   \n",
       "\n",
       "                                         reviews_list  \\\n",
       "3   [('Rated 4.0', \"RATED\\n  Great food and proper...   \n",
       "31  [('Rated 1.0', \"RATED\\n  Worst restaurant ever...   \n",
       "34  [('Rated 3.0', 'RATED\\n  Not worth for the mon...   \n",
       "36  [('Rated 1.0', 'RATED\\n  Half baked rice in a ...   \n",
       "39  [('Rated 5.0', \"RATED\\n  This restaurant serve...   \n",
       "\n",
       "                                            menu_item listed_in(type)  \\\n",
       "3                                                  []          Buffet   \n",
       "31                                                 []        Delivery   \n",
       "34  ['Chole Kulcha Meal', 'Upvas Aloo Paratha With...        Delivery   \n",
       "36                                                 []        Delivery   \n",
       "39  ['Benne Dosa', 'Benne Masala Dosa', 'Benne Kal...        Delivery   \n",
       "\n",
       "   listed_in(city)                  Top types  \n",
       "3     Banashankari  Quick Bites+Casual Dining  \n",
       "31    Banashankari  Quick Bites+Casual Dining  \n",
       "34    Banashankari  Quick Bites+Casual Dining  \n",
       "36    Banashankari  Quick Bites+Casual Dining  \n",
       "39    Banashankari  Quick Bites+Casual Dining  "
      ]
     },
     "execution_count": 72,
     "metadata": {},
     "output_type": "execute_result"
    }
   ],
   "source": [
    "wordclo=df[df['rest_type']=='Quick Bites']\n",
    "wordclo.head()"
   ]
  },
  {
   "cell_type": "code",
   "execution_count": 73,
   "metadata": {},
   "outputs": [],
   "source": [
    "dishes=''\n",
    "for word in wordclo['dish_liked'].dropna():\n",
    "    words=word.split()\n",
    "    for i in range(len(words)):\n",
    "        words[i]=words[i].lower()\n",
    "        dishes=dishes+' '.join(words)+' '"
   ]
  },
  {
   "cell_type": "code",
   "execution_count": 74,
   "metadata": {},
   "outputs": [],
   "source": [
    "#dishes"
   ]
  },
  {
   "cell_type": "code",
   "execution_count": 75,
   "metadata": {},
   "outputs": [],
   "source": [
    "stopwords=set(STOPWORDS)"
   ]
  },
  {
   "cell_type": "code",
   "execution_count": 76,
   "metadata": {},
   "outputs": [],
   "source": [
    "wordcloud=WordCloud(stopwords=stopwords,width=2000,height=2000).generate(dishes)"
   ]
  },
  {
   "cell_type": "code",
   "execution_count": 77,
   "metadata": {},
   "outputs": [
    {
     "data": {
      "text/plain": [
       "<matplotlib.image.AxesImage at 0x1cc3a9524c8>"
      ]
     },
     "execution_count": 77,
     "metadata": {},
     "output_type": "execute_result"
    },
    {
     "data": {
      "image/png": "[encoded data removed]",
      "text/plain": [
       "<Figure size 720x576 with 1 Axes>"
      ]
     },
     "metadata": {
      "needs_background": "light"
     },
     "output_type": "display_data"
    }
   ],
   "source": [
    "plt.figure(figsize=(10,8))\n",
    "plt.imshow(wordcloud)"
   ]
  },
  {
   "cell_type": "code",
   "execution_count": 78,
   "metadata": {},
   "outputs": [],
   "source": [
    "wordcl=df[df['rest_type']== 'Casual Dining']"
   ]
  },
  {
   "cell_type": "code",
   "execution_count": 79,
   "metadata": {},
   "outputs": [],
   "source": [
    "dish=''\n",
    "for word in wordcl['dish_liked'].dropna():\n",
    "    words=word.split()\n",
    "    for i in range(len(words)):\n",
    "        words[i]=words[i].lower()\n",
    "        dish=dish+' '.join(words)+' '"
   ]
  },
  {
   "cell_type": "code",
   "execution_count": 80,
   "metadata": {},
   "outputs": [],
   "source": [
    "#dish"
   ]
  },
  {
   "cell_type": "code",
   "execution_count": 81,
   "metadata": {},
   "outputs": [],
   "source": [
    "wordcloud1=WordCloud(stopwords=stopwords,width=2000,height=2000).generate(dish)"
   ]
  },
  {
   "cell_type": "code",
   "execution_count": 82,
   "metadata": {},
   "outputs": [
    {
     "data": {
      "text/plain": [
       "<matplotlib.image.AxesImage at 0x1cc3a9e8088>"
      ]
     },
     "execution_count": 82,
     "metadata": {},
     "output_type": "execute_result"
    },
    {
     "data": {
      "image/png": "[encoded data removed]",
      "text/plain": [
       "<Figure size 576x720 with 1 Axes>"
      ]
     },
     "metadata": {
      "needs_background": "light"
     },
     "output_type": "display_data"
    }
   ],
   "source": [
    "plt.figure(figsize=(8,10))\n",
    "plt.imshow(wordcloud1)"
   ]
  },
  {
   "cell_type": "code",
   "execution_count": 83,
   "metadata": {},
   "outputs": [
    {
     "data": {
      "text/plain": [
       "'[(\\'Rated 4.0\\', \\'RATED\\\\n  A beautiful place to dine in.The interiors take you back to the Mughal era. The lightings are just perfect.We went there on the occasion of Christmas and so they had only limited items available. But the taste and service was not compromised at all.The only complaint is that the breads could have been better.Would surely like to come here again.\\'), (\\'Rated 4.0\\', \\'RATED\\\\n  I was here for dinner with my family on a weekday. The restaurant was completely empty. Ambience is good with some good old hindi music. Seating arrangement are good too. We ordered masala papad, panner and baby corn starters, lemon and corrionder soup, butter roti, olive and chilli paratha. Food was fresh and good, service is good too. Good for family hangout.\\\\nCheers\\'), (\\'Rated 2.0\\', \\'RATED\\\\n  Its a restaurant near to Banashankari BDA. Me along with few of my office friends visited to have buffet but unfortunately they only provide veg buffet. On inquiring they said this place is mostly visited by vegetarians. Anyways we ordered ala carte items which took ages to come. Food was ok ok. Definitely not visiting anymore.\\'), (\\'Rated 4.0\\', \\'RATED\\\\n  We went here on a weekend and one of us had the buffet while two of us took Ala Carte. Firstly the ambience and service of this place is great! The buffet had a lot of items and the good was good. We had a Pumpkin Halwa intm the dessert which was amazing. Must try! The kulchas are great here. Cheers!\\'), (\\'Rated 5.0\\', \\'RATED\\\\n  The best thing about the place is itÃ\\x83\\\\x83Ã\\x82\\\\x83Ã\\x83\\\\x82Ã\\x82\\\\x82Ã\\x83\\\\x83Ã\\x82\\\\x82Ã\\x83\\\\x82Ã\\x82\\\\x92s ambiance. Second best thing was yummy ? food. We try buffet and buffet food was not disappointed us.\\\\nTest ?. ?? ?? ?? ?? ??\\\\nQuality ?. ??????????.\\\\nService: Staff was very professional and friendly.\\\\n\\\\nOverall experience was excellent.\\\\n\\\\nsubirmajumder85.wixsite.com\\'), (\\'Rated 5.0\\', \\'RATED\\\\n  Great food and pleasant ambience. Expensive but Coll place to chill and relax......\\\\n\\\\nService is really very very good and friendly staff...\\\\n\\\\nFood : 5/5\\\\nService : 5/5\\\\nAmbience :5/5\\\\nOverall :5/5\\'), (\\'Rated 4.0\\', \\'RATED\\\\n  Good ambience with tasty food.\\\\nCheese chilli paratha with Bhutta palak methi curry is a good combo.\\\\nLemon Chicken in the starters is a must try item.\\\\nEgg fried rice was also quite tasty.\\\\nIn the mocktails, recommend \"Alice in Junoon\". Do not miss it.\\'), (\\'Rated 4.0\\', \\'RATED\\\\n  You canÃ\\x83\\\\x83Ã\\x82\\\\x83Ã\\x83\\\\x82Ã\\x82\\\\x82Ã\\x83\\\\x83Ã\\x82\\\\x82Ã\\x83\\\\x82Ã\\x82\\\\x92t go wrong with Jalsa. Never been a fan of their buffet and thus always order alacarteÃ\\x83\\\\x83Ã\\x82\\\\x83Ã\\x83\\\\x82Ã\\x82\\\\x82Ã\\x83\\\\x83Ã\\x82\\\\x82Ã\\x83\\\\x82Ã\\x82\\\\x92. Service at times can be on the slower side but food is worth the wait.\\'), (\\'Rated 5.0\\', \\'RATED\\\\n  Overdelighted by the service and food provided at this place. A royal and ethnic atmosphere builds a strong essence of being in India and also the quality and taste of food is truly authentic. I would totally recommend to visit this place once.\\'), (\\'Rated 4.0\\', \\'RATED\\\\n  The place is nice and comfortable. Food wise all jalea outlets maintain a good standard. The soya chaap was a standout dish. Clearly one of trademark dish as per me and a must try.\\\\n\\\\nThe only concern is the parking. It very congested and limited to just 5cars. The basement parking is very steep and makes it cumbersome\\'), (\\'Rated 4.0\\', \\'RATED\\\\n  The place is nice and comfortable. Food wise all jalea outlets maintain a good standard. The soya chaap was a standout dish. Clearly one of trademark dish as per me and a must try.\\\\n\\\\nThe only concern is the parking. It very congested and limited to just 5cars. The basement parking is very steep and makes it cumbersome\\'), (\\'Rated 4.0\\', \\'RATED\\\\n  The place is nice and comfortable. Food wise all jalea outlets maintain a good standard. The soya chaap was a standout dish. Clearly one of trademark dish as per me and a must try.\\\\n\\\\nThe only concern is the parking. It very congested and limited to just 5cars. The basement parking is very steep and makes it cumbersome\\')]'"
      ]
     },
     "execution_count": 83,
     "metadata": {},
     "output_type": "execute_result"
    }
   ],
   "source": [
    "ms=df['reviews_list'][0]\n",
    "ms"
   ]
  },
  {
   "cell_type": "code",
   "execution_count": 84,
   "metadata": {},
   "outputs": [],
   "source": [
    "ms=ms.lower()"
   ]
  },
  {
   "cell_type": "code",
   "execution_count": 85,
   "metadata": {},
   "outputs": [],
   "source": [
    "import re"
   ]
  },
  {
   "cell_type": "code",
   "execution_count": 86,
   "metadata": {},
   "outputs": [
    {
     "data": {
      "text/plain": [
       "'[  rated        rated\\\\n  a beautiful place to dine in the interiors take you back to the mughal era  the lightings are just perfect we went there on the occasion of christmas and so they had only limited items available  but the taste and service was not compromised at all the only complaint is that the breads could have been better would surely like to come here again       rated        rated\\\\n  i was here for dinner with my family on a weekday  the restaurant was completely empty  ambience is good with some good old hindi music  seating arrangement are good too  we ordered masala papad  panner and baby corn starters  lemon and corrionder soup  butter roti  olive and chilli paratha  food was fresh and good  service is good too  good for family hangout \\\\ncheers      rated        rated\\\\n  its a restaurant near to banashankari bda  me along with few of my office friends visited to have buffet but unfortunately they only provide veg buffet  on inquiring they said this place is mostly visited by vegetarians  anyways we ordered ala carte items which took ages to come  food was ok ok  definitely not visiting anymore       rated        rated\\\\n  we went here on a weekend and one of us had the buffet while two of us took ala carte  firstly the ambience and service of this place is great  the buffet had a lot of items and the good was good  we had a pumpkin halwa intm the dessert which was amazing  must try  the kulchas are great here  cheers       rated        rated\\\\n  the best thing about the place is it  \\\\x    \\\\x    \\\\x    \\\\x    \\\\x    \\\\x    \\\\x    \\\\x  s ambiance  second best thing was yummy   food  we try buffet and buffet food was not disappointed us \\\\ntest                  \\\\nquality               \\\\nservice  staff was very professional and friendly \\\\n\\\\noverall experience was excellent \\\\n\\\\nsubirmajumder   wixsite com      rated        rated\\\\n  great food and pleasant ambience  expensive but coll place to chill and relax      \\\\n\\\\nservice is really very very good and friendly staff   \\\\n\\\\nfood      \\\\nservice      \\\\nambience     \\\\noverall           rated        rated\\\\n  good ambience with tasty food \\\\ncheese chilli paratha with bhutta palak methi curry is a good combo \\\\nlemon chicken in the starters is a must try item \\\\negg fried rice was also quite tasty \\\\nin the mocktails  recommend  alice in junoon   do not miss it       rated        rated\\\\n  you can  \\\\x    \\\\x    \\\\x    \\\\x    \\\\x    \\\\x    \\\\x    \\\\x  t go wrong with jalsa  never been a fan of their buffet and thus always order alacarte  \\\\x    \\\\x    \\\\x    \\\\x    \\\\x    \\\\x    \\\\x    \\\\x    service at times can be on the slower side but food is worth the wait       rated        rated\\\\n  overdelighted by the service and food provided at this place  a royal and ethnic atmosphere builds a strong essence of being in india and also the quality and taste of food is truly authentic  i would totally recommend to visit this place once       rated        rated\\\\n  the place is nice and comfortable  food wise all jalea outlets maintain a good standard  the soya chaap was a standout dish  clearly one of trademark dish as per me and a must try \\\\n\\\\nthe only concern is the parking  it very congested and limited to just  cars  the basement parking is very steep and makes it cumbersome      rated        rated\\\\n  the place is nice and comfortable  food wise all jalea outlets maintain a good standard  the soya chaap was a standout dish  clearly one of trademark dish as per me and a must try \\\\n\\\\nthe only concern is the parking  it very congested and limited to just  cars  the basement parking is very steep and makes it cumbersome      rated        rated\\\\n  the place is nice and comfortable  food wise all jalea outlets maintain a good standard  the soya chaap was a standout dish  clearly one of trademark dish as per me and a must try \\\\n\\\\nthe only concern is the parking  it very congested and limited to just  cars  the basement parking is very steep and makes it cumbersome  ]'"
      ]
     },
     "execution_count": 86,
     "metadata": {},
     "output_type": "execute_result"
    }
   ],
   "source": [
    "ms1=re.sub('[^a-zA-z]',' ',ms)\n",
    "ms1"
   ]
  },
  {
   "cell_type": "code",
   "execution_count": 87,
   "metadata": {},
   "outputs": [
    {
     "data": {
      "text/plain": [
       "'[            \\\\n  a beautiful place to dine in the interiors take you back to the mughal era  the lightings are just perfect we went there on the occasion of christmas and so they had only limited items available  but the taste and service was not compromised at all the only complaint is that the breads could have been better would surely like to come here again                 \\\\n  i was here for dinner with my family on a weekday  the restaurant was completely empty  ambience is good with some good old hindi music  seating arrangement are good too  we ordered masala papad  panner and baby corn starters  lemon and corrionder soup  butter roti  olive and chilli paratha  food was fresh and good  service is good too  good for family hangout \\\\ncheers                \\\\n  its a restaurant near to banashankari bda  me along with few of my office friends visited to have buffet but unfortunately they only provide veg buffet  on inquiring they said this place is mostly visited by vegetarians  anyways we ordered ala carte items which took ages to come  food was ok ok  definitely not visiting anymore                 \\\\n  we went here on a weekend and one of us had the buffet while two of us took ala carte  firstly the ambience and service of this place is great  the buffet had a lot of items and the good was good  we had a pumpkin halwa intm the dessert which was amazing  must try  the kulchas are great here  cheers                 \\\\n  the best thing about the place is it  \\\\x    \\\\x    \\\\x    \\\\x    \\\\x    \\\\x    \\\\x    \\\\x  s ambiance  second best thing was yummy   food  we try buffet and buffet food was not disappointed us \\\\ntest                  \\\\nquality               \\\\nservice  staff was very professional and friendly \\\\n\\\\noverall experience was excellent \\\\n\\\\nsubirmajumder   wixsite com                \\\\n  great food and pleasant ambience  expensive but coll place to chill and relax      \\\\n\\\\nservice is really very very good and friendly staff   \\\\n\\\\nfood      \\\\nservice      \\\\nambience     \\\\noverall                     \\\\n  good ambience with tasty food \\\\ncheese chilli paratha with bhutta palak methi curry is a good combo \\\\nlemon chicken in the starters is a must try item \\\\negg fried rice was also quite tasty \\\\nin the mocktails  recommend  alice in junoon   do not miss it                 \\\\n  you can  \\\\x    \\\\x    \\\\x    \\\\x    \\\\x    \\\\x    \\\\x    \\\\x  t go wrong with jalsa  never been a fan of their buffet and thus always order alacarte  \\\\x    \\\\x    \\\\x    \\\\x    \\\\x    \\\\x    \\\\x    \\\\x    service at times can be on the slower side but food is worth the wait                 \\\\n  overdelighted by the service and food provided at this place  a royal and ethnic atmosphere builds a strong essence of being in india and also the quality and taste of food is truly authentic  i would totally recommend to visit this place once                 \\\\n  the place is nice and comfortable  food wise all jalea outlets maintain a good standard  the soya chaap was a standout dish  clearly one of trademark dish as per me and a must try \\\\n\\\\nthe only concern is the parking  it very congested and limited to just  cars  the basement parking is very steep and makes it cumbersome                \\\\n  the place is nice and comfortable  food wise all jalea outlets maintain a good standard  the soya chaap was a standout dish  clearly one of trademark dish as per me and a must try \\\\n\\\\nthe only concern is the parking  it very congested and limited to just  cars  the basement parking is very steep and makes it cumbersome                \\\\n  the place is nice and comfortable  food wise all jalea outlets maintain a good standard  the soya chaap was a standout dish  clearly one of trademark dish as per me and a must try \\\\n\\\\nthe only concern is the parking  it very congested and limited to just  cars  the basement parking is very steep and makes it cumbersome  ]'"
      ]
     },
     "execution_count": 87,
     "metadata": {},
     "output_type": "execute_result"
    }
   ],
   "source": [
    "ms2=re.sub('rated',' ',ms1)\n",
    "ms2"
   ]
  },
  {
   "cell_type": "code",
   "execution_count": 88,
   "metadata": {},
   "outputs": [
    {
     "data": {
      "text/plain": [
       "'[            \\\\n  a beautiful place to dine in the interiors take you back to the mughal era  the lightings are just perfect we went there on the occasion of christmas and so they had only limited items available  but the taste and service was not compromised at all the only complaint is that the breads could have been better would surely like to come here again                 \\\\n  i was here for dinner with my family on a weekday  the restaurant was completely empty  ambience is good with some good old hindi music  seating arrangement are good too  we ordered masala papad  panner and baby corn starters  lemon and corrionder soup  butter roti  olive and chilli paratha  food was fresh and good  service is good too  good for family hangout \\\\ncheers                \\\\n  its a restaurant near to banashankari bda  me along with few of my office friends visited to have buffet but unfortunately they only provide veg buffet  on inquiring they said this place is mostly visited by vegetarians  anyways we ordered ala carte items which took ages to come  food was ok ok  definitely not visiting anymore                 \\\\n  we went here on a weekend and one of us had the buffet while two of us took ala carte  firstly the ambience and service of this place is great  the buffet had a lot of items and the good was good  we had a pumpkin halwa intm the dessert which was amazing  must try  the kulchas are great here  cheers                 \\\\n  the best thing about the place is it  \\\\     \\\\     \\\\     \\\\     \\\\     \\\\     \\\\     \\\\   s ambiance  second best thing was yummy   food  we try buffet and buffet food was not disappointed us \\\\ntest                  \\\\nquality               \\\\nservice  staff was very professional and friendly \\\\n\\\\noverall e perience was e cellent \\\\n\\\\nsubirmajumder   wi site com                \\\\n  great food and pleasant ambience  e pensive but coll place to chill and rela       \\\\n\\\\nservice is really very very good and friendly staff   \\\\n\\\\nfood      \\\\nservice      \\\\nambience     \\\\noverall                     \\\\n  good ambience with tasty food \\\\ncheese chilli paratha with bhutta palak methi curry is a good combo \\\\nlemon chicken in the starters is a must try item \\\\negg fried rice was also quite tasty \\\\nin the mocktails  recommend  alice in junoon   do not miss it                 \\\\n  you can  \\\\     \\\\     \\\\     \\\\     \\\\     \\\\     \\\\     \\\\   t go wrong with jalsa  never been a fan of their buffet and thus always order alacarte  \\\\     \\\\     \\\\     \\\\     \\\\     \\\\     \\\\     \\\\     service at times can be on the slower side but food is worth the wait                 \\\\n  overdelighted by the service and food provided at this place  a royal and ethnic atmosphere builds a strong essence of being in india and also the quality and taste of food is truly authentic  i would totally recommend to visit this place once                 \\\\n  the place is nice and comfortable  food wise all jalea outlets maintain a good standard  the soya chaap was a standout dish  clearly one of trademark dish as per me and a must try \\\\n\\\\nthe only concern is the parking  it very congested and limited to just  cars  the basement parking is very steep and makes it cumbersome                \\\\n  the place is nice and comfortable  food wise all jalea outlets maintain a good standard  the soya chaap was a standout dish  clearly one of trademark dish as per me and a must try \\\\n\\\\nthe only concern is the parking  it very congested and limited to just  cars  the basement parking is very steep and makes it cumbersome                \\\\n  the place is nice and comfortable  food wise all jalea outlets maintain a good standard  the soya chaap was a standout dish  clearly one of trademark dish as per me and a must try \\\\n\\\\nthe only concern is the parking  it very congested and limited to just  cars  the basement parking is very steep and makes it cumbersome  ]'"
      ]
     },
     "execution_count": 88,
     "metadata": {},
     "output_type": "execute_result"
    }
   ],
   "source": [
    "ms3=re.sub('x',' ',ms2)\n",
    "ms3"
   ]
  },
  {
   "cell_type": "code",
   "execution_count": 89,
   "metadata": {},
   "outputs": [
    {
     "data": {
      "text/plain": [
       "'[ \\\\n a beautiful place to dine in the interiors take you back to the mughal era the lightings are just perfect we went there on the occasion of christmas and so they had only limited items available but the taste and service was not compromised at all the only complaint is that the breads could have been better would surely like to come here again \\\\n i was here for dinner with my family on a weekday the restaurant was completely empty ambience is good with some good old hindi music seating arrangement are good too we ordered masala papad panner and baby corn starters lemon and corrionder soup butter roti olive and chilli paratha food was fresh and good service is good too good for family hangout \\\\ncheers \\\\n its a restaurant near to banashankari bda me along with few of my office friends visited to have buffet but unfortunately they only provide veg buffet on inquiring they said this place is mostly visited by vegetarians anyways we ordered ala carte items which took ages to come food was ok ok definitely not visiting anymore \\\\n we went here on a weekend and one of us had the buffet while two of us took ala carte firstly the ambience and service of this place is great the buffet had a lot of items and the good was good we had a pumpkin halwa intm the dessert which was amazing must try the kulchas are great here cheers \\\\n the best thing about the place is it \\\\ \\\\ \\\\ \\\\ \\\\ \\\\ \\\\ \\\\ s ambiance second best thing was yummy food we try buffet and buffet food was not disappointed us \\\\ntest \\\\nquality \\\\nservice staff was very professional and friendly \\\\n\\\\noverall e perience was e cellent \\\\n\\\\nsubirmajumder wi site com \\\\n great food and pleasant ambience e pensive but coll place to chill and rela \\\\n\\\\nservice is really very very good and friendly staff \\\\n\\\\nfood \\\\nservice \\\\nambience \\\\noverall \\\\n good ambience with tasty food \\\\ncheese chilli paratha with bhutta palak methi curry is a good combo \\\\nlemon chicken in the starters is a must try item \\\\negg fried rice was also quite tasty \\\\nin the mocktails recommend alice in junoon do not miss it \\\\n you can \\\\ \\\\ \\\\ \\\\ \\\\ \\\\ \\\\ \\\\ t go wrong with jalsa never been a fan of their buffet and thus always order alacarte \\\\ \\\\ \\\\ \\\\ \\\\ \\\\ \\\\ \\\\ service at times can be on the slower side but food is worth the wait \\\\n overdelighted by the service and food provided at this place a royal and ethnic atmosphere builds a strong essence of being in india and also the quality and taste of food is truly authentic i would totally recommend to visit this place once \\\\n the place is nice and comfortable food wise all jalea outlets maintain a good standard the soya chaap was a standout dish clearly one of trademark dish as per me and a must try \\\\n\\\\nthe only concern is the parking it very congested and limited to just cars the basement parking is very steep and makes it cumbersome \\\\n the place is nice and comfortable food wise all jalea outlets maintain a good standard the soya chaap was a standout dish clearly one of trademark dish as per me and a must try \\\\n\\\\nthe only concern is the parking it very congested and limited to just cars the basement parking is very steep and makes it cumbersome \\\\n the place is nice and comfortable food wise all jalea outlets maintain a good standard the soya chaap was a standout dish clearly one of trademark dish as per me and a must try \\\\n\\\\nthe only concern is the parking it very congested and limited to just cars the basement parking is very steep and makes it cumbersome ]'"
      ]
     },
     "execution_count": 89,
     "metadata": {},
     "output_type": "execute_result"
    }
   ],
   "source": [
    "ms5=re.sub(' +',' ',ms3)\n",
    "ms5"
   ]
  },
  {
   "cell_type": "code",
   "execution_count": 90,
   "metadata": {},
   "outputs": [
    {
     "data": {
      "text/html": [
       "<div>\n",
       "<style scoped>\n",
       "    .dataframe tbody tr th:only-of-type {\n",
       "        vertical-align: middle;\n",
       "    }\n",
       "\n",
       "    .dataframe tbody tr th {\n",
       "        vertical-align: top;\n",
       "    }\n",
       "\n",
       "    .dataframe thead th {\n",
       "        text-align: right;\n",
       "    }\n",
       "</style>\n",
       "<table border=\"1\" class=\"dataframe\">\n",
       "  <thead>\n",
       "    <tr style=\"text-align: right;\">\n",
       "      <th></th>\n",
       "      <th>url</th>\n",
       "      <th>address</th>\n",
       "      <th>name</th>\n",
       "      <th>online_order</th>\n",
       "      <th>book_table</th>\n",
       "      <th>rate</th>\n",
       "      <th>votes</th>\n",
       "      <th>phone</th>\n",
       "      <th>location</th>\n",
       "      <th>rest_type</th>\n",
       "      <th>dish_liked</th>\n",
       "      <th>cuisines</th>\n",
       "      <th>approx_cost(for two people)</th>\n",
       "      <th>reviews_list</th>\n",
       "      <th>menu_item</th>\n",
       "      <th>listed_in(type)</th>\n",
       "      <th>listed_in(city)</th>\n",
       "      <th>Top types</th>\n",
       "    </tr>\n",
       "  </thead>\n",
       "  <tbody>\n",
       "    <tr>\n",
       "      <th>3</th>\n",
       "      <td>https://www.zomato.com/bangalore/addhuri-udupi...</td>\n",
       "      <td>1st Floor, Annakuteera, 3rd Stage, Banashankar...</td>\n",
       "      <td>Addhuri Udupi Bhojana</td>\n",
       "      <td>No</td>\n",
       "      <td>No</td>\n",
       "      <td>3.7</td>\n",
       "      <td>88</td>\n",
       "      <td>+91 9620009302</td>\n",
       "      <td>Banashankari</td>\n",
       "      <td>Quick Bites</td>\n",
       "      <td>Masala Dosa</td>\n",
       "      <td>South Indian, North Indian</td>\n",
       "      <td>300.0</td>\n",
       "      <td>[('Rated 4.0', \"RATED\\n  Great food and proper...</td>\n",
       "      <td>[]</td>\n",
       "      <td>Buffet</td>\n",
       "      <td>Banashankari</td>\n",
       "      <td>Quick Bites+Casual Dining</td>\n",
       "    </tr>\n",
       "    <tr>\n",
       "      <th>31</th>\n",
       "      <td>https://www.zomato.com/bangalore/foodiction-1-...</td>\n",
       "      <td>2/1, 7th Main, Dwarakangar, Hosakeregalli, Ban...</td>\n",
       "      <td>Foodiction</td>\n",
       "      <td>Yes</td>\n",
       "      <td>No</td>\n",
       "      <td>2.8</td>\n",
       "      <td>506</td>\n",
       "      <td>+91 9916107070</td>\n",
       "      <td>Banashankari</td>\n",
       "      <td>Quick Bites</td>\n",
       "      <td>Burgers, Lassi, Chicken Grill, Naan, Momos, Ch...</td>\n",
       "      <td>North Indian, Fast Food, Chinese, Burger</td>\n",
       "      <td>500.0</td>\n",
       "      <td>[('Rated 1.0', \"RATED\\n  Worst restaurant ever...</td>\n",
       "      <td>[]</td>\n",
       "      <td>Delivery</td>\n",
       "      <td>Banashankari</td>\n",
       "      <td>Quick Bites+Casual Dining</td>\n",
       "    </tr>\n",
       "    <tr>\n",
       "      <th>34</th>\n",
       "      <td>https://www.zomato.com/bangalore/faasos-banash...</td>\n",
       "      <td>80, BDA Complex, 2nd Stage, Banashankari, Bang...</td>\n",
       "      <td>Faasos</td>\n",
       "      <td>Yes</td>\n",
       "      <td>No</td>\n",
       "      <td>4.2</td>\n",
       "      <td>415</td>\n",
       "      <td>+91 7700020020</td>\n",
       "      <td>Banashankari</td>\n",
       "      <td>Quick Bites</td>\n",
       "      <td>Rolls, Veggie Wrap, Chocolate Fantasy, Rice Bo...</td>\n",
       "      <td>North Indian, Biryani, Fast Food</td>\n",
       "      <td>500.0</td>\n",
       "      <td>[('Rated 3.0', 'RATED\\n  Not worth for the mon...</td>\n",
       "      <td>['Chole Kulcha Meal', 'Upvas Aloo Paratha With...</td>\n",
       "      <td>Delivery</td>\n",
       "      <td>Banashankari</td>\n",
       "      <td>Quick Bites+Casual Dining</td>\n",
       "    </tr>\n",
       "    <tr>\n",
       "      <th>36</th>\n",
       "      <td>https://www.zomato.com/bangalore/fast-and-fres...</td>\n",
       "      <td>32, 7th Main Road, Dwaraka Nagar,Near PES Coll...</td>\n",
       "      <td>Fast And Fresh</td>\n",
       "      <td>Yes</td>\n",
       "      <td>No</td>\n",
       "      <td>2.8</td>\n",
       "      <td>91</td>\n",
       "      <td>+91 9742974232</td>\n",
       "      <td>Banashankari</td>\n",
       "      <td>Quick Bites</td>\n",
       "      <td>NaN</td>\n",
       "      <td>North Indian, Chinese, Fast Food</td>\n",
       "      <td>400.0</td>\n",
       "      <td>[('Rated 1.0', 'RATED\\n  Half baked rice in a ...</td>\n",
       "      <td>[]</td>\n",
       "      <td>Delivery</td>\n",
       "      <td>Banashankari</td>\n",
       "      <td>Quick Bites+Casual Dining</td>\n",
       "    </tr>\n",
       "    <tr>\n",
       "      <th>39</th>\n",
       "      <td>https://www.zomato.com/bangalore/maruthi-davan...</td>\n",
       "      <td>556/A, Water Tank Road, 3rd Stage, Banashankar...</td>\n",
       "      <td>Maruthi Davangere Benne Dosa</td>\n",
       "      <td>Yes</td>\n",
       "      <td>No</td>\n",
       "      <td>4.0</td>\n",
       "      <td>17</td>\n",
       "      <td>+91 9019563485</td>\n",
       "      <td>Banashankari</td>\n",
       "      <td>Quick Bites</td>\n",
       "      <td>NaN</td>\n",
       "      <td>South Indian</td>\n",
       "      <td>150.0</td>\n",
       "      <td>[('Rated 5.0', \"RATED\\n  This restaurant serve...</td>\n",
       "      <td>['Benne Dosa', 'Benne Masala Dosa', 'Benne Kal...</td>\n",
       "      <td>Delivery</td>\n",
       "      <td>Banashankari</td>\n",
       "      <td>Quick Bites+Casual Dining</td>\n",
       "    </tr>\n",
       "  </tbody>\n",
       "</table>\n",
       "</div>"
      ],
      "text/plain": [
       "                                                  url  \\\n",
       "3   https://www.zomato.com/bangalore/addhuri-udupi...   \n",
       "31  https://www.zomato.com/bangalore/foodiction-1-...   \n",
       "34  https://www.zomato.com/bangalore/faasos-banash...   \n",
       "36  https://www.zomato.com/bangalore/fast-and-fres...   \n",
       "39  https://www.zomato.com/bangalore/maruthi-davan...   \n",
       "\n",
       "                                              address  \\\n",
       "3   1st Floor, Annakuteera, 3rd Stage, Banashankar...   \n",
       "31  2/1, 7th Main, Dwarakangar, Hosakeregalli, Ban...   \n",
       "34  80, BDA Complex, 2nd Stage, Banashankari, Bang...   \n",
       "36  32, 7th Main Road, Dwaraka Nagar,Near PES Coll...   \n",
       "39  556/A, Water Tank Road, 3rd Stage, Banashankar...   \n",
       "\n",
       "                            name online_order book_table  rate  votes  \\\n",
       "3          Addhuri Udupi Bhojana           No         No   3.7     88   \n",
       "31                    Foodiction          Yes         No   2.8    506   \n",
       "34                        Faasos          Yes         No   4.2    415   \n",
       "36                Fast And Fresh          Yes         No   2.8     91   \n",
       "39  Maruthi Davangere Benne Dosa          Yes         No   4.0     17   \n",
       "\n",
       "             phone      location    rest_type  \\\n",
       "3   +91 9620009302  Banashankari  Quick Bites   \n",
       "31  +91 9916107070  Banashankari  Quick Bites   \n",
       "34  +91 7700020020  Banashankari  Quick Bites   \n",
       "36  +91 9742974232  Banashankari  Quick Bites   \n",
       "39  +91 9019563485  Banashankari  Quick Bites   \n",
       "\n",
       "                                           dish_liked  \\\n",
       "3                                         Masala Dosa   \n",
       "31  Burgers, Lassi, Chicken Grill, Naan, Momos, Ch...   \n",
       "34  Rolls, Veggie Wrap, Chocolate Fantasy, Rice Bo...   \n",
       "36                                                NaN   \n",
       "39                                                NaN   \n",
       "\n",
       "                                    cuisines  approx_cost(for two people)  \\\n",
       "3                 South Indian, North Indian                        300.0   \n",
       "31  North Indian, Fast Food, Chinese, Burger                        500.0   \n",
       "34          North Indian, Biryani, Fast Food                        500.0   \n",
       "36          North Indian, Chinese, Fast Food                        400.0   \n",
       "39                              South Indian                        150.0   \n",
       "\n",
       "                                         reviews_list  \\\n",
       "3   [('Rated 4.0', \"RATED\\n  Great food and proper...   \n",
       "31  [('Rated 1.0', \"RATED\\n  Worst restaurant ever...   \n",
       "34  [('Rated 3.0', 'RATED\\n  Not worth for the mon...   \n",
       "36  [('Rated 1.0', 'RATED\\n  Half baked rice in a ...   \n",
       "39  [('Rated 5.0', \"RATED\\n  This restaurant serve...   \n",
       "\n",
       "                                            menu_item listed_in(type)  \\\n",
       "3                                                  []          Buffet   \n",
       "31                                                 []        Delivery   \n",
       "34  ['Chole Kulcha Meal', 'Upvas Aloo Paratha With...        Delivery   \n",
       "36                                                 []        Delivery   \n",
       "39  ['Benne Dosa', 'Benne Masala Dosa', 'Benne Kal...        Delivery   \n",
       "\n",
       "   listed_in(city)                  Top types  \n",
       "3     Banashankari  Quick Bites+Casual Dining  \n",
       "31    Banashankari  Quick Bites+Casual Dining  \n",
       "34    Banashankari  Quick Bites+Casual Dining  \n",
       "36    Banashankari  Quick Bites+Casual Dining  \n",
       "39    Banashankari  Quick Bites+Casual Dining  "
      ]
     },
     "execution_count": 90,
     "metadata": {},
     "output_type": "execute_result"
    }
   ],
   "source": [
    "dataset=df[df['rest_type']=='Quick Bites']\n",
    "dataset.head()"
   ]
  },
  {
   "cell_type": "code",
   "execution_count": 91,
   "metadata": {},
   "outputs": [],
   "source": [
    "total_review=' '\n",
    "for review in dataset['reviews_list']:\n",
    "    review=review.lower()\n",
    "    review=re.sub('[^a-zA-z]',' ',review)\n",
    "    review=re.sub('rated',' ',review)\n",
    "    review=re.sub('x',' ',review)\n",
    "    review=re.sub(' +',' ',review)\n",
    "    total_review=total_review+str(review)"
   ]
  },
  {
   "cell_type": "code",
   "execution_count": 92,
   "metadata": {},
   "outputs": [],
   "source": [
    "wordcloud3=WordCloud(stopwords=stopwords,width=1500,height=1500).generate(total_review)"
   ]
  },
  {
   "cell_type": "code",
   "execution_count": 93,
   "metadata": {},
   "outputs": [
    {
     "data": {
      "text/plain": [
       "<matplotlib.image.AxesImage at 0x1cc3b41fb08>"
      ]
     },
     "execution_count": 93,
     "metadata": {},
     "output_type": "execute_result"
    },
    {
     "data": {
      "image/png": "[encoded data removed]",
      "text/plain": [
       "<Figure size 720x720 with 1 Axes>"
      ]
     },
     "metadata": {
      "needs_background": "light"
     },
     "output_type": "display_data"
    }
   ],
   "source": [
    "plt.figure(figsize=(10,10))\n",
    "plt.imshow(wordcloud3)"
   ]
  },
  {
   "cell_type": "code",
   "execution_count": 94,
   "metadata": {},
   "outputs": [],
   "source": [
    "#df.head()"
   ]
  },
  {
   "cell_type": "code",
   "execution_count": 95,
   "metadata": {},
   "outputs": [],
   "source": [
    "def assign(x):\n",
    "    if x>0:\n",
    "        return 1\n",
    "    else:\n",
    "        return 0"
   ]
  },
  {
   "cell_type": "code",
   "execution_count": 96,
   "metadata": {},
   "outputs": [],
   "source": [
    "df['rated']=df['rate'].apply(assign)"
   ]
  },
  {
   "cell_type": "code",
   "execution_count": 97,
   "metadata": {},
   "outputs": [
    {
     "data": {
      "text/plain": [
       "array([1, 0], dtype=int64)"
      ]
     },
     "execution_count": 97,
     "metadata": {},
     "output_type": "execute_result"
    }
   ],
   "source": [
    "df['rated'].unique()"
   ]
  },
  {
   "cell_type": "code",
   "execution_count": 98,
   "metadata": {},
   "outputs": [],
   "source": [
    "new_restaurent=df[df['rated']==0]\n",
    "train_val_restaurent=df[df['rated']==1]"
   ]
  },
  {
   "cell_type": "code",
   "execution_count": 99,
   "metadata": {},
   "outputs": [],
   "source": [
    "#train_val_restaurent.head()\n",
    "#new_restaurent.head()"
   ]
  },
  {
   "cell_type": "code",
   "execution_count": 100,
   "metadata": {},
   "outputs": [
    {
     "data": {
      "text/plain": [
       "array([4.1, 3.8, 3.7, 3.6, 4.6, 4. , 4.2, 3.9, 3.1, 3. , 3.2, 3.3, 2.8,\n",
       "       4.4, 4.3, 2.9, 3.5, 2.6, 3.4, 4.5, 2.5, 2.7, 4.7, 2.4, 2.2, 2.3,\n",
       "       4.8, 4.9, 2.1, 2. , 1.8])"
      ]
     },
     "execution_count": 100,
     "metadata": {},
     "output_type": "execute_result"
    }
   ],
   "source": [
    "train_val_restaurent['rate'].unique()"
   ]
  },
  {
   "cell_type": "code",
   "execution_count": 101,
   "metadata": {},
   "outputs": [],
   "source": [
    "import warnings\n",
    "from warnings import filterwarnings\n",
    "filterwarnings('ignore')"
   ]
  },
  {
   "cell_type": "code",
   "execution_count": 102,
   "metadata": {},
   "outputs": [],
   "source": [
    "value=3.75\n",
    "train_val_restaurent['target']=train_val_restaurent['rate'].apply(lambda x:1 if x>=value else 0)"
   ]
  },
  {
   "cell_type": "code",
   "execution_count": 103,
   "metadata": {},
   "outputs": [
    {
     "data": {
      "text/html": [
       "<div>\n",
       "<style scoped>\n",
       "    .dataframe tbody tr th:only-of-type {\n",
       "        vertical-align: middle;\n",
       "    }\n",
       "\n",
       "    .dataframe tbody tr th {\n",
       "        vertical-align: top;\n",
       "    }\n",
       "\n",
       "    .dataframe thead th {\n",
       "        text-align: right;\n",
       "    }\n",
       "</style>\n",
       "<table border=\"1\" class=\"dataframe\">\n",
       "  <thead>\n",
       "    <tr style=\"text-align: right;\">\n",
       "      <th></th>\n",
       "      <th>url</th>\n",
       "      <th>address</th>\n",
       "      <th>name</th>\n",
       "      <th>online_order</th>\n",
       "      <th>book_table</th>\n",
       "      <th>rate</th>\n",
       "      <th>votes</th>\n",
       "      <th>phone</th>\n",
       "      <th>location</th>\n",
       "      <th>rest_type</th>\n",
       "      <th>dish_liked</th>\n",
       "      <th>cuisines</th>\n",
       "      <th>approx_cost(for two people)</th>\n",
       "      <th>reviews_list</th>\n",
       "      <th>menu_item</th>\n",
       "      <th>listed_in(type)</th>\n",
       "      <th>listed_in(city)</th>\n",
       "      <th>Top types</th>\n",
       "      <th>rated</th>\n",
       "      <th>target</th>\n",
       "    </tr>\n",
       "  </thead>\n",
       "  <tbody>\n",
       "    <tr>\n",
       "      <th>0</th>\n",
       "      <td>https://www.zomato.com/bangalore/jalsa-banasha...</td>\n",
       "      <td>942, 21st Main Road, 2nd Stage, Banashankari, ...</td>\n",
       "      <td>Jalsa</td>\n",
       "      <td>Yes</td>\n",
       "      <td>Yes</td>\n",
       "      <td>4.1</td>\n",
       "      <td>775</td>\n",
       "      <td>080 42297555\\r\\n+91 9743772233</td>\n",
       "      <td>Banashankari</td>\n",
       "      <td>Casual Dining</td>\n",
       "      <td>Pasta, Lunch Buffet, Masala Papad, Paneer Laja...</td>\n",
       "      <td>North Indian, Mughlai, Chinese</td>\n",
       "      <td>800.0</td>\n",
       "      <td>[('Rated 4.0', 'RATED\\n  A beautiful place to ...</td>\n",
       "      <td>[]</td>\n",
       "      <td>Buffet</td>\n",
       "      <td>Banashankari</td>\n",
       "      <td>Quick Bites+Casual Dining</td>\n",
       "      <td>1</td>\n",
       "      <td>1</td>\n",
       "    </tr>\n",
       "    <tr>\n",
       "      <th>1</th>\n",
       "      <td>https://www.zomato.com/bangalore/spice-elephan...</td>\n",
       "      <td>2nd Floor, 80 Feet Road, Near Big Bazaar, 6th ...</td>\n",
       "      <td>Spice Elephant</td>\n",
       "      <td>Yes</td>\n",
       "      <td>No</td>\n",
       "      <td>4.1</td>\n",
       "      <td>787</td>\n",
       "      <td>080 41714161</td>\n",
       "      <td>Banashankari</td>\n",
       "      <td>Casual Dining</td>\n",
       "      <td>Momos, Lunch Buffet, Chocolate Nirvana, Thai G...</td>\n",
       "      <td>Chinese, North Indian, Thai</td>\n",
       "      <td>800.0</td>\n",
       "      <td>[('Rated 4.0', 'RATED\\n  Had been here for din...</td>\n",
       "      <td>[]</td>\n",
       "      <td>Buffet</td>\n",
       "      <td>Banashankari</td>\n",
       "      <td>Quick Bites+Casual Dining</td>\n",
       "      <td>1</td>\n",
       "      <td>1</td>\n",
       "    </tr>\n",
       "    <tr>\n",
       "      <th>2</th>\n",
       "      <td>https://www.zomato.com/SanchurroBangalore?cont...</td>\n",
       "      <td>1112, Next to KIMS Medical College, 17th Cross...</td>\n",
       "      <td>San Churro Cafe</td>\n",
       "      <td>Yes</td>\n",
       "      <td>No</td>\n",
       "      <td>3.8</td>\n",
       "      <td>918</td>\n",
       "      <td>+91 9663487993</td>\n",
       "      <td>Banashankari</td>\n",
       "      <td>Cafe, Casual Dining</td>\n",
       "      <td>Churros, Cannelloni, Minestrone Soup, Hot Choc...</td>\n",
       "      <td>Cafe, Mexican, Italian</td>\n",
       "      <td>800.0</td>\n",
       "      <td>[('Rated 3.0', \"RATED\\n  Ambience is not that ...</td>\n",
       "      <td>[]</td>\n",
       "      <td>Buffet</td>\n",
       "      <td>Banashankari</td>\n",
       "      <td>other</td>\n",
       "      <td>1</td>\n",
       "      <td>1</td>\n",
       "    </tr>\n",
       "    <tr>\n",
       "      <th>3</th>\n",
       "      <td>https://www.zomato.com/bangalore/addhuri-udupi...</td>\n",
       "      <td>1st Floor, Annakuteera, 3rd Stage, Banashankar...</td>\n",
       "      <td>Addhuri Udupi Bhojana</td>\n",
       "      <td>No</td>\n",
       "      <td>No</td>\n",
       "      <td>3.7</td>\n",
       "      <td>88</td>\n",
       "      <td>+91 9620009302</td>\n",
       "      <td>Banashankari</td>\n",
       "      <td>Quick Bites</td>\n",
       "      <td>Masala Dosa</td>\n",
       "      <td>South Indian, North Indian</td>\n",
       "      <td>300.0</td>\n",
       "      <td>[('Rated 4.0', \"RATED\\n  Great food and proper...</td>\n",
       "      <td>[]</td>\n",
       "      <td>Buffet</td>\n",
       "      <td>Banashankari</td>\n",
       "      <td>Quick Bites+Casual Dining</td>\n",
       "      <td>1</td>\n",
       "      <td>0</td>\n",
       "    </tr>\n",
       "    <tr>\n",
       "      <th>4</th>\n",
       "      <td>https://www.zomato.com/bangalore/grand-village...</td>\n",
       "      <td>10, 3rd Floor, Lakshmi Associates, Gandhi Baza...</td>\n",
       "      <td>Grand Village</td>\n",
       "      <td>No</td>\n",
       "      <td>No</td>\n",
       "      <td>3.8</td>\n",
       "      <td>166</td>\n",
       "      <td>+91 8026612447\\r\\n+91 9901210005</td>\n",
       "      <td>Basavanagudi</td>\n",
       "      <td>Casual Dining</td>\n",
       "      <td>Panipuri, Gol Gappe</td>\n",
       "      <td>North Indian, Rajasthani</td>\n",
       "      <td>600.0</td>\n",
       "      <td>[('Rated 4.0', 'RATED\\n  Very good restaurant ...</td>\n",
       "      <td>[]</td>\n",
       "      <td>Buffet</td>\n",
       "      <td>Banashankari</td>\n",
       "      <td>Quick Bites+Casual Dining</td>\n",
       "      <td>1</td>\n",
       "      <td>1</td>\n",
       "    </tr>\n",
       "  </tbody>\n",
       "</table>\n",
       "</div>"
      ],
      "text/plain": [
       "                                                 url  \\\n",
       "0  https://www.zomato.com/bangalore/jalsa-banasha...   \n",
       "1  https://www.zomato.com/bangalore/spice-elephan...   \n",
       "2  https://www.zomato.com/SanchurroBangalore?cont...   \n",
       "3  https://www.zomato.com/bangalore/addhuri-udupi...   \n",
       "4  https://www.zomato.com/bangalore/grand-village...   \n",
       "\n",
       "                                             address                   name  \\\n",
       "0  942, 21st Main Road, 2nd Stage, Banashankari, ...                  Jalsa   \n",
       "1  2nd Floor, 80 Feet Road, Near Big Bazaar, 6th ...         Spice Elephant   \n",
       "2  1112, Next to KIMS Medical College, 17th Cross...        San Churro Cafe   \n",
       "3  1st Floor, Annakuteera, 3rd Stage, Banashankar...  Addhuri Udupi Bhojana   \n",
       "4  10, 3rd Floor, Lakshmi Associates, Gandhi Baza...          Grand Village   \n",
       "\n",
       "  online_order book_table  rate  votes                             phone  \\\n",
       "0          Yes        Yes   4.1    775    080 42297555\\r\\n+91 9743772233   \n",
       "1          Yes         No   4.1    787                      080 41714161   \n",
       "2          Yes         No   3.8    918                    +91 9663487993   \n",
       "3           No         No   3.7     88                    +91 9620009302   \n",
       "4           No         No   3.8    166  +91 8026612447\\r\\n+91 9901210005   \n",
       "\n",
       "       location            rest_type  \\\n",
       "0  Banashankari        Casual Dining   \n",
       "1  Banashankari        Casual Dining   \n",
       "2  Banashankari  Cafe, Casual Dining   \n",
       "3  Banashankari          Quick Bites   \n",
       "4  Basavanagudi        Casual Dining   \n",
       "\n",
       "                                          dish_liked  \\\n",
       "0  Pasta, Lunch Buffet, Masala Papad, Paneer Laja...   \n",
       "1  Momos, Lunch Buffet, Chocolate Nirvana, Thai G...   \n",
       "2  Churros, Cannelloni, Minestrone Soup, Hot Choc...   \n",
       "3                                        Masala Dosa   \n",
       "4                                Panipuri, Gol Gappe   \n",
       "\n",
       "                         cuisines  approx_cost(for two people)  \\\n",
       "0  North Indian, Mughlai, Chinese                        800.0   \n",
       "1     Chinese, North Indian, Thai                        800.0   \n",
       "2          Cafe, Mexican, Italian                        800.0   \n",
       "3      South Indian, North Indian                        300.0   \n",
       "4        North Indian, Rajasthani                        600.0   \n",
       "\n",
       "                                        reviews_list menu_item  \\\n",
       "0  [('Rated 4.0', 'RATED\\n  A beautiful place to ...        []   \n",
       "1  [('Rated 4.0', 'RATED\\n  Had been here for din...        []   \n",
       "2  [('Rated 3.0', \"RATED\\n  Ambience is not that ...        []   \n",
       "3  [('Rated 4.0', \"RATED\\n  Great food and proper...        []   \n",
       "4  [('Rated 4.0', 'RATED\\n  Very good restaurant ...        []   \n",
       "\n",
       "  listed_in(type) listed_in(city)                  Top types  rated  target  \n",
       "0          Buffet    Banashankari  Quick Bites+Casual Dining      1       1  \n",
       "1          Buffet    Banashankari  Quick Bites+Casual Dining      1       1  \n",
       "2          Buffet    Banashankari                      other      1       1  \n",
       "3          Buffet    Banashankari  Quick Bites+Casual Dining      1       0  \n",
       "4          Buffet    Banashankari  Quick Bites+Casual Dining      1       1  "
      ]
     },
     "execution_count": 103,
     "metadata": {},
     "output_type": "execute_result"
    }
   ],
   "source": [
    "train_val_restaurent.head()"
   ]
  },
  {
   "cell_type": "code",
   "execution_count": 104,
   "metadata": {},
   "outputs": [],
   "source": [
    "h=train_val_restaurent['target'].value_counts()"
   ]
  },
  {
   "cell_type": "code",
   "execution_count": 105,
   "metadata": {},
   "outputs": [
    {
     "data": {
      "image/png": "[encoded data removed]",
      "text/plain": [
       "<Figure size 432x288 with 1 Axes>"
      ]
     },
     "metadata": {},
     "output_type": "display_data"
    }
   ],
   "source": [
    "plt.pie(h,labels=[0,1],autopct='%1.2f%%')\n",
    "plt.show()"
   ]
  },
  {
   "cell_type": "code",
   "execution_count": 106,
   "metadata": {},
   "outputs": [
    {
     "data": {
      "text/plain": [
       "Index(['url', 'address', 'name', 'online_order', 'book_table', 'rate', 'votes',\n",
       "       'phone', 'location', 'rest_type', 'dish_liked', 'cuisines',\n",
       "       'approx_cost(for two people)', 'reviews_list', 'menu_item',\n",
       "       'listed_in(type)', 'listed_in(city)', 'Top types', 'rated', 'target'],\n",
       "      dtype='object')"
      ]
     },
     "execution_count": 106,
     "metadata": {},
     "output_type": "execute_result"
    }
   ],
   "source": [
    "train_val_restaurent.columns"
   ]
  },
  {
   "cell_type": "code",
   "execution_count": 107,
   "metadata": {},
   "outputs": [],
   "source": [
    "def count(x):\n",
    "    return len(x.split(','))"
   ]
  },
  {
   "cell_type": "code",
   "execution_count": 108,
   "metadata": {},
   "outputs": [],
   "source": [
    "train_val_restaurent['total_cuisines']=train_val_restaurent['cuisines'].astype(str).apply(count)\n",
    "train_val_restaurent['total_rest_type']=train_val_restaurent['rest_type'].astype(str).apply(count)"
   ]
  },
  {
   "cell_type": "code",
   "execution_count": 109,
   "metadata": {},
   "outputs": [
    {
     "data": {
      "text/html": [
       "<div>\n",
       "<style scoped>\n",
       "    .dataframe tbody tr th:only-of-type {\n",
       "        vertical-align: middle;\n",
       "    }\n",
       "\n",
       "    .dataframe tbody tr th {\n",
       "        vertical-align: top;\n",
       "    }\n",
       "\n",
       "    .dataframe thead th {\n",
       "        text-align: right;\n",
       "    }\n",
       "</style>\n",
       "<table border=\"1\" class=\"dataframe\">\n",
       "  <thead>\n",
       "    <tr style=\"text-align: right;\">\n",
       "      <th></th>\n",
       "      <th>url</th>\n",
       "      <th>address</th>\n",
       "      <th>name</th>\n",
       "      <th>online_order</th>\n",
       "      <th>book_table</th>\n",
       "      <th>rate</th>\n",
       "      <th>votes</th>\n",
       "      <th>phone</th>\n",
       "      <th>location</th>\n",
       "      <th>rest_type</th>\n",
       "      <th>...</th>\n",
       "      <th>approx_cost(for two people)</th>\n",
       "      <th>reviews_list</th>\n",
       "      <th>menu_item</th>\n",
       "      <th>listed_in(type)</th>\n",
       "      <th>listed_in(city)</th>\n",
       "      <th>Top types</th>\n",
       "      <th>rated</th>\n",
       "      <th>target</th>\n",
       "      <th>total_cuisines</th>\n",
       "      <th>total_rest_type</th>\n",
       "    </tr>\n",
       "  </thead>\n",
       "  <tbody>\n",
       "    <tr>\n",
       "      <th>0</th>\n",
       "      <td>https://www.zomato.com/bangalore/jalsa-banasha...</td>\n",
       "      <td>942, 21st Main Road, 2nd Stage, Banashankari, ...</td>\n",
       "      <td>Jalsa</td>\n",
       "      <td>Yes</td>\n",
       "      <td>Yes</td>\n",
       "      <td>4.1</td>\n",
       "      <td>775</td>\n",
       "      <td>080 42297555\\r\\n+91 9743772233</td>\n",
       "      <td>Banashankari</td>\n",
       "      <td>Casual Dining</td>\n",
       "      <td>...</td>\n",
       "      <td>800.0</td>\n",
       "      <td>[('Rated 4.0', 'RATED\\n  A beautiful place to ...</td>\n",
       "      <td>[]</td>\n",
       "      <td>Buffet</td>\n",
       "      <td>Banashankari</td>\n",
       "      <td>Quick Bites+Casual Dining</td>\n",
       "      <td>1</td>\n",
       "      <td>1</td>\n",
       "      <td>3</td>\n",
       "      <td>1</td>\n",
       "    </tr>\n",
       "    <tr>\n",
       "      <th>1</th>\n",
       "      <td>https://www.zomato.com/bangalore/spice-elephan...</td>\n",
       "      <td>2nd Floor, 80 Feet Road, Near Big Bazaar, 6th ...</td>\n",
       "      <td>Spice Elephant</td>\n",
       "      <td>Yes</td>\n",
       "      <td>No</td>\n",
       "      <td>4.1</td>\n",
       "      <td>787</td>\n",
       "      <td>080 41714161</td>\n",
       "      <td>Banashankari</td>\n",
       "      <td>Casual Dining</td>\n",
       "      <td>...</td>\n",
       "      <td>800.0</td>\n",
       "      <td>[('Rated 4.0', 'RATED\\n  Had been here for din...</td>\n",
       "      <td>[]</td>\n",
       "      <td>Buffet</td>\n",
       "      <td>Banashankari</td>\n",
       "      <td>Quick Bites+Casual Dining</td>\n",
       "      <td>1</td>\n",
       "      <td>1</td>\n",
       "      <td>3</td>\n",
       "      <td>1</td>\n",
       "    </tr>\n",
       "    <tr>\n",
       "      <th>2</th>\n",
       "      <td>https://www.zomato.com/SanchurroBangalore?cont...</td>\n",
       "      <td>1112, Next to KIMS Medical College, 17th Cross...</td>\n",
       "      <td>San Churro Cafe</td>\n",
       "      <td>Yes</td>\n",
       "      <td>No</td>\n",
       "      <td>3.8</td>\n",
       "      <td>918</td>\n",
       "      <td>+91 9663487993</td>\n",
       "      <td>Banashankari</td>\n",
       "      <td>Cafe, Casual Dining</td>\n",
       "      <td>...</td>\n",
       "      <td>800.0</td>\n",
       "      <td>[('Rated 3.0', \"RATED\\n  Ambience is not that ...</td>\n",
       "      <td>[]</td>\n",
       "      <td>Buffet</td>\n",
       "      <td>Banashankari</td>\n",
       "      <td>other</td>\n",
       "      <td>1</td>\n",
       "      <td>1</td>\n",
       "      <td>3</td>\n",
       "      <td>2</td>\n",
       "    </tr>\n",
       "    <tr>\n",
       "      <th>3</th>\n",
       "      <td>https://www.zomato.com/bangalore/addhuri-udupi...</td>\n",
       "      <td>1st Floor, Annakuteera, 3rd Stage, Banashankar...</td>\n",
       "      <td>Addhuri Udupi Bhojana</td>\n",
       "      <td>No</td>\n",
       "      <td>No</td>\n",
       "      <td>3.7</td>\n",
       "      <td>88</td>\n",
       "      <td>+91 9620009302</td>\n",
       "      <td>Banashankari</td>\n",
       "      <td>Quick Bites</td>\n",
       "      <td>...</td>\n",
       "      <td>300.0</td>\n",
       "      <td>[('Rated 4.0', \"RATED\\n  Great food and proper...</td>\n",
       "      <td>[]</td>\n",
       "      <td>Buffet</td>\n",
       "      <td>Banashankari</td>\n",
       "      <td>Quick Bites+Casual Dining</td>\n",
       "      <td>1</td>\n",
       "      <td>0</td>\n",
       "      <td>2</td>\n",
       "      <td>1</td>\n",
       "    </tr>\n",
       "    <tr>\n",
       "      <th>4</th>\n",
       "      <td>https://www.zomato.com/bangalore/grand-village...</td>\n",
       "      <td>10, 3rd Floor, Lakshmi Associates, Gandhi Baza...</td>\n",
       "      <td>Grand Village</td>\n",
       "      <td>No</td>\n",
       "      <td>No</td>\n",
       "      <td>3.8</td>\n",
       "      <td>166</td>\n",
       "      <td>+91 8026612447\\r\\n+91 9901210005</td>\n",
       "      <td>Basavanagudi</td>\n",
       "      <td>Casual Dining</td>\n",
       "      <td>...</td>\n",
       "      <td>600.0</td>\n",
       "      <td>[('Rated 4.0', 'RATED\\n  Very good restaurant ...</td>\n",
       "      <td>[]</td>\n",
       "      <td>Buffet</td>\n",
       "      <td>Banashankari</td>\n",
       "      <td>Quick Bites+Casual Dining</td>\n",
       "      <td>1</td>\n",
       "      <td>1</td>\n",
       "      <td>2</td>\n",
       "      <td>1</td>\n",
       "    </tr>\n",
       "  </tbody>\n",
       "</table>\n",
       "<p>5 rows × 22 columns</p>\n",
       "</div>"
      ],
      "text/plain": [
       "                                                 url  \\\n",
       "0  https://www.zomato.com/bangalore/jalsa-banasha...   \n",
       "1  https://www.zomato.com/bangalore/spice-elephan...   \n",
       "2  https://www.zomato.com/SanchurroBangalore?cont...   \n",
       "3  https://www.zomato.com/bangalore/addhuri-udupi...   \n",
       "4  https://www.zomato.com/bangalore/grand-village...   \n",
       "\n",
       "                                             address                   name  \\\n",
       "0  942, 21st Main Road, 2nd Stage, Banashankari, ...                  Jalsa   \n",
       "1  2nd Floor, 80 Feet Road, Near Big Bazaar, 6th ...         Spice Elephant   \n",
       "2  1112, Next to KIMS Medical College, 17th Cross...        San Churro Cafe   \n",
       "3  1st Floor, Annakuteera, 3rd Stage, Banashankar...  Addhuri Udupi Bhojana   \n",
       "4  10, 3rd Floor, Lakshmi Associates, Gandhi Baza...          Grand Village   \n",
       "\n",
       "  online_order book_table  rate  votes                             phone  \\\n",
       "0          Yes        Yes   4.1    775    080 42297555\\r\\n+91 9743772233   \n",
       "1          Yes         No   4.1    787                      080 41714161   \n",
       "2          Yes         No   3.8    918                    +91 9663487993   \n",
       "3           No         No   3.7     88                    +91 9620009302   \n",
       "4           No         No   3.8    166  +91 8026612447\\r\\n+91 9901210005   \n",
       "\n",
       "       location            rest_type  ... approx_cost(for two people)  \\\n",
       "0  Banashankari        Casual Dining  ...                       800.0   \n",
       "1  Banashankari        Casual Dining  ...                       800.0   \n",
       "2  Banashankari  Cafe, Casual Dining  ...                       800.0   \n",
       "3  Banashankari          Quick Bites  ...                       300.0   \n",
       "4  Basavanagudi        Casual Dining  ...                       600.0   \n",
       "\n",
       "                                        reviews_list  menu_item  \\\n",
       "0  [('Rated 4.0', 'RATED\\n  A beautiful place to ...         []   \n",
       "1  [('Rated 4.0', 'RATED\\n  Had been here for din...         []   \n",
       "2  [('Rated 3.0', \"RATED\\n  Ambience is not that ...         []   \n",
       "3  [('Rated 4.0', \"RATED\\n  Great food and proper...         []   \n",
       "4  [('Rated 4.0', 'RATED\\n  Very good restaurant ...         []   \n",
       "\n",
       "  listed_in(type) listed_in(city)                  Top types rated target  \\\n",
       "0          Buffet    Banashankari  Quick Bites+Casual Dining     1      1   \n",
       "1          Buffet    Banashankari  Quick Bites+Casual Dining     1      1   \n",
       "2          Buffet    Banashankari                      other     1      1   \n",
       "3          Buffet    Banashankari  Quick Bites+Casual Dining     1      0   \n",
       "4          Buffet    Banashankari  Quick Bites+Casual Dining     1      1   \n",
       "\n",
       "   total_cuisines  total_rest_type  \n",
       "0               3                1  \n",
       "1               3                1  \n",
       "2               3                2  \n",
       "3               2                1  \n",
       "4               2                1  \n",
       "\n",
       "[5 rows x 22 columns]"
      ]
     },
     "execution_count": 109,
     "metadata": {},
     "output_type": "execute_result"
    }
   ],
   "source": [
    "train_val_restaurent.head()"
   ]
  },
  {
   "cell_type": "code",
   "execution_count": 110,
   "metadata": {},
   "outputs": [],
   "source": [
    "imp_feature=[ 'online_order', 'book_table', 'location', 'rest_type','approx_cost(for two people)', 'listed_in(type)',\n",
    "             'listed_in(city)','target','total_cuisines', 'total_rest_type']"
   ]
  },
  {
   "cell_type": "code",
   "execution_count": 111,
   "metadata": {},
   "outputs": [],
   "source": [
    "data1=train_val_restaurent[imp_feature]"
   ]
  },
  {
   "cell_type": "code",
   "execution_count": 112,
   "metadata": {},
   "outputs": [
    {
     "data": {
      "text/html": [
       "<div>\n",
       "<style scoped>\n",
       "    .dataframe tbody tr th:only-of-type {\n",
       "        vertical-align: middle;\n",
       "    }\n",
       "\n",
       "    .dataframe tbody tr th {\n",
       "        vertical-align: top;\n",
       "    }\n",
       "\n",
       "    .dataframe thead th {\n",
       "        text-align: right;\n",
       "    }\n",
       "</style>\n",
       "<table border=\"1\" class=\"dataframe\">\n",
       "  <thead>\n",
       "    <tr style=\"text-align: right;\">\n",
       "      <th></th>\n",
       "      <th>online_order</th>\n",
       "      <th>book_table</th>\n",
       "      <th>location</th>\n",
       "      <th>rest_type</th>\n",
       "      <th>approx_cost(for two people)</th>\n",
       "      <th>listed_in(type)</th>\n",
       "      <th>listed_in(city)</th>\n",
       "      <th>target</th>\n",
       "      <th>total_cuisines</th>\n",
       "      <th>total_rest_type</th>\n",
       "    </tr>\n",
       "  </thead>\n",
       "  <tbody>\n",
       "    <tr>\n",
       "      <th>0</th>\n",
       "      <td>Yes</td>\n",
       "      <td>Yes</td>\n",
       "      <td>Banashankari</td>\n",
       "      <td>Casual Dining</td>\n",
       "      <td>800.0</td>\n",
       "      <td>Buffet</td>\n",
       "      <td>Banashankari</td>\n",
       "      <td>1</td>\n",
       "      <td>3</td>\n",
       "      <td>1</td>\n",
       "    </tr>\n",
       "    <tr>\n",
       "      <th>1</th>\n",
       "      <td>Yes</td>\n",
       "      <td>No</td>\n",
       "      <td>Banashankari</td>\n",
       "      <td>Casual Dining</td>\n",
       "      <td>800.0</td>\n",
       "      <td>Buffet</td>\n",
       "      <td>Banashankari</td>\n",
       "      <td>1</td>\n",
       "      <td>3</td>\n",
       "      <td>1</td>\n",
       "    </tr>\n",
       "    <tr>\n",
       "      <th>2</th>\n",
       "      <td>Yes</td>\n",
       "      <td>No</td>\n",
       "      <td>Banashankari</td>\n",
       "      <td>Cafe, Casual Dining</td>\n",
       "      <td>800.0</td>\n",
       "      <td>Buffet</td>\n",
       "      <td>Banashankari</td>\n",
       "      <td>1</td>\n",
       "      <td>3</td>\n",
       "      <td>2</td>\n",
       "    </tr>\n",
       "    <tr>\n",
       "      <th>3</th>\n",
       "      <td>No</td>\n",
       "      <td>No</td>\n",
       "      <td>Banashankari</td>\n",
       "      <td>Quick Bites</td>\n",
       "      <td>300.0</td>\n",
       "      <td>Buffet</td>\n",
       "      <td>Banashankari</td>\n",
       "      <td>0</td>\n",
       "      <td>2</td>\n",
       "      <td>1</td>\n",
       "    </tr>\n",
       "    <tr>\n",
       "      <th>4</th>\n",
       "      <td>No</td>\n",
       "      <td>No</td>\n",
       "      <td>Basavanagudi</td>\n",
       "      <td>Casual Dining</td>\n",
       "      <td>600.0</td>\n",
       "      <td>Buffet</td>\n",
       "      <td>Banashankari</td>\n",
       "      <td>1</td>\n",
       "      <td>2</td>\n",
       "      <td>1</td>\n",
       "    </tr>\n",
       "  </tbody>\n",
       "</table>\n",
       "</div>"
      ],
      "text/plain": [
       "  online_order book_table      location            rest_type  \\\n",
       "0          Yes        Yes  Banashankari        Casual Dining   \n",
       "1          Yes         No  Banashankari        Casual Dining   \n",
       "2          Yes         No  Banashankari  Cafe, Casual Dining   \n",
       "3           No         No  Banashankari          Quick Bites   \n",
       "4           No         No  Basavanagudi        Casual Dining   \n",
       "\n",
       "   approx_cost(for two people) listed_in(type) listed_in(city)  target  \\\n",
       "0                        800.0          Buffet    Banashankari       1   \n",
       "1                        800.0          Buffet    Banashankari       1   \n",
       "2                        800.0          Buffet    Banashankari       1   \n",
       "3                        300.0          Buffet    Banashankari       0   \n",
       "4                        600.0          Buffet    Banashankari       1   \n",
       "\n",
       "   total_cuisines  total_rest_type  \n",
       "0               3                1  \n",
       "1               3                1  \n",
       "2               3                2  \n",
       "3               2                1  \n",
       "4               2                1  "
      ]
     },
     "execution_count": 112,
     "metadata": {},
     "output_type": "execute_result"
    }
   ],
   "source": [
    "data1.head()"
   ]
  },
  {
   "cell_type": "code",
   "execution_count": 113,
   "metadata": {},
   "outputs": [
    {
     "data": {
      "text/plain": [
       "(41665, 10)"
      ]
     },
     "execution_count": 113,
     "metadata": {},
     "output_type": "execute_result"
    }
   ],
   "source": [
    "data1.shape"
   ]
  },
  {
   "cell_type": "code",
   "execution_count": 114,
   "metadata": {},
   "outputs": [
    {
     "data": {
      "text/plain": [
       "online_order                     0\n",
       "book_table                       0\n",
       "location                         0\n",
       "rest_type                      149\n",
       "approx_cost(for two people)    247\n",
       "listed_in(type)                  0\n",
       "listed_in(city)                  0\n",
       "target                           0\n",
       "total_cuisines                   0\n",
       "total_rest_type                  0\n",
       "dtype: int64"
      ]
     },
     "execution_count": 114,
     "metadata": {},
     "output_type": "execute_result"
    }
   ],
   "source": [
    "data1.isnull().sum()"
   ]
  },
  {
   "cell_type": "code",
   "execution_count": 115,
   "metadata": {},
   "outputs": [],
   "source": [
    "data1.dropna(how='any',inplace=True)"
   ]
  },
  {
   "cell_type": "code",
   "execution_count": 116,
   "metadata": {},
   "outputs": [
    {
     "data": {
      "text/plain": [
       "(41271, 10)"
      ]
     },
     "execution_count": 116,
     "metadata": {},
     "output_type": "execute_result"
    }
   ],
   "source": [
    "data1.shape"
   ]
  },
  {
   "cell_type": "code",
   "execution_count": 117,
   "metadata": {},
   "outputs": [],
   "source": [
    "cat_feature=[col for col in data1.columns if data1[col].dtype=='O']\n",
    "num_feature=[col for col in data1.columns if data1[col].dtype!='O']"
   ]
  },
  {
   "cell_type": "code",
   "execution_count": 118,
   "metadata": {},
   "outputs": [
    {
     "data": {
      "text/plain": [
       "['online_order',\n",
       " 'book_table',\n",
       " 'location',\n",
       " 'rest_type',\n",
       " 'listed_in(type)',\n",
       " 'listed_in(city)']"
      ]
     },
     "execution_count": 118,
     "metadata": {},
     "output_type": "execute_result"
    }
   ],
   "source": [
    "cat_feature"
   ]
  },
  {
   "cell_type": "code",
   "execution_count": 119,
   "metadata": {},
   "outputs": [
    {
     "data": {
      "text/plain": [
       "['approx_cost(for two people)', 'target', 'total_cuisines', 'total_rest_type']"
      ]
     },
     "execution_count": 119,
     "metadata": {},
     "output_type": "execute_result"
    }
   ],
   "source": [
    "num_feature"
   ]
  },
  {
   "cell_type": "code",
   "execution_count": 120,
   "metadata": {},
   "outputs": [
    {
     "name": "stdout",
     "output_type": "stream",
     "text": [
      "online_order has total 2 unique feature\n",
      "book_table has total 2 unique feature\n",
      "location has total 92 unique feature\n",
      "rest_type has total 87 unique feature\n",
      "listed_in(type) has total 7 unique feature\n",
      "listed_in(city) has total 30 unique feature\n"
     ]
    }
   ],
   "source": [
    "for feature in cat_feature:\n",
    "    print('{} has total {} unique feature'.format(feature,data1[feature].nunique()))"
   ]
  },
  {
   "cell_type": "code",
   "execution_count": 121,
   "metadata": {},
   "outputs": [
    {
     "data": {
      "text/plain": [
       "BTM                      9.398851\n",
       "Koramangala 5th Block    5.565651\n",
       "HSR                      4.829057\n",
       "Indiranagar              4.361416\n",
       "JP Nagar                 4.143345\n",
       "                           ...   \n",
       "Yelahanka                0.009692\n",
       "West Bangalore           0.007269\n",
       "Rajarajeshwari Nagar     0.004846\n",
       "Peenya                   0.002423\n",
       "Nagarbhavi               0.002423\n",
       "Name: location, Length: 92, dtype: float64"
      ]
     },
     "execution_count": 121,
     "metadata": {},
     "output_type": "execute_result"
    }
   ],
   "source": [
    "value=(data1['location'].value_counts()/len(data1))*100\n",
    "value"
   ]
  },
  {
   "cell_type": "code",
   "execution_count": 122,
   "metadata": {},
   "outputs": [
    {
     "data": {
      "text/plain": [
       "BTM                      9.398851\n",
       "Koramangala 5th Block    5.565651\n",
       "HSR                      4.829057\n",
       "Indiranagar              4.361416\n",
       "JP Nagar                 4.143345\n",
       "Jayanagar                3.959197\n",
       "Whitefield               3.808970\n",
       "Marathahalli             3.416443\n",
       "Bannerghatta Road        2.970609\n",
       "Koramangala 7th Block    2.556274\n",
       "Koramangala 6th Block    2.553851\n",
       "Brigade Road             2.549005\n",
       "Bellandur                2.415740\n",
       "Sarjapur Road            2.069250\n",
       "Koramangala 1st Block    2.064404\n",
       "Ulsoor                   2.057135\n",
       "Koramangala 4th Block    2.037750\n",
       "Electronic City          2.020789\n",
       "MG Road                  1.921446\n",
       "Banashankari             1.802719\n",
       "Kalyan Nagar             1.681568\n",
       "Malleshwaram             1.553149\n",
       "Richmond Road            1.463497\n",
       "Residency Road           1.463497\n",
       "Basavanagudi             1.441690\n",
       "Frazer Town              1.371423\n",
       "Church Street            1.322963\n",
       "Brookefield              1.315694\n",
       "New BEL Road             1.226042\n",
       "Kammanahalli             1.194543\n",
       "Lavelle Road             1.165467\n",
       "Cunningham Road          1.150929\n",
       "Banaswadi                1.133968\n",
       "Rajajinagar              1.117007\n",
       "Domlur                   0.983742\n",
       "Shanti Nagar             0.891667\n",
       "Old Airport Road         0.855322\n",
       "St. Marks Road           0.831092\n",
       "Shivajinagar             0.671173\n",
       "Commercial Street        0.654212\n",
       "Ejipura                  0.620290\n",
       "Jeevan Bhima Nagar       0.598483\n",
       "Vasanth Nagar            0.593637\n",
       "Koramangala 8th Block    0.513678\n",
       "Koramangala 3rd Block    0.462795\n",
       "Wilson Garden            0.453103\n",
       "Name: location, dtype: float64"
      ]
     },
     "execution_count": 122,
     "metadata": {},
     "output_type": "execute_result"
    }
   ],
   "source": [
    "ther=0.4\n",
    "imp=value[value>ther]\n",
    "imp"
   ]
  },
  {
   "cell_type": "code",
   "execution_count": 123,
   "metadata": {},
   "outputs": [],
   "source": [
    "data1['location']=data1['location'].apply(lambda x:'other' if x not in imp.index else x)"
   ]
  },
  {
   "cell_type": "code",
   "execution_count": 124,
   "metadata": {},
   "outputs": [
    {
     "data": {
      "text/plain": [
       "47"
      ]
     },
     "execution_count": 124,
     "metadata": {},
     "output_type": "execute_result"
    }
   ],
   "source": [
    "data1['location'].nunique()"
   ]
  },
  {
   "cell_type": "code",
   "execution_count": 125,
   "metadata": {},
   "outputs": [
    {
     "data": {
      "text/plain": [
       "Quick Bites                   33.643478\n",
       "Casual Dining                 23.299654\n",
       "Cafe                           8.163117\n",
       "Dessert Parlor                 4.482566\n",
       "Delivery                       4.048848\n",
       "                                ...    \n",
       "Food Court, Beverage Shop      0.004846\n",
       "Dessert Parlor, Food Court     0.004846\n",
       "Bakery, Food Court             0.004846\n",
       "Bakery, Beverage Shop          0.002423\n",
       "Quick Bites, Kiosk             0.002423\n",
       "Name: rest_type, Length: 87, dtype: float64"
      ]
     },
     "execution_count": 125,
     "metadata": {},
     "output_type": "execute_result"
    }
   ],
   "source": [
    "value1=(data1['rest_type'].value_counts()/len(data1))*100\n",
    "value1"
   ]
  },
  {
   "cell_type": "code",
   "execution_count": 126,
   "metadata": {},
   "outputs": [
    {
     "data": {
      "text/plain": [
       "Quick Bites           33.643478\n",
       "Casual Dining         23.299654\n",
       "Cafe                   8.163117\n",
       "Dessert Parlor         4.482566\n",
       "Delivery               4.048848\n",
       "Takeaway, Delivery     3.099028\n",
       "Casual Dining, Bar     2.645926\n",
       "Bakery                 1.705798\n",
       "Beverage Shop          1.555572\n",
       "Bar                    1.550726\n",
       "Name: rest_type, dtype: float64"
      ]
     },
     "execution_count": 126,
     "metadata": {},
     "output_type": "execute_result"
    }
   ],
   "source": [
    "ther=1.5\n",
    "imp1=value1[value1>ther]\n",
    "imp1"
   ]
  },
  {
   "cell_type": "code",
   "execution_count": 127,
   "metadata": {},
   "outputs": [],
   "source": [
    "data1['rest_type']=data1['rest_type'].apply(lambda x:'other' if x not in imp1.index else x)"
   ]
  },
  {
   "cell_type": "code",
   "execution_count": 128,
   "metadata": {},
   "outputs": [],
   "source": [
    "#data1['rest_type'].head(20)"
   ]
  },
  {
   "cell_type": "code",
   "execution_count": 129,
   "metadata": {},
   "outputs": [],
   "source": [
    "data_cat=data1[cat_feature]"
   ]
  },
  {
   "cell_type": "code",
   "execution_count": 130,
   "metadata": {},
   "outputs": [
    {
     "data": {
      "text/plain": [
       "47"
      ]
     },
     "execution_count": 130,
     "metadata": {},
     "output_type": "execute_result"
    }
   ],
   "source": [
    "data_cat['location'].nunique()"
   ]
  },
  {
   "cell_type": "code",
   "execution_count": 131,
   "metadata": {},
   "outputs": [],
   "source": [
    "for col in cat_feature:\n",
    "    col_encoded=pd.get_dummies(data_cat[col],prefix=col,drop_first=True)\n",
    "    data_cat=pd.concat([data_cat,col_encoded],axis=1)\n",
    "    data_cat.drop(col,axis=1,inplace=True)"
   ]
  },
  {
   "cell_type": "code",
   "execution_count": 132,
   "metadata": {},
   "outputs": [
    {
     "data": {
      "text/plain": [
       "(41271, 93)"
      ]
     },
     "execution_count": 132,
     "metadata": {},
     "output_type": "execute_result"
    }
   ],
   "source": [
    "data_cat.shape"
   ]
  },
  {
   "cell_type": "code",
   "execution_count": 133,
   "metadata": {},
   "outputs": [],
   "source": [
    "#data_cat.head()"
   ]
  },
  {
   "cell_type": "code",
   "execution_count": 134,
   "metadata": {},
   "outputs": [
    {
     "data": {
      "text/plain": [
       "['approx_cost(for two people)', 'target', 'total_cuisines', 'total_rest_type']"
      ]
     },
     "execution_count": 134,
     "metadata": {},
     "output_type": "execute_result"
    }
   ],
   "source": [
    "num_feature"
   ]
  },
  {
   "cell_type": "code",
   "execution_count": 135,
   "metadata": {},
   "outputs": [],
   "source": [
    "data_final=pd.concat([data1.loc[:,['approx_cost(for two people)', 'target', 'total_cuisines', 'total_rest_type']],data_cat],axis=1)"
   ]
  },
  {
   "cell_type": "code",
   "execution_count": 136,
   "metadata": {},
   "outputs": [
    {
     "data": {
      "text/html": [
       "<div>\n",
       "<style scoped>\n",
       "    .dataframe tbody tr th:only-of-type {\n",
       "        vertical-align: middle;\n",
       "    }\n",
       "\n",
       "    .dataframe tbody tr th {\n",
       "        vertical-align: top;\n",
       "    }\n",
       "\n",
       "    .dataframe thead th {\n",
       "        text-align: right;\n",
       "    }\n",
       "</style>\n",
       "<table border=\"1\" class=\"dataframe\">\n",
       "  <thead>\n",
       "    <tr style=\"text-align: right;\">\n",
       "      <th></th>\n",
       "      <th>approx_cost(for two people)</th>\n",
       "      <th>target</th>\n",
       "      <th>total_cuisines</th>\n",
       "      <th>total_rest_type</th>\n",
       "      <th>online_order_Yes</th>\n",
       "      <th>book_table_Yes</th>\n",
       "      <th>location_Banashankari</th>\n",
       "      <th>location_Banaswadi</th>\n",
       "      <th>location_Bannerghatta Road</th>\n",
       "      <th>location_Basavanagudi</th>\n",
       "      <th>...</th>\n",
       "      <th>listed_in(city)_Lavelle Road</th>\n",
       "      <th>listed_in(city)_MG Road</th>\n",
       "      <th>listed_in(city)_Malleshwaram</th>\n",
       "      <th>listed_in(city)_Marathahalli</th>\n",
       "      <th>listed_in(city)_New BEL Road</th>\n",
       "      <th>listed_in(city)_Old Airport Road</th>\n",
       "      <th>listed_in(city)_Rajajinagar</th>\n",
       "      <th>listed_in(city)_Residency Road</th>\n",
       "      <th>listed_in(city)_Sarjapur Road</th>\n",
       "      <th>listed_in(city)_Whitefield</th>\n",
       "    </tr>\n",
       "  </thead>\n",
       "  <tbody>\n",
       "    <tr>\n",
       "      <th>0</th>\n",
       "      <td>800.0</td>\n",
       "      <td>1</td>\n",
       "      <td>3</td>\n",
       "      <td>1</td>\n",
       "      <td>1</td>\n",
       "      <td>1</td>\n",
       "      <td>1</td>\n",
       "      <td>0</td>\n",
       "      <td>0</td>\n",
       "      <td>0</td>\n",
       "      <td>...</td>\n",
       "      <td>0</td>\n",
       "      <td>0</td>\n",
       "      <td>0</td>\n",
       "      <td>0</td>\n",
       "      <td>0</td>\n",
       "      <td>0</td>\n",
       "      <td>0</td>\n",
       "      <td>0</td>\n",
       "      <td>0</td>\n",
       "      <td>0</td>\n",
       "    </tr>\n",
       "    <tr>\n",
       "      <th>1</th>\n",
       "      <td>800.0</td>\n",
       "      <td>1</td>\n",
       "      <td>3</td>\n",
       "      <td>1</td>\n",
       "      <td>1</td>\n",
       "      <td>0</td>\n",
       "      <td>1</td>\n",
       "      <td>0</td>\n",
       "      <td>0</td>\n",
       "      <td>0</td>\n",
       "      <td>...</td>\n",
       "      <td>0</td>\n",
       "      <td>0</td>\n",
       "      <td>0</td>\n",
       "      <td>0</td>\n",
       "      <td>0</td>\n",
       "      <td>0</td>\n",
       "      <td>0</td>\n",
       "      <td>0</td>\n",
       "      <td>0</td>\n",
       "      <td>0</td>\n",
       "    </tr>\n",
       "    <tr>\n",
       "      <th>2</th>\n",
       "      <td>800.0</td>\n",
       "      <td>1</td>\n",
       "      <td>3</td>\n",
       "      <td>2</td>\n",
       "      <td>1</td>\n",
       "      <td>0</td>\n",
       "      <td>1</td>\n",
       "      <td>0</td>\n",
       "      <td>0</td>\n",
       "      <td>0</td>\n",
       "      <td>...</td>\n",
       "      <td>0</td>\n",
       "      <td>0</td>\n",
       "      <td>0</td>\n",
       "      <td>0</td>\n",
       "      <td>0</td>\n",
       "      <td>0</td>\n",
       "      <td>0</td>\n",
       "      <td>0</td>\n",
       "      <td>0</td>\n",
       "      <td>0</td>\n",
       "    </tr>\n",
       "    <tr>\n",
       "      <th>3</th>\n",
       "      <td>300.0</td>\n",
       "      <td>0</td>\n",
       "      <td>2</td>\n",
       "      <td>1</td>\n",
       "      <td>0</td>\n",
       "      <td>0</td>\n",
       "      <td>1</td>\n",
       "      <td>0</td>\n",
       "      <td>0</td>\n",
       "      <td>0</td>\n",
       "      <td>...</td>\n",
       "      <td>0</td>\n",
       "      <td>0</td>\n",
       "      <td>0</td>\n",
       "      <td>0</td>\n",
       "      <td>0</td>\n",
       "      <td>0</td>\n",
       "      <td>0</td>\n",
       "      <td>0</td>\n",
       "      <td>0</td>\n",
       "      <td>0</td>\n",
       "    </tr>\n",
       "    <tr>\n",
       "      <th>4</th>\n",
       "      <td>600.0</td>\n",
       "      <td>1</td>\n",
       "      <td>2</td>\n",
       "      <td>1</td>\n",
       "      <td>0</td>\n",
       "      <td>0</td>\n",
       "      <td>0</td>\n",
       "      <td>0</td>\n",
       "      <td>0</td>\n",
       "      <td>1</td>\n",
       "      <td>...</td>\n",
       "      <td>0</td>\n",
       "      <td>0</td>\n",
       "      <td>0</td>\n",
       "      <td>0</td>\n",
       "      <td>0</td>\n",
       "      <td>0</td>\n",
       "      <td>0</td>\n",
       "      <td>0</td>\n",
       "      <td>0</td>\n",
       "      <td>0</td>\n",
       "    </tr>\n",
       "  </tbody>\n",
       "</table>\n",
       "<p>5 rows × 97 columns</p>\n",
       "</div>"
      ],
      "text/plain": [
       "   approx_cost(for two people)  target  total_cuisines  total_rest_type  \\\n",
       "0                        800.0       1               3                1   \n",
       "1                        800.0       1               3                1   \n",
       "2                        800.0       1               3                2   \n",
       "3                        300.0       0               2                1   \n",
       "4                        600.0       1               2                1   \n",
       "\n",
       "   online_order_Yes  book_table_Yes  location_Banashankari  \\\n",
       "0                 1               1                      1   \n",
       "1                 1               0                      1   \n",
       "2                 1               0                      1   \n",
       "3                 0               0                      1   \n",
       "4                 0               0                      0   \n",
       "\n",
       "   location_Banaswadi  location_Bannerghatta Road  location_Basavanagudi  ...  \\\n",
       "0                   0                           0                      0  ...   \n",
       "1                   0                           0                      0  ...   \n",
       "2                   0                           0                      0  ...   \n",
       "3                   0                           0                      0  ...   \n",
       "4                   0                           0                      1  ...   \n",
       "\n",
       "   listed_in(city)_Lavelle Road  listed_in(city)_MG Road  \\\n",
       "0                             0                        0   \n",
       "1                             0                        0   \n",
       "2                             0                        0   \n",
       "3                             0                        0   \n",
       "4                             0                        0   \n",
       "\n",
       "   listed_in(city)_Malleshwaram  listed_in(city)_Marathahalli  \\\n",
       "0                             0                             0   \n",
       "1                             0                             0   \n",
       "2                             0                             0   \n",
       "3                             0                             0   \n",
       "4                             0                             0   \n",
       "\n",
       "   listed_in(city)_New BEL Road  listed_in(city)_Old Airport Road  \\\n",
       "0                             0                                 0   \n",
       "1                             0                                 0   \n",
       "2                             0                                 0   \n",
       "3                             0                                 0   \n",
       "4                             0                                 0   \n",
       "\n",
       "   listed_in(city)_Rajajinagar  listed_in(city)_Residency Road  \\\n",
       "0                            0                               0   \n",
       "1                            0                               0   \n",
       "2                            0                               0   \n",
       "3                            0                               0   \n",
       "4                            0                               0   \n",
       "\n",
       "   listed_in(city)_Sarjapur Road  listed_in(city)_Whitefield  \n",
       "0                              0                           0  \n",
       "1                              0                           0  \n",
       "2                              0                           0  \n",
       "3                              0                           0  \n",
       "4                              0                           0  \n",
       "\n",
       "[5 rows x 97 columns]"
      ]
     },
     "execution_count": 136,
     "metadata": {},
     "output_type": "execute_result"
    }
   ],
   "source": [
    "data_final.head()"
   ]
  },
  {
   "cell_type": "code",
   "execution_count": 137,
   "metadata": {},
   "outputs": [],
   "source": [
    "x=data_final.drop('target',axis=1)\n",
    "y=data_final['target']"
   ]
  },
  {
   "cell_type": "code",
   "execution_count": 138,
   "metadata": {},
   "outputs": [],
   "source": [
    "from sklearn.model_selection import train_test_split "
   ]
  },
  {
   "cell_type": "code",
   "execution_count": 139,
   "metadata": {},
   "outputs": [],
   "source": [
    "x_train, x_test, y_train, y_test=train_test_split(x,y,test_size=0.30,random_state=7)"
   ]
  },
  {
   "cell_type": "code",
   "execution_count": 140,
   "metadata": {},
   "outputs": [],
   "source": [
    "from sklearn.ensemble import RandomForestClassifier"
   ]
  },
  {
   "cell_type": "code",
   "execution_count": 141,
   "metadata": {},
   "outputs": [],
   "source": [
    "rf=RandomForestClassifier()"
   ]
  },
  {
   "cell_type": "code",
   "execution_count": 142,
   "metadata": {},
   "outputs": [
    {
     "data": {
      "text/plain": [
       "RandomForestClassifier()"
      ]
     },
     "execution_count": 142,
     "metadata": {},
     "output_type": "execute_result"
    }
   ],
   "source": [
    "rf.fit(x_train,y_train)"
   ]
  },
  {
   "cell_type": "code",
   "execution_count": 143,
   "metadata": {},
   "outputs": [],
   "source": [
    "y_pred=rf.predict(x_test)"
   ]
  },
  {
   "cell_type": "code",
   "execution_count": 144,
   "metadata": {},
   "outputs": [
    {
     "data": {
      "text/plain": [
       "array([1, 1, 1, ..., 0, 0, 0], dtype=int64)"
      ]
     },
     "execution_count": 144,
     "metadata": {},
     "output_type": "execute_result"
    }
   ],
   "source": [
    "y_pred"
   ]
  },
  {
   "cell_type": "code",
   "execution_count": 145,
   "metadata": {},
   "outputs": [],
   "source": [
    "from sklearn.metrics import confusion_matrix,accuracy_score"
   ]
  },
  {
   "cell_type": "code",
   "execution_count": 146,
   "metadata": {},
   "outputs": [
    {
     "name": "stdout",
     "output_type": "stream",
     "text": [
      "Confusion Matrix:\n",
      "[[5304 1489]\n",
      " [1091 4498]]\n"
     ]
    }
   ],
   "source": [
    "print('Confusion Matrix:\\n{}'.format(confusion_matrix(y_pred,y_test)))"
   ]
  },
  {
   "cell_type": "code",
   "execution_count": 147,
   "metadata": {},
   "outputs": [
    {
     "name": "stdout",
     "output_type": "stream",
     "text": [
      "Model Accuracy Score is 0.791633015667905\n"
     ]
    }
   ],
   "source": [
    "print('Model Accuracy Score is {}'.format(accuracy_score(y_pred,y_test)))"
   ]
  },
  {
   "cell_type": "code",
   "execution_count": 148,
   "metadata": {},
   "outputs": [],
   "source": [
    "from sklearn.linear_model import LogisticRegression\n",
    "lr=LogisticRegression(random_state=7)"
   ]
  },
  {
   "cell_type": "code",
   "execution_count": 149,
   "metadata": {},
   "outputs": [
    {
     "data": {
      "text/plain": [
       "LogisticRegression(random_state=7)"
      ]
     },
     "execution_count": 149,
     "metadata": {},
     "output_type": "execute_result"
    }
   ],
   "source": [
    "lr.fit(x_train,y_train)"
   ]
  },
  {
   "cell_type": "code",
   "execution_count": 150,
   "metadata": {},
   "outputs": [],
   "source": [
    "y_pred1=lr.predict(x_test)"
   ]
  },
  {
   "cell_type": "code",
   "execution_count": 151,
   "metadata": {},
   "outputs": [
    {
     "data": {
      "text/plain": [
       "array([0, 0, 1, ..., 0, 0, 0], dtype=int64)"
      ]
     },
     "execution_count": 151,
     "metadata": {},
     "output_type": "execute_result"
    }
   ],
   "source": [
    "y_pred1"
   ]
  },
  {
   "cell_type": "code",
   "execution_count": 152,
   "metadata": {},
   "outputs": [
    {
     "name": "stdout",
     "output_type": "stream",
     "text": [
      "Confusion Matrix:\n",
      "[[5231 2389]\n",
      " [1164 3598]]\n"
     ]
    }
   ],
   "source": [
    "print('Confusion Matrix:\\n{}'.format(confusion_matrix(y_pred1,y_test)))"
   ]
  },
  {
   "cell_type": "code",
   "execution_count": 153,
   "metadata": {},
   "outputs": [
    {
     "name": "stdout",
     "output_type": "stream",
     "text": [
      "Model Accuracy Score is 0.7130512033597157\n"
     ]
    }
   ],
   "source": [
    "print('Model Accuracy Score is {}'.format(accuracy_score(y_pred1,y_test)))"
   ]
  },
  {
   "cell_type": "code",
   "execution_count": 154,
   "metadata": {},
   "outputs": [],
   "source": [
    "from sklearn.tree import DecisionTreeClassifier\n",
    "dt=DecisionTreeClassifier()\n",
    "dt.fit(x_train,y_train)\n",
    "y_pred2=dt.predict(x_test)"
   ]
  },
  {
   "cell_type": "code",
   "execution_count": 155,
   "metadata": {},
   "outputs": [
    {
     "name": "stdout",
     "output_type": "stream",
     "text": [
      "Confusion Matrix:\n",
      "[[5468 1294]\n",
      " [ 927 4693]]\n",
      "Model Accuracy Score is 0.8206267162009369\n"
     ]
    }
   ],
   "source": [
    "print('Confusion Matrix:\\n{}'.format(confusion_matrix(y_pred2,y_test)))\n",
    "print('Model Accuracy Score is {}'.format(accuracy_score(y_pred2,y_test)))"
   ]
  },
  {
   "cell_type": "code",
   "execution_count": 158,
   "metadata": {},
   "outputs": [],
   "source": [
    "from sklearn.naive_bayes import GaussianNB\n",
    "from sklearn.neighbors import KNeighborsClassifier\n",
    "from xgboost import XGBClassifier"
   ]
  },
  {
   "cell_type": "code",
   "execution_count": 159,
   "metadata": {},
   "outputs": [],
   "source": [
    "models=[]\n",
    "models.append(('Naive bayes',GaussianNB()))\n",
    "models.append(('KNN',KNeighborsClassifier()))\n",
    "models.append(('Xgboost',XGBClassifier()))"
   ]
  },
  {
   "cell_type": "code",
   "execution_count": 163,
   "metadata": {},
   "outputs": [
    {
     "name": "stdout",
     "output_type": "stream",
     "text": [
      "Naive bayes\n",
      "Confusion Matrix: \n",
      "[[4590 2140]\n",
      " [1805 3847]]\n",
      "Accuracy Score:\n",
      "0.6813923437247618\n",
      "\n",
      "\n",
      "KNN\n",
      "Confusion Matrix: \n",
      "[[5453 1569]\n",
      " [ 942 4418]]\n",
      "Accuracy Score:\n",
      "0.7972056210628331\n",
      "\n",
      "\n",
      "Xgboost\n",
      "[12:19:43] WARNING: C:/Users/Administrator/workspace/xgboost-win64_release_1.4.0/src/learner.cc:1095: Starting in XGBoost 1.3.0, the default evaluation metric used with the objective 'binary:logistic' was changed from 'error' to 'logloss'. Explicitly set eval_metric if you'd like to restore the old behavior.\n",
      "Confusion Matrix: \n",
      "[[5681 1768]\n",
      " [ 714 4219]]\n",
      "Accuracy Score:\n",
      "0.7995477305766435\n",
      "\n",
      "\n"
     ]
    }
   ],
   "source": [
    "for name,model in models:\n",
    "    print(name)\n",
    "    model.fit(x_train,y_train)\n",
    "    prediction=model.predict(x_test)\n",
    "    cm=confusion_matrix(prediction,y_test)\n",
    "    print(\"Confusion Matrix: \\n{}\".format(cm))\n",
    "    acc=accuracy_score(prediction,y_test)\n",
    "    print(\"Accuracy Score:\\n{}\".format(acc))\n",
    "    print('\\n')"
   ]
  },
  {
   "cell_type": "code",
   "execution_count": null,
   "metadata": {},
   "outputs": [],
   "source": []
  }
 ],
 "metadata": {
  "kernelspec": {
   "display_name": "Python 3",
   "language": "python",
   "name": "python3"
  },
  "language_info": {
   "codemirror_mode": {
    "name": "ipython",
    "version": 3
   },
   "file_extension": ".py",
   "mimetype": "text/x-python",
   "name": "python",
   "nbconvert_exporter": "python",
   "pygments_lexer": "ipython3",
   "version": "3.7.6"
  }
 },
 "nbformat": 4,
 "nbformat_minor": 4
}
